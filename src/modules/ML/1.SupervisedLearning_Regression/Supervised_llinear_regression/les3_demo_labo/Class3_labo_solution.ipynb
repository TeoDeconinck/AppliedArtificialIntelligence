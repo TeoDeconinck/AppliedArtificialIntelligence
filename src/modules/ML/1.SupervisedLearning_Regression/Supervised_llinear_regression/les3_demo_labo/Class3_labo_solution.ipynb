{
 "cells": [
  {
   "cell_type": "markdown",
   "metadata": {},
   "source": [
    "# Supervised learning- regression- knn and penalisation\n",
    "\n",
    "We work further on the same dataset as last labo: the housing dataset. The first steps (looking at the data, test/train-split and standardisation are already done for you in the code below."
   ]
  },
  {
   "cell_type": "markdown",
   "metadata": {},
   "source": [
    "## 0. Loading packages and dataset"
   ]
  },
  {
   "cell_type": "code",
   "execution_count": 18,
   "metadata": {
    "ExecuteTime": {
     "end_time": "2025-04-11T08:09:46.104337900Z",
     "start_time": "2025-04-11T08:09:45.778787200Z"
    }
   },
   "outputs": [],
   "source": [
    "%matplotlib inline\n",
    "import numpy as np\n",
    "import pandas as pd\n",
    "import matplotlib as mpl\n",
    "import matplotlib.pyplot as plt\n",
    "import seaborn as sns\n",
    "\n",
    "df = pd.read_csv('real_estate_cleaned.csv')"
   ]
  },
  {
   "cell_type": "markdown",
   "metadata": {},
   "source": [
    "# 1. Take a look at the data"
   ]
  },
  {
   "cell_type": "code",
   "execution_count": 19,
   "metadata": {
    "ExecuteTime": {
     "end_time": "2025-04-11T08:09:46.290534900Z",
     "start_time": "2025-04-11T08:09:45.790782700Z"
    }
   },
   "outputs": [
    {
     "data": {
      "text/plain": "(803, 39)"
     },
     "execution_count": 19,
     "metadata": {},
     "output_type": "execute_result"
    }
   ],
   "source": [
    "df.shape"
   ]
  },
  {
   "cell_type": "code",
   "execution_count": 20,
   "metadata": {
    "ExecuteTime": {
     "end_time": "2025-04-11T08:09:46.296950800Z",
     "start_time": "2025-04-11T08:09:45.805910300Z"
    }
   },
   "outputs": [
    {
     "data": {
      "text/plain": "    tx_price  beds  baths      sqft  year_built   lot_size  restaurants  \\\n0  12.597611     1      1  6.371612        2013   8.388054     4.682131   \n1  12.285350     1      1  6.418365        1965   8.388054     4.663439   \n2  12.542191     1      1  6.423247        1963   8.388054     5.214936   \n3  12.847666     1      1  6.428105        2000  10.420554     5.293305   \n4  12.736704     1      1  6.453625        1992   8.388054     5.010635   \n\n   groceries  nightlife     cafes  ...  exterior_walls_Siding (Alum/Vinyl)  \\\n0   2.302585   3.433987  2.995732  ...                                   0   \n1   2.772589   1.945910  2.639057  ...                                   0   \n2   2.639057   3.465736  3.433987  ...                                   0   \n3   2.302585   3.663562  3.258097  ...                                   0   \n4   2.079442   3.135494  3.044522  ...                                   0   \n\n   exterior_walls_Wood  roof_Asphalt  roof_Composition  roof_Gravel/rock  \\\n0                    1             0                 0                 0   \n1                    0             0                 1                 0   \n2                    1             0                 0                 0   \n3                    1             0                 0                 0   \n4                    0             0                 0                 0   \n\n   roof_Missing  roof_Other  roof_Shake shingle  basement_1.0  \\\n0             1           0                   0             0   \n1             0           0                   0             1   \n2             1           0                   0             0   \n3             1           0                   0             0   \n4             1           0                   0             0   \n\n   basement_Missing  \n0                 1  \n1                 0  \n2                 1  \n3                 1  \n4                 1  \n\n[5 rows x 39 columns]",
      "text/html": "<div>\n<style scoped>\n    .dataframe tbody tr th:only-of-type {\n        vertical-align: middle;\n    }\n\n    .dataframe tbody tr th {\n        vertical-align: top;\n    }\n\n    .dataframe thead th {\n        text-align: right;\n    }\n</style>\n<table border=\"1\" class=\"dataframe\">\n  <thead>\n    <tr style=\"text-align: right;\">\n      <th></th>\n      <th>tx_price</th>\n      <th>beds</th>\n      <th>baths</th>\n      <th>sqft</th>\n      <th>year_built</th>\n      <th>lot_size</th>\n      <th>restaurants</th>\n      <th>groceries</th>\n      <th>nightlife</th>\n      <th>cafes</th>\n      <th>...</th>\n      <th>exterior_walls_Siding (Alum/Vinyl)</th>\n      <th>exterior_walls_Wood</th>\n      <th>roof_Asphalt</th>\n      <th>roof_Composition</th>\n      <th>roof_Gravel/rock</th>\n      <th>roof_Missing</th>\n      <th>roof_Other</th>\n      <th>roof_Shake shingle</th>\n      <th>basement_1.0</th>\n      <th>basement_Missing</th>\n    </tr>\n  </thead>\n  <tbody>\n    <tr>\n      <th>0</th>\n      <td>12.597611</td>\n      <td>1</td>\n      <td>1</td>\n      <td>6.371612</td>\n      <td>2013</td>\n      <td>8.388054</td>\n      <td>4.682131</td>\n      <td>2.302585</td>\n      <td>3.433987</td>\n      <td>2.995732</td>\n      <td>...</td>\n      <td>0</td>\n      <td>1</td>\n      <td>0</td>\n      <td>0</td>\n      <td>0</td>\n      <td>1</td>\n      <td>0</td>\n      <td>0</td>\n      <td>0</td>\n      <td>1</td>\n    </tr>\n    <tr>\n      <th>1</th>\n      <td>12.285350</td>\n      <td>1</td>\n      <td>1</td>\n      <td>6.418365</td>\n      <td>1965</td>\n      <td>8.388054</td>\n      <td>4.663439</td>\n      <td>2.772589</td>\n      <td>1.945910</td>\n      <td>2.639057</td>\n      <td>...</td>\n      <td>0</td>\n      <td>0</td>\n      <td>0</td>\n      <td>1</td>\n      <td>0</td>\n      <td>0</td>\n      <td>0</td>\n      <td>0</td>\n      <td>1</td>\n      <td>0</td>\n    </tr>\n    <tr>\n      <th>2</th>\n      <td>12.542191</td>\n      <td>1</td>\n      <td>1</td>\n      <td>6.423247</td>\n      <td>1963</td>\n      <td>8.388054</td>\n      <td>5.214936</td>\n      <td>2.639057</td>\n      <td>3.465736</td>\n      <td>3.433987</td>\n      <td>...</td>\n      <td>0</td>\n      <td>1</td>\n      <td>0</td>\n      <td>0</td>\n      <td>0</td>\n      <td>1</td>\n      <td>0</td>\n      <td>0</td>\n      <td>0</td>\n      <td>1</td>\n    </tr>\n    <tr>\n      <th>3</th>\n      <td>12.847666</td>\n      <td>1</td>\n      <td>1</td>\n      <td>6.428105</td>\n      <td>2000</td>\n      <td>10.420554</td>\n      <td>5.293305</td>\n      <td>2.302585</td>\n      <td>3.663562</td>\n      <td>3.258097</td>\n      <td>...</td>\n      <td>0</td>\n      <td>1</td>\n      <td>0</td>\n      <td>0</td>\n      <td>0</td>\n      <td>1</td>\n      <td>0</td>\n      <td>0</td>\n      <td>0</td>\n      <td>1</td>\n    </tr>\n    <tr>\n      <th>4</th>\n      <td>12.736704</td>\n      <td>1</td>\n      <td>1</td>\n      <td>6.453625</td>\n      <td>1992</td>\n      <td>8.388054</td>\n      <td>5.010635</td>\n      <td>2.079442</td>\n      <td>3.135494</td>\n      <td>3.044522</td>\n      <td>...</td>\n      <td>0</td>\n      <td>0</td>\n      <td>0</td>\n      <td>0</td>\n      <td>0</td>\n      <td>1</td>\n      <td>0</td>\n      <td>0</td>\n      <td>0</td>\n      <td>1</td>\n    </tr>\n  </tbody>\n</table>\n<p>5 rows × 39 columns</p>\n</div>"
     },
     "execution_count": 20,
     "metadata": {},
     "output_type": "execute_result"
    }
   ],
   "source": [
    "df.head()"
   ]
  },
  {
   "cell_type": "code",
   "execution_count": 21,
   "metadata": {
    "ExecuteTime": {
     "end_time": "2025-04-11T08:09:46.316948900Z",
     "start_time": "2025-04-11T08:09:45.820908600Z"
    }
   },
   "outputs": [
    {
     "name": "stdout",
     "output_type": "stream",
     "text": [
      "<class 'pandas.core.frame.DataFrame'>\n",
      "RangeIndex: 803 entries, 0 to 802\n",
      "Data columns (total 39 columns):\n",
      " #   Column                              Non-Null Count  Dtype  \n",
      "---  ------                              --------------  -----  \n",
      " 0   tx_price                            803 non-null    float64\n",
      " 1   beds                                803 non-null    int64  \n",
      " 2   baths                               803 non-null    int64  \n",
      " 3   sqft                                803 non-null    float64\n",
      " 4   year_built                          803 non-null    int64  \n",
      " 5   lot_size                            803 non-null    float64\n",
      " 6   restaurants                         803 non-null    float64\n",
      " 7   groceries                           803 non-null    float64\n",
      " 8   nightlife                           803 non-null    float64\n",
      " 9   cafes                               803 non-null    float64\n",
      " 10  shopping                            803 non-null    float64\n",
      " 11  arts_entertainment                  803 non-null    float64\n",
      " 12  beauty_spas                         803 non-null    float64\n",
      " 13  active_life                         803 non-null    float64\n",
      " 14  median_age                          803 non-null    float64\n",
      " 15  married                             803 non-null    float64\n",
      " 16  college_grad                        803 non-null    float64\n",
      " 17  property_tax                        803 non-null    float64\n",
      " 18  insurance                           803 non-null    float64\n",
      " 19  median_school                       803 non-null    float64\n",
      " 20  num_schools                         803 non-null    float64\n",
      " 21  tx_year                             803 non-null    int64  \n",
      " 22  Missing_lot_size                    803 non-null    bool   \n",
      " 23  school_score                        803 non-null    float64\n",
      " 24  tax_per_sqft                        803 non-null    float64\n",
      " 25  exterior_walls_Brick                803 non-null    int64  \n",
      " 26  exterior_walls_Metal                803 non-null    int64  \n",
      " 27  exterior_walls_Missing              803 non-null    int64  \n",
      " 28  exterior_walls_Other                803 non-null    int64  \n",
      " 29  exterior_walls_Siding (Alum/Vinyl)  803 non-null    int64  \n",
      " 30  exterior_walls_Wood                 803 non-null    int64  \n",
      " 31  roof_Asphalt                        803 non-null    int64  \n",
      " 32  roof_Composition                    803 non-null    int64  \n",
      " 33  roof_Gravel/rock                    803 non-null    int64  \n",
      " 34  roof_Missing                        803 non-null    int64  \n",
      " 35  roof_Other                          803 non-null    int64  \n",
      " 36  roof_Shake shingle                  803 non-null    int64  \n",
      " 37  basement_1.0                        803 non-null    int64  \n",
      " 38  basement_Missing                    803 non-null    int64  \n",
      "dtypes: bool(1), float64(20), int64(18)\n",
      "memory usage: 239.3 KB\n"
     ]
    }
   ],
   "source": [
    "df.info()"
   ]
  },
  {
   "cell_type": "markdown",
   "metadata": {},
   "source": [
    "# 2 Train/test-split and standardisation\n"
   ]
  },
  {
   "cell_type": "code",
   "execution_count": 22,
   "metadata": {
    "ExecuteTime": {
     "end_time": "2025-04-11T08:09:46.316948900Z",
     "start_time": "2025-04-11T08:09:45.837422100Z"
    }
   },
   "outputs": [],
   "source": [
    "# shuffle\n",
    "from random import Random\n",
    "df_shuffle = df.sample(frac=1, random_state=123)\n",
    "\n",
    "# split\n",
    "from sklearn.model_selection import train_test_split\n",
    "\n",
    "X = df_shuffle.drop(columns='tx_price')\n",
    "y = df_shuffle['tx_price']\n",
    "\n",
    "X_train, X_test, y_train, y_test = train_test_split(X, y, test_size=0.2, random_state=123)\n",
    "\n",
    "# standardise\n",
    "from sklearn.preprocessing import StandardScaler\n",
    "\n",
    "num_feat = X_train.select_dtypes(include=['int64', 'float64']).columns\n",
    "\n",
    "scaler = StandardScaler()\n",
    "scaler.fit(X_train[num_feat])\n",
    "\n",
    "\n",
    "X_train_stan = X_train.copy()\n",
    "X_test_stan = X_test.copy()\n",
    "X_train_stan[num_feat] = scaler.transform(X_train[num_feat])\n",
    "X_test_stan[num_feat] = scaler.transform(X_test[num_feat])\n",
    "\n"
   ]
  },
  {
   "cell_type": "markdown",
   "metadata": {},
   "source": [
    "# 3. Nearest neighbors\n",
    "## 3.1. Radius Neighbors Regression\n",
    "\n",
    "1. Perform a crossvalidation, using radius neighbors regression, with the radius ranging from 1 to 10\n",
    "    + Does it work?\n",
    "    + Why (not)?\n",
    "2. Search for the minimum radius that does work and do a crossvalidation with 10 values. \n",
    "    + E.g if it works at radius 5, let the radius range from 5 to 15.\n",
    "    + Draw a plot that plots the radius against the R2\n",
    "    + Is your best model a good model: is it underfitted or overfitted?\n",
    "    + Is RNN a good method to use when there are a lot of features?"
   ]
  },
  {
   "cell_type": "markdown",
   "metadata": {},
   "source": [
    "1. Crossvalidation from 1 to 10."
   ]
  },
  {
   "cell_type": "code",
   "execution_count": 23,
   "metadata": {
    "scrolled": false,
    "ExecuteTime": {
     "end_time": "2025-04-11T08:09:46.433940900Z",
     "start_time": "2025-04-11T08:09:45.852421500Z"
    }
   },
   "outputs": [
    {
     "name": "stderr",
     "output_type": "stream",
     "text": [
      "C:\\Users\\teode\\IdeaProjects\\AppliedArtificialIntelligence\\venv\\lib\\site-packages\\sklearn\\neighbors\\_regression.py:508: UserWarning: One or more samples have no neighbors within specified radius; predicting NaN.\n",
      "  warnings.warn(empty_warning_msg)\n",
      "C:\\Users\\teode\\IdeaProjects\\AppliedArtificialIntelligence\\venv\\lib\\site-packages\\sklearn\\model_selection\\_validation.py:978: UserWarning: Scoring failed. The score on this train-test partition for these parameters will be set to nan. Details: \n",
      "Traceback (most recent call last):\n",
      "  File \"C:\\Users\\teode\\IdeaProjects\\AppliedArtificialIntelligence\\venv\\lib\\site-packages\\sklearn\\metrics\\_scorer.py\", line 144, in __call__\n",
      "    score = scorer(estimator, *args, **routed_params.get(name).score)\n",
      "  File \"C:\\Users\\teode\\IdeaProjects\\AppliedArtificialIntelligence\\venv\\lib\\site-packages\\sklearn\\metrics\\_scorer.py\", line 472, in __call__\n",
      "    return estimator.score(*args, **kwargs)\n",
      "  File \"C:\\Users\\teode\\IdeaProjects\\AppliedArtificialIntelligence\\venv\\lib\\site-packages\\sklearn\\base.py\", line 663, in score\n",
      "    return r2_score(y, y_pred, sample_weight=sample_weight)\n",
      "  File \"C:\\Users\\teode\\IdeaProjects\\AppliedArtificialIntelligence\\venv\\lib\\site-packages\\sklearn\\utils\\_param_validation.py\", line 216, in wrapper\n",
      "    return func(*args, **kwargs)\n",
      "  File \"C:\\Users\\teode\\IdeaProjects\\AppliedArtificialIntelligence\\venv\\lib\\site-packages\\sklearn\\metrics\\_regression.py\", line 1257, in r2_score\n",
      "    _check_reg_targets_with_floating_dtype(\n",
      "  File \"C:\\Users\\teode\\IdeaProjects\\AppliedArtificialIntelligence\\venv\\lib\\site-packages\\sklearn\\metrics\\_regression.py\", line 198, in _check_reg_targets_with_floating_dtype\n",
      "    y_type, y_true, y_pred, multioutput = _check_reg_targets(\n",
      "  File \"C:\\Users\\teode\\IdeaProjects\\AppliedArtificialIntelligence\\venv\\lib\\site-packages\\sklearn\\metrics\\_regression.py\", line 106, in _check_reg_targets\n",
      "    y_pred = check_array(y_pred, ensure_2d=False, dtype=dtype)\n",
      "  File \"C:\\Users\\teode\\IdeaProjects\\AppliedArtificialIntelligence\\venv\\lib\\site-packages\\sklearn\\utils\\validation.py\", line 1107, in check_array\n",
      "    _assert_all_finite(\n",
      "  File \"C:\\Users\\teode\\IdeaProjects\\AppliedArtificialIntelligence\\venv\\lib\\site-packages\\sklearn\\utils\\validation.py\", line 120, in _assert_all_finite\n",
      "    _assert_all_finite_element_wise(\n",
      "  File \"C:\\Users\\teode\\IdeaProjects\\AppliedArtificialIntelligence\\venv\\lib\\site-packages\\sklearn\\utils\\validation.py\", line 169, in _assert_all_finite_element_wise\n",
      "    raise ValueError(msg_err)\n",
      "ValueError: Input contains NaN.\n",
      "\n",
      "  warnings.warn(\n",
      "C:\\Users\\teode\\IdeaProjects\\AppliedArtificialIntelligence\\venv\\lib\\site-packages\\sklearn\\neighbors\\_regression.py:508: UserWarning: One or more samples have no neighbors within specified radius; predicting NaN.\n",
      "  warnings.warn(empty_warning_msg)\n",
      "C:\\Users\\teode\\IdeaProjects\\AppliedArtificialIntelligence\\venv\\lib\\site-packages\\sklearn\\model_selection\\_validation.py:978: UserWarning: Scoring failed. The score on this train-test partition for these parameters will be set to nan. Details: \n",
      "Traceback (most recent call last):\n",
      "  File \"C:\\Users\\teode\\IdeaProjects\\AppliedArtificialIntelligence\\venv\\lib\\site-packages\\sklearn\\metrics\\_scorer.py\", line 144, in __call__\n",
      "    score = scorer(estimator, *args, **routed_params.get(name).score)\n",
      "  File \"C:\\Users\\teode\\IdeaProjects\\AppliedArtificialIntelligence\\venv\\lib\\site-packages\\sklearn\\metrics\\_scorer.py\", line 472, in __call__\n",
      "    return estimator.score(*args, **kwargs)\n",
      "  File \"C:\\Users\\teode\\IdeaProjects\\AppliedArtificialIntelligence\\venv\\lib\\site-packages\\sklearn\\base.py\", line 663, in score\n",
      "    return r2_score(y, y_pred, sample_weight=sample_weight)\n",
      "  File \"C:\\Users\\teode\\IdeaProjects\\AppliedArtificialIntelligence\\venv\\lib\\site-packages\\sklearn\\utils\\_param_validation.py\", line 216, in wrapper\n",
      "    return func(*args, **kwargs)\n",
      "  File \"C:\\Users\\teode\\IdeaProjects\\AppliedArtificialIntelligence\\venv\\lib\\site-packages\\sklearn\\metrics\\_regression.py\", line 1257, in r2_score\n",
      "    _check_reg_targets_with_floating_dtype(\n",
      "  File \"C:\\Users\\teode\\IdeaProjects\\AppliedArtificialIntelligence\\venv\\lib\\site-packages\\sklearn\\metrics\\_regression.py\", line 198, in _check_reg_targets_with_floating_dtype\n",
      "    y_type, y_true, y_pred, multioutput = _check_reg_targets(\n",
      "  File \"C:\\Users\\teode\\IdeaProjects\\AppliedArtificialIntelligence\\venv\\lib\\site-packages\\sklearn\\metrics\\_regression.py\", line 106, in _check_reg_targets\n",
      "    y_pred = check_array(y_pred, ensure_2d=False, dtype=dtype)\n",
      "  File \"C:\\Users\\teode\\IdeaProjects\\AppliedArtificialIntelligence\\venv\\lib\\site-packages\\sklearn\\utils\\validation.py\", line 1107, in check_array\n",
      "    _assert_all_finite(\n",
      "  File \"C:\\Users\\teode\\IdeaProjects\\AppliedArtificialIntelligence\\venv\\lib\\site-packages\\sklearn\\utils\\validation.py\", line 120, in _assert_all_finite\n",
      "    _assert_all_finite_element_wise(\n",
      "  File \"C:\\Users\\teode\\IdeaProjects\\AppliedArtificialIntelligence\\venv\\lib\\site-packages\\sklearn\\utils\\validation.py\", line 169, in _assert_all_finite_element_wise\n",
      "    raise ValueError(msg_err)\n",
      "ValueError: Input contains NaN.\n",
      "\n",
      "  warnings.warn(\n",
      "C:\\Users\\teode\\IdeaProjects\\AppliedArtificialIntelligence\\venv\\lib\\site-packages\\sklearn\\neighbors\\_regression.py:508: UserWarning: One or more samples have no neighbors within specified radius; predicting NaN.\n",
      "  warnings.warn(empty_warning_msg)\n",
      "C:\\Users\\teode\\IdeaProjects\\AppliedArtificialIntelligence\\venv\\lib\\site-packages\\sklearn\\model_selection\\_validation.py:978: UserWarning: Scoring failed. The score on this train-test partition for these parameters will be set to nan. Details: \n",
      "Traceback (most recent call last):\n",
      "  File \"C:\\Users\\teode\\IdeaProjects\\AppliedArtificialIntelligence\\venv\\lib\\site-packages\\sklearn\\metrics\\_scorer.py\", line 144, in __call__\n",
      "    score = scorer(estimator, *args, **routed_params.get(name).score)\n",
      "  File \"C:\\Users\\teode\\IdeaProjects\\AppliedArtificialIntelligence\\venv\\lib\\site-packages\\sklearn\\metrics\\_scorer.py\", line 472, in __call__\n",
      "    return estimator.score(*args, **kwargs)\n",
      "  File \"C:\\Users\\teode\\IdeaProjects\\AppliedArtificialIntelligence\\venv\\lib\\site-packages\\sklearn\\base.py\", line 663, in score\n",
      "    return r2_score(y, y_pred, sample_weight=sample_weight)\n",
      "  File \"C:\\Users\\teode\\IdeaProjects\\AppliedArtificialIntelligence\\venv\\lib\\site-packages\\sklearn\\utils\\_param_validation.py\", line 216, in wrapper\n",
      "    return func(*args, **kwargs)\n",
      "  File \"C:\\Users\\teode\\IdeaProjects\\AppliedArtificialIntelligence\\venv\\lib\\site-packages\\sklearn\\metrics\\_regression.py\", line 1257, in r2_score\n",
      "    _check_reg_targets_with_floating_dtype(\n",
      "  File \"C:\\Users\\teode\\IdeaProjects\\AppliedArtificialIntelligence\\venv\\lib\\site-packages\\sklearn\\metrics\\_regression.py\", line 198, in _check_reg_targets_with_floating_dtype\n",
      "    y_type, y_true, y_pred, multioutput = _check_reg_targets(\n",
      "  File \"C:\\Users\\teode\\IdeaProjects\\AppliedArtificialIntelligence\\venv\\lib\\site-packages\\sklearn\\metrics\\_regression.py\", line 106, in _check_reg_targets\n",
      "    y_pred = check_array(y_pred, ensure_2d=False, dtype=dtype)\n",
      "  File \"C:\\Users\\teode\\IdeaProjects\\AppliedArtificialIntelligence\\venv\\lib\\site-packages\\sklearn\\utils\\validation.py\", line 1107, in check_array\n",
      "    _assert_all_finite(\n",
      "  File \"C:\\Users\\teode\\IdeaProjects\\AppliedArtificialIntelligence\\venv\\lib\\site-packages\\sklearn\\utils\\validation.py\", line 120, in _assert_all_finite\n",
      "    _assert_all_finite_element_wise(\n",
      "  File \"C:\\Users\\teode\\IdeaProjects\\AppliedArtificialIntelligence\\venv\\lib\\site-packages\\sklearn\\utils\\validation.py\", line 169, in _assert_all_finite_element_wise\n",
      "    raise ValueError(msg_err)\n",
      "ValueError: Input contains NaN.\n",
      "\n",
      "  warnings.warn(\n",
      "C:\\Users\\teode\\IdeaProjects\\AppliedArtificialIntelligence\\venv\\lib\\site-packages\\sklearn\\neighbors\\_regression.py:508: UserWarning: One or more samples have no neighbors within specified radius; predicting NaN.\n",
      "  warnings.warn(empty_warning_msg)\n",
      "C:\\Users\\teode\\IdeaProjects\\AppliedArtificialIntelligence\\venv\\lib\\site-packages\\sklearn\\model_selection\\_validation.py:978: UserWarning: Scoring failed. The score on this train-test partition for these parameters will be set to nan. Details: \n",
      "Traceback (most recent call last):\n",
      "  File \"C:\\Users\\teode\\IdeaProjects\\AppliedArtificialIntelligence\\venv\\lib\\site-packages\\sklearn\\metrics\\_scorer.py\", line 144, in __call__\n",
      "    score = scorer(estimator, *args, **routed_params.get(name).score)\n",
      "  File \"C:\\Users\\teode\\IdeaProjects\\AppliedArtificialIntelligence\\venv\\lib\\site-packages\\sklearn\\metrics\\_scorer.py\", line 472, in __call__\n",
      "    return estimator.score(*args, **kwargs)\n",
      "  File \"C:\\Users\\teode\\IdeaProjects\\AppliedArtificialIntelligence\\venv\\lib\\site-packages\\sklearn\\base.py\", line 663, in score\n",
      "    return r2_score(y, y_pred, sample_weight=sample_weight)\n",
      "  File \"C:\\Users\\teode\\IdeaProjects\\AppliedArtificialIntelligence\\venv\\lib\\site-packages\\sklearn\\utils\\_param_validation.py\", line 216, in wrapper\n",
      "    return func(*args, **kwargs)\n",
      "  File \"C:\\Users\\teode\\IdeaProjects\\AppliedArtificialIntelligence\\venv\\lib\\site-packages\\sklearn\\metrics\\_regression.py\", line 1257, in r2_score\n",
      "    _check_reg_targets_with_floating_dtype(\n",
      "  File \"C:\\Users\\teode\\IdeaProjects\\AppliedArtificialIntelligence\\venv\\lib\\site-packages\\sklearn\\metrics\\_regression.py\", line 198, in _check_reg_targets_with_floating_dtype\n",
      "    y_type, y_true, y_pred, multioutput = _check_reg_targets(\n",
      "  File \"C:\\Users\\teode\\IdeaProjects\\AppliedArtificialIntelligence\\venv\\lib\\site-packages\\sklearn\\metrics\\_regression.py\", line 106, in _check_reg_targets\n",
      "    y_pred = check_array(y_pred, ensure_2d=False, dtype=dtype)\n",
      "  File \"C:\\Users\\teode\\IdeaProjects\\AppliedArtificialIntelligence\\venv\\lib\\site-packages\\sklearn\\utils\\validation.py\", line 1107, in check_array\n",
      "    _assert_all_finite(\n",
      "  File \"C:\\Users\\teode\\IdeaProjects\\AppliedArtificialIntelligence\\venv\\lib\\site-packages\\sklearn\\utils\\validation.py\", line 120, in _assert_all_finite\n",
      "    _assert_all_finite_element_wise(\n",
      "  File \"C:\\Users\\teode\\IdeaProjects\\AppliedArtificialIntelligence\\venv\\lib\\site-packages\\sklearn\\utils\\validation.py\", line 169, in _assert_all_finite_element_wise\n",
      "    raise ValueError(msg_err)\n",
      "ValueError: Input contains NaN.\n",
      "\n",
      "  warnings.warn(\n",
      "C:\\Users\\teode\\IdeaProjects\\AppliedArtificialIntelligence\\venv\\lib\\site-packages\\sklearn\\neighbors\\_regression.py:508: UserWarning: One or more samples have no neighbors within specified radius; predicting NaN.\n",
      "  warnings.warn(empty_warning_msg)\n",
      "C:\\Users\\teode\\IdeaProjects\\AppliedArtificialIntelligence\\venv\\lib\\site-packages\\sklearn\\model_selection\\_validation.py:978: UserWarning: Scoring failed. The score on this train-test partition for these parameters will be set to nan. Details: \n",
      "Traceback (most recent call last):\n",
      "  File \"C:\\Users\\teode\\IdeaProjects\\AppliedArtificialIntelligence\\venv\\lib\\site-packages\\sklearn\\metrics\\_scorer.py\", line 144, in __call__\n",
      "    score = scorer(estimator, *args, **routed_params.get(name).score)\n",
      "  File \"C:\\Users\\teode\\IdeaProjects\\AppliedArtificialIntelligence\\venv\\lib\\site-packages\\sklearn\\metrics\\_scorer.py\", line 472, in __call__\n",
      "    return estimator.score(*args, **kwargs)\n",
      "  File \"C:\\Users\\teode\\IdeaProjects\\AppliedArtificialIntelligence\\venv\\lib\\site-packages\\sklearn\\base.py\", line 663, in score\n",
      "    return r2_score(y, y_pred, sample_weight=sample_weight)\n",
      "  File \"C:\\Users\\teode\\IdeaProjects\\AppliedArtificialIntelligence\\venv\\lib\\site-packages\\sklearn\\utils\\_param_validation.py\", line 216, in wrapper\n",
      "    return func(*args, **kwargs)\n",
      "  File \"C:\\Users\\teode\\IdeaProjects\\AppliedArtificialIntelligence\\venv\\lib\\site-packages\\sklearn\\metrics\\_regression.py\", line 1257, in r2_score\n",
      "    _check_reg_targets_with_floating_dtype(\n",
      "  File \"C:\\Users\\teode\\IdeaProjects\\AppliedArtificialIntelligence\\venv\\lib\\site-packages\\sklearn\\metrics\\_regression.py\", line 198, in _check_reg_targets_with_floating_dtype\n",
      "    y_type, y_true, y_pred, multioutput = _check_reg_targets(\n",
      "  File \"C:\\Users\\teode\\IdeaProjects\\AppliedArtificialIntelligence\\venv\\lib\\site-packages\\sklearn\\metrics\\_regression.py\", line 106, in _check_reg_targets\n",
      "    y_pred = check_array(y_pred, ensure_2d=False, dtype=dtype)\n",
      "  File \"C:\\Users\\teode\\IdeaProjects\\AppliedArtificialIntelligence\\venv\\lib\\site-packages\\sklearn\\utils\\validation.py\", line 1107, in check_array\n",
      "    _assert_all_finite(\n",
      "  File \"C:\\Users\\teode\\IdeaProjects\\AppliedArtificialIntelligence\\venv\\lib\\site-packages\\sklearn\\utils\\validation.py\", line 120, in _assert_all_finite\n",
      "    _assert_all_finite_element_wise(\n",
      "  File \"C:\\Users\\teode\\IdeaProjects\\AppliedArtificialIntelligence\\venv\\lib\\site-packages\\sklearn\\utils\\validation.py\", line 169, in _assert_all_finite_element_wise\n",
      "    raise ValueError(msg_err)\n",
      "ValueError: Input contains NaN.\n",
      "\n",
      "  warnings.warn(\n",
      "C:\\Users\\teode\\IdeaProjects\\AppliedArtificialIntelligence\\venv\\lib\\site-packages\\sklearn\\neighbors\\_regression.py:508: UserWarning: One or more samples have no neighbors within specified radius; predicting NaN.\n",
      "  warnings.warn(empty_warning_msg)\n",
      "C:\\Users\\teode\\IdeaProjects\\AppliedArtificialIntelligence\\venv\\lib\\site-packages\\sklearn\\model_selection\\_validation.py:978: UserWarning: Scoring failed. The score on this train-test partition for these parameters will be set to nan. Details: \n",
      "Traceback (most recent call last):\n",
      "  File \"C:\\Users\\teode\\IdeaProjects\\AppliedArtificialIntelligence\\venv\\lib\\site-packages\\sklearn\\metrics\\_scorer.py\", line 144, in __call__\n",
      "    score = scorer(estimator, *args, **routed_params.get(name).score)\n",
      "  File \"C:\\Users\\teode\\IdeaProjects\\AppliedArtificialIntelligence\\venv\\lib\\site-packages\\sklearn\\metrics\\_scorer.py\", line 472, in __call__\n",
      "    return estimator.score(*args, **kwargs)\n",
      "  File \"C:\\Users\\teode\\IdeaProjects\\AppliedArtificialIntelligence\\venv\\lib\\site-packages\\sklearn\\base.py\", line 663, in score\n",
      "    return r2_score(y, y_pred, sample_weight=sample_weight)\n",
      "  File \"C:\\Users\\teode\\IdeaProjects\\AppliedArtificialIntelligence\\venv\\lib\\site-packages\\sklearn\\utils\\_param_validation.py\", line 216, in wrapper\n",
      "    return func(*args, **kwargs)\n",
      "  File \"C:\\Users\\teode\\IdeaProjects\\AppliedArtificialIntelligence\\venv\\lib\\site-packages\\sklearn\\metrics\\_regression.py\", line 1257, in r2_score\n",
      "    _check_reg_targets_with_floating_dtype(\n",
      "  File \"C:\\Users\\teode\\IdeaProjects\\AppliedArtificialIntelligence\\venv\\lib\\site-packages\\sklearn\\metrics\\_regression.py\", line 198, in _check_reg_targets_with_floating_dtype\n",
      "    y_type, y_true, y_pred, multioutput = _check_reg_targets(\n",
      "  File \"C:\\Users\\teode\\IdeaProjects\\AppliedArtificialIntelligence\\venv\\lib\\site-packages\\sklearn\\metrics\\_regression.py\", line 106, in _check_reg_targets\n",
      "    y_pred = check_array(y_pred, ensure_2d=False, dtype=dtype)\n",
      "  File \"C:\\Users\\teode\\IdeaProjects\\AppliedArtificialIntelligence\\venv\\lib\\site-packages\\sklearn\\utils\\validation.py\", line 1107, in check_array\n",
      "    _assert_all_finite(\n",
      "  File \"C:\\Users\\teode\\IdeaProjects\\AppliedArtificialIntelligence\\venv\\lib\\site-packages\\sklearn\\utils\\validation.py\", line 120, in _assert_all_finite\n",
      "    _assert_all_finite_element_wise(\n",
      "  File \"C:\\Users\\teode\\IdeaProjects\\AppliedArtificialIntelligence\\venv\\lib\\site-packages\\sklearn\\utils\\validation.py\", line 169, in _assert_all_finite_element_wise\n",
      "    raise ValueError(msg_err)\n",
      "ValueError: Input contains NaN.\n",
      "\n",
      "  warnings.warn(\n",
      "C:\\Users\\teode\\IdeaProjects\\AppliedArtificialIntelligence\\venv\\lib\\site-packages\\sklearn\\neighbors\\_regression.py:508: UserWarning: One or more samples have no neighbors within specified radius; predicting NaN.\n",
      "  warnings.warn(empty_warning_msg)\n",
      "C:\\Users\\teode\\IdeaProjects\\AppliedArtificialIntelligence\\venv\\lib\\site-packages\\sklearn\\model_selection\\_validation.py:978: UserWarning: Scoring failed. The score on this train-test partition for these parameters will be set to nan. Details: \n",
      "Traceback (most recent call last):\n",
      "  File \"C:\\Users\\teode\\IdeaProjects\\AppliedArtificialIntelligence\\venv\\lib\\site-packages\\sklearn\\metrics\\_scorer.py\", line 144, in __call__\n",
      "    score = scorer(estimator, *args, **routed_params.get(name).score)\n",
      "  File \"C:\\Users\\teode\\IdeaProjects\\AppliedArtificialIntelligence\\venv\\lib\\site-packages\\sklearn\\metrics\\_scorer.py\", line 472, in __call__\n",
      "    return estimator.score(*args, **kwargs)\n",
      "  File \"C:\\Users\\teode\\IdeaProjects\\AppliedArtificialIntelligence\\venv\\lib\\site-packages\\sklearn\\base.py\", line 663, in score\n",
      "    return r2_score(y, y_pred, sample_weight=sample_weight)\n",
      "  File \"C:\\Users\\teode\\IdeaProjects\\AppliedArtificialIntelligence\\venv\\lib\\site-packages\\sklearn\\utils\\_param_validation.py\", line 216, in wrapper\n",
      "    return func(*args, **kwargs)\n",
      "  File \"C:\\Users\\teode\\IdeaProjects\\AppliedArtificialIntelligence\\venv\\lib\\site-packages\\sklearn\\metrics\\_regression.py\", line 1257, in r2_score\n",
      "    _check_reg_targets_with_floating_dtype(\n",
      "  File \"C:\\Users\\teode\\IdeaProjects\\AppliedArtificialIntelligence\\venv\\lib\\site-packages\\sklearn\\metrics\\_regression.py\", line 198, in _check_reg_targets_with_floating_dtype\n",
      "    y_type, y_true, y_pred, multioutput = _check_reg_targets(\n",
      "  File \"C:\\Users\\teode\\IdeaProjects\\AppliedArtificialIntelligence\\venv\\lib\\site-packages\\sklearn\\metrics\\_regression.py\", line 106, in _check_reg_targets\n",
      "    y_pred = check_array(y_pred, ensure_2d=False, dtype=dtype)\n",
      "  File \"C:\\Users\\teode\\IdeaProjects\\AppliedArtificialIntelligence\\venv\\lib\\site-packages\\sklearn\\utils\\validation.py\", line 1107, in check_array\n",
      "    _assert_all_finite(\n",
      "  File \"C:\\Users\\teode\\IdeaProjects\\AppliedArtificialIntelligence\\venv\\lib\\site-packages\\sklearn\\utils\\validation.py\", line 120, in _assert_all_finite\n",
      "    _assert_all_finite_element_wise(\n",
      "  File \"C:\\Users\\teode\\IdeaProjects\\AppliedArtificialIntelligence\\venv\\lib\\site-packages\\sklearn\\utils\\validation.py\", line 169, in _assert_all_finite_element_wise\n",
      "    raise ValueError(msg_err)\n",
      "ValueError: Input contains NaN.\n",
      "\n",
      "  warnings.warn(\n",
      "C:\\Users\\teode\\IdeaProjects\\AppliedArtificialIntelligence\\venv\\lib\\site-packages\\sklearn\\neighbors\\_regression.py:508: UserWarning: One or more samples have no neighbors within specified radius; predicting NaN.\n",
      "  warnings.warn(empty_warning_msg)\n",
      "C:\\Users\\teode\\IdeaProjects\\AppliedArtificialIntelligence\\venv\\lib\\site-packages\\sklearn\\model_selection\\_validation.py:978: UserWarning: Scoring failed. The score on this train-test partition for these parameters will be set to nan. Details: \n",
      "Traceback (most recent call last):\n",
      "  File \"C:\\Users\\teode\\IdeaProjects\\AppliedArtificialIntelligence\\venv\\lib\\site-packages\\sklearn\\metrics\\_scorer.py\", line 144, in __call__\n",
      "    score = scorer(estimator, *args, **routed_params.get(name).score)\n",
      "  File \"C:\\Users\\teode\\IdeaProjects\\AppliedArtificialIntelligence\\venv\\lib\\site-packages\\sklearn\\metrics\\_scorer.py\", line 472, in __call__\n",
      "    return estimator.score(*args, **kwargs)\n",
      "  File \"C:\\Users\\teode\\IdeaProjects\\AppliedArtificialIntelligence\\venv\\lib\\site-packages\\sklearn\\base.py\", line 663, in score\n",
      "    return r2_score(y, y_pred, sample_weight=sample_weight)\n",
      "  File \"C:\\Users\\teode\\IdeaProjects\\AppliedArtificialIntelligence\\venv\\lib\\site-packages\\sklearn\\utils\\_param_validation.py\", line 216, in wrapper\n",
      "    return func(*args, **kwargs)\n",
      "  File \"C:\\Users\\teode\\IdeaProjects\\AppliedArtificialIntelligence\\venv\\lib\\site-packages\\sklearn\\metrics\\_regression.py\", line 1257, in r2_score\n",
      "    _check_reg_targets_with_floating_dtype(\n",
      "  File \"C:\\Users\\teode\\IdeaProjects\\AppliedArtificialIntelligence\\venv\\lib\\site-packages\\sklearn\\metrics\\_regression.py\", line 198, in _check_reg_targets_with_floating_dtype\n",
      "    y_type, y_true, y_pred, multioutput = _check_reg_targets(\n",
      "  File \"C:\\Users\\teode\\IdeaProjects\\AppliedArtificialIntelligence\\venv\\lib\\site-packages\\sklearn\\metrics\\_regression.py\", line 106, in _check_reg_targets\n",
      "    y_pred = check_array(y_pred, ensure_2d=False, dtype=dtype)\n",
      "  File \"C:\\Users\\teode\\IdeaProjects\\AppliedArtificialIntelligence\\venv\\lib\\site-packages\\sklearn\\utils\\validation.py\", line 1107, in check_array\n",
      "    _assert_all_finite(\n",
      "  File \"C:\\Users\\teode\\IdeaProjects\\AppliedArtificialIntelligence\\venv\\lib\\site-packages\\sklearn\\utils\\validation.py\", line 120, in _assert_all_finite\n",
      "    _assert_all_finite_element_wise(\n",
      "  File \"C:\\Users\\teode\\IdeaProjects\\AppliedArtificialIntelligence\\venv\\lib\\site-packages\\sklearn\\utils\\validation.py\", line 169, in _assert_all_finite_element_wise\n",
      "    raise ValueError(msg_err)\n",
      "ValueError: Input contains NaN.\n",
      "\n",
      "  warnings.warn(\n",
      "C:\\Users\\teode\\IdeaProjects\\AppliedArtificialIntelligence\\venv\\lib\\site-packages\\sklearn\\neighbors\\_regression.py:508: UserWarning: One or more samples have no neighbors within specified radius; predicting NaN.\n",
      "  warnings.warn(empty_warning_msg)\n",
      "C:\\Users\\teode\\IdeaProjects\\AppliedArtificialIntelligence\\venv\\lib\\site-packages\\sklearn\\model_selection\\_validation.py:978: UserWarning: Scoring failed. The score on this train-test partition for these parameters will be set to nan. Details: \n",
      "Traceback (most recent call last):\n",
      "  File \"C:\\Users\\teode\\IdeaProjects\\AppliedArtificialIntelligence\\venv\\lib\\site-packages\\sklearn\\metrics\\_scorer.py\", line 144, in __call__\n",
      "    score = scorer(estimator, *args, **routed_params.get(name).score)\n",
      "  File \"C:\\Users\\teode\\IdeaProjects\\AppliedArtificialIntelligence\\venv\\lib\\site-packages\\sklearn\\metrics\\_scorer.py\", line 472, in __call__\n",
      "    return estimator.score(*args, **kwargs)\n",
      "  File \"C:\\Users\\teode\\IdeaProjects\\AppliedArtificialIntelligence\\venv\\lib\\site-packages\\sklearn\\base.py\", line 663, in score\n",
      "    return r2_score(y, y_pred, sample_weight=sample_weight)\n",
      "  File \"C:\\Users\\teode\\IdeaProjects\\AppliedArtificialIntelligence\\venv\\lib\\site-packages\\sklearn\\utils\\_param_validation.py\", line 216, in wrapper\n",
      "    return func(*args, **kwargs)\n",
      "  File \"C:\\Users\\teode\\IdeaProjects\\AppliedArtificialIntelligence\\venv\\lib\\site-packages\\sklearn\\metrics\\_regression.py\", line 1257, in r2_score\n",
      "    _check_reg_targets_with_floating_dtype(\n",
      "  File \"C:\\Users\\teode\\IdeaProjects\\AppliedArtificialIntelligence\\venv\\lib\\site-packages\\sklearn\\metrics\\_regression.py\", line 198, in _check_reg_targets_with_floating_dtype\n",
      "    y_type, y_true, y_pred, multioutput = _check_reg_targets(\n",
      "  File \"C:\\Users\\teode\\IdeaProjects\\AppliedArtificialIntelligence\\venv\\lib\\site-packages\\sklearn\\metrics\\_regression.py\", line 106, in _check_reg_targets\n",
      "    y_pred = check_array(y_pred, ensure_2d=False, dtype=dtype)\n",
      "  File \"C:\\Users\\teode\\IdeaProjects\\AppliedArtificialIntelligence\\venv\\lib\\site-packages\\sklearn\\utils\\validation.py\", line 1107, in check_array\n",
      "    _assert_all_finite(\n",
      "  File \"C:\\Users\\teode\\IdeaProjects\\AppliedArtificialIntelligence\\venv\\lib\\site-packages\\sklearn\\utils\\validation.py\", line 120, in _assert_all_finite\n",
      "    _assert_all_finite_element_wise(\n",
      "  File \"C:\\Users\\teode\\IdeaProjects\\AppliedArtificialIntelligence\\venv\\lib\\site-packages\\sklearn\\utils\\validation.py\", line 169, in _assert_all_finite_element_wise\n",
      "    raise ValueError(msg_err)\n",
      "ValueError: Input contains NaN.\n",
      "\n",
      "  warnings.warn(\n",
      "C:\\Users\\teode\\IdeaProjects\\AppliedArtificialIntelligence\\venv\\lib\\site-packages\\sklearn\\neighbors\\_regression.py:508: UserWarning: One or more samples have no neighbors within specified radius; predicting NaN.\n",
      "  warnings.warn(empty_warning_msg)\n",
      "C:\\Users\\teode\\IdeaProjects\\AppliedArtificialIntelligence\\venv\\lib\\site-packages\\sklearn\\model_selection\\_validation.py:978: UserWarning: Scoring failed. The score on this train-test partition for these parameters will be set to nan. Details: \n",
      "Traceback (most recent call last):\n",
      "  File \"C:\\Users\\teode\\IdeaProjects\\AppliedArtificialIntelligence\\venv\\lib\\site-packages\\sklearn\\metrics\\_scorer.py\", line 144, in __call__\n",
      "    score = scorer(estimator, *args, **routed_params.get(name).score)\n",
      "  File \"C:\\Users\\teode\\IdeaProjects\\AppliedArtificialIntelligence\\venv\\lib\\site-packages\\sklearn\\metrics\\_scorer.py\", line 472, in __call__\n",
      "    return estimator.score(*args, **kwargs)\n",
      "  File \"C:\\Users\\teode\\IdeaProjects\\AppliedArtificialIntelligence\\venv\\lib\\site-packages\\sklearn\\base.py\", line 663, in score\n",
      "    return r2_score(y, y_pred, sample_weight=sample_weight)\n",
      "  File \"C:\\Users\\teode\\IdeaProjects\\AppliedArtificialIntelligence\\venv\\lib\\site-packages\\sklearn\\utils\\_param_validation.py\", line 216, in wrapper\n",
      "    return func(*args, **kwargs)\n",
      "  File \"C:\\Users\\teode\\IdeaProjects\\AppliedArtificialIntelligence\\venv\\lib\\site-packages\\sklearn\\metrics\\_regression.py\", line 1257, in r2_score\n",
      "    _check_reg_targets_with_floating_dtype(\n",
      "  File \"C:\\Users\\teode\\IdeaProjects\\AppliedArtificialIntelligence\\venv\\lib\\site-packages\\sklearn\\metrics\\_regression.py\", line 198, in _check_reg_targets_with_floating_dtype\n",
      "    y_type, y_true, y_pred, multioutput = _check_reg_targets(\n",
      "  File \"C:\\Users\\teode\\IdeaProjects\\AppliedArtificialIntelligence\\venv\\lib\\site-packages\\sklearn\\metrics\\_regression.py\", line 106, in _check_reg_targets\n",
      "    y_pred = check_array(y_pred, ensure_2d=False, dtype=dtype)\n",
      "  File \"C:\\Users\\teode\\IdeaProjects\\AppliedArtificialIntelligence\\venv\\lib\\site-packages\\sklearn\\utils\\validation.py\", line 1107, in check_array\n",
      "    _assert_all_finite(\n",
      "  File \"C:\\Users\\teode\\IdeaProjects\\AppliedArtificialIntelligence\\venv\\lib\\site-packages\\sklearn\\utils\\validation.py\", line 120, in _assert_all_finite\n",
      "    _assert_all_finite_element_wise(\n",
      "  File \"C:\\Users\\teode\\IdeaProjects\\AppliedArtificialIntelligence\\venv\\lib\\site-packages\\sklearn\\utils\\validation.py\", line 169, in _assert_all_finite_element_wise\n",
      "    raise ValueError(msg_err)\n",
      "ValueError: Input contains NaN.\n",
      "\n",
      "  warnings.warn(\n"
     ]
    }
   ],
   "source": [
    "from sklearn.neighbors import RadiusNeighborsRegressor\n",
    "from sklearn.model_selection import cross_val_score\n",
    "\n",
    "Radius = np.linspace(1,10,3)    # This will give an array of numbers between 1 and 20\n",
    "cv_scores = []\n",
    "sd_scores = []\n",
    "# perform 5-fold cross validation on the 11 possible values for the radius (bandwith)\n",
    "for k in Radius:\n",
    "    Rnn = RadiusNeighborsRegressor(radius= k)\n",
    "    scores = cross_val_score(Rnn, X_train_stan, y_train,  cv=5)\n",
    "    cv_scores.append(scores.mean())\n",
    "    sd_scores.append(np.sqrt(scores.var())/np.sqrt(5))\n",
    " "
   ]
  },
  {
   "cell_type": "markdown",
   "metadata": {},
   "source": [
    "It does not work, because there are simply no neighbors with a radius of 1. This is an example of the curse of high dimensionality. As there are more and more features, all points tend to further and further away from each other. The lowest radius that works is 7 (or at least a number between 6 and 7)."
   ]
  },
  {
   "cell_type": "markdown",
   "metadata": {},
   "source": [
    "2. Crossvalidation that works."
   ]
  },
  {
   "cell_type": "code",
   "execution_count": 24,
   "metadata": {
    "ExecuteTime": {
     "end_time": "2025-04-11T08:09:46.686053700Z",
     "start_time": "2025-04-11T08:09:46.044219200Z"
    }
   },
   "outputs": [],
   "source": [
    "from sklearn.neighbors import RadiusNeighborsRegressor\n",
    "from sklearn.model_selection import cross_val_score\n",
    "\n",
    "Radius = np.linspace(7,17,10)    \n",
    "cv_scores = []\n",
    "sd_scores = []\n",
    "# perform 5-fold cross validation on the 11 possible values for the radius (bandwith)\n",
    "for k in Radius:\n",
    "    Rnn = RadiusNeighborsRegressor(radius= k)\n",
    "    scores = cross_val_score(Rnn, X_train_stan, y_train,  cv=5)\n",
    "    cv_scores.append(scores.mean())\n",
    "    sd_scores.append(np.sqrt(scores.var())/np.sqrt(5))"
   ]
  },
  {
   "cell_type": "code",
   "execution_count": 25,
   "metadata": {
    "ExecuteTime": {
     "end_time": "2025-04-11T08:09:46.797885400Z",
     "start_time": "2025-04-11T08:09:46.688053100Z"
    }
   },
   "outputs": [
    {
     "data": {
      "text/plain": "<Figure size 640x480 with 1 Axes>",
      "image/png": "[encoded data removed]"
     },
     "metadata": {},
     "output_type": "display_data"
    }
   ],
   "source": [
    "max_value = max(cv_scores)\n",
    "max_index = cv_scores.index(max_value)\n",
    "\n",
    "plt.plot(Radius, cv_scores)\n",
    "plt.xlabel('Radius of Neighbors ')\n",
    "plt.ylabel('R^2')\n",
    "\n",
    "plt.show()"
   ]
  },
  {
   "cell_type": "markdown",
   "metadata": {},
   "source": [
    "We can clearly see that the R2 of the model drops as the radius increases. This is because our model becomes more and more underfitted. It is already underfitted at a radius of 7, but we can't reduce the radius, or we don't have enough neigbors. This is again the curse of dimensionality at work. This clearly shows RNN breaks down as the dimensionality increases. Maybe knn will work better, since there we  do not define the distance, but the number of neighbors itself."
   ]
  },
  {
   "cell_type": "markdown",
   "metadata": {},
   "source": [
    "## 3.2 K-nearest Neighbors\n",
    "1. Perform a crossvalidation, using k-nearest neighbors regression, with k ranging from 1 to 65\n",
    "    \n",
    "2. Plot the number of neighbors (k) to the R2\n",
    "    + Also draw the lower boundary of the confidene interval of the maximum R2(maximum R2 - 1.96 * sd(of maximum R2) )\n",
    "    + First do a general plot\n",
    "    + Then zoom in on the highest values \n",
    "    + Which k leads to the highest R2\n",
    "\n"
   ]
  },
  {
   "cell_type": "markdown",
   "metadata": {},
   "source": [
    "1. Cross-validation"
   ]
  },
  {
   "cell_type": "code",
   "execution_count": 26,
   "metadata": {
    "ExecuteTime": {
     "end_time": "2025-04-11T08:09:50.601318900Z",
     "start_time": "2025-04-11T08:09:46.799873Z"
    }
   },
   "outputs": [],
   "source": [
    "from sklearn.neighbors import KNeighborsRegressor\n",
    "from sklearn.model_selection import cross_val_score\n",
    "\n",
    "K = np.arange(1,65)    \n",
    "cv_scores = []\n",
    "sd_scores = []\n",
    "# perform 5-fold cross validation on the  possible values for the radius (bandwith)\n",
    "for k in K:\n",
    "    knn = KNeighborsRegressor(n_neighbors= k)\n",
    "    scores = cross_val_score(knn, X_train_stan, y_train,  cv=5)\n",
    "    cv_scores.append(scores.mean())\n",
    "    sd_scores.append(np.sqrt(scores.var())/np.sqrt(5))"
   ]
  },
  {
   "cell_type": "markdown",
   "metadata": {},
   "source": [
    "2. plots"
   ]
  },
  {
   "cell_type": "code",
   "execution_count": 27,
   "metadata": {
    "ExecuteTime": {
     "end_time": "2025-04-11T08:09:50.705566200Z",
     "start_time": "2025-04-11T08:09:50.598309300Z"
    }
   },
   "outputs": [
    {
     "data": {
      "text/plain": "<Figure size 640x480 with 1 Axes>",
      "image/png": "[encoded data removed]"
     },
     "metadata": {},
     "output_type": "display_data"
    },
    {
     "name": "stdout",
     "output_type": "stream",
     "text": [
      "The best k is 5\n"
     ]
    }
   ],
   "source": [
    "max_value = max(cv_scores)\n",
    "max_index = cv_scores.index(max_value)\n",
    "\n",
    "plt.plot(K, cv_scores)\n",
    "plt.xlabel('k Neighbors ')\n",
    "plt.ylabel('R^2')\n",
    "\n",
    "plt.show()\n",
    "print('The best k is', K[max_index])"
   ]
  },
  {
   "cell_type": "markdown",
   "metadata": {},
   "source": [
    "This plot is hard to read, so lets focus on values 2 to 30, because using more than 30 neighbors clearly leads to underfitting"
   ]
  },
  {
   "cell_type": "code",
   "execution_count": 28,
   "metadata": {
    "ExecuteTime": {
     "end_time": "2025-04-11T08:09:50.818718200Z",
     "start_time": "2025-04-11T08:09:50.707566600Z"
    }
   },
   "outputs": [
    {
     "data": {
      "text/plain": "<Figure size 640x480 with 1 Axes>",
      "image/png": "[encoded data removed]"
     },
     "metadata": {},
     "output_type": "display_data"
    },
    {
     "name": "stdout",
     "output_type": "stream",
     "text": [
      "The best k is 5\n",
      "The best validation score is 0.4260393299973175\n"
     ]
    }
   ],
   "source": [
    "\n",
    "plt.plot(K[2 : 30],cv_scores[2 :30])\n",
    "plt.xlabel('k Neighbors ')\n",
    "plt.ylabel('R^2')\n",
    "\n",
    "\n",
    "\n",
    "plt.show()\n",
    "print('The best k is', K[max_index])\n",
    "print('The best validation score is', max_value)\n"
   ]
  },
  {
   "cell_type": "markdown",
   "metadata": {},
   "source": [
    "The best k is 10, with a validation score of 0.54. This is rather low. Let's test it on the training data to see if the model in underfitted.\n"
   ]
  },
  {
   "cell_type": "code",
   "execution_count": 29,
   "metadata": {
    "ExecuteTime": {
     "end_time": "2025-04-11T08:09:50.922146400Z",
     "start_time": "2025-04-11T08:09:50.818213Z"
    }
   },
   "outputs": [
    {
     "data": {
      "text/plain": "0.5532274100866279"
     },
     "execution_count": 29,
     "metadata": {},
     "output_type": "execute_result"
    }
   ],
   "source": [
    "knn = KNeighborsRegressor(n_neighbors= 10)\n",
    "knn.fit(X_train_stan, y_train)\n",
    "knn.score(X_train_stan, y_train)"
   ]
  },
  {
   "cell_type": "markdown",
   "metadata": {},
   "source": [
    "This is also not that high, so there indeed might be underfitting"
   ]
  },
  {
   "cell_type": "markdown",
   "metadata": {},
   "source": [
    "# 4. Penalisation\n",
    "\n",
    "Untill know, we have seen that polynomial regression  leads to overfitting and knn leads to underfitting on this dataset, because of the curse of high dimensionality. Now, we will try a different approach, namely combining polynomial regression with penalisation."
   ]
  },
  {
   "cell_type": "markdown",
   "metadata": {},
   "source": [
    "1. Design polynomial features with degree 3\n",
    "    + Don't forget to also transform the test data\n",
    "    + Check the number of features of the new datasets: are there more observations or more features?\n",
    "2. Do lasso-penalisation, using the default alpha. \n",
    "    + Use linear_model.Lasso()\n",
    "    + Test on train and test set\n",
    "    + Is the model overfitted or underfitted?   \n",
    "    + Look at the coefficients. Does this explain the overfitting or underfitting?\n",
    "3. Do a cross-validation to find the best value for alpha. Let the function choose the values for alpha itself.\n",
    "    +  Would you say this model is overfitted, underfitted or neither?"
   ]
  },
  {
   "cell_type": "markdown",
   "metadata": {},
   "source": [
    "1. Design polynomial features"
   ]
  },
  {
   "cell_type": "code",
   "execution_count": 30,
   "metadata": {
    "ExecuteTime": {
     "end_time": "2025-04-11T08:09:50.938570800Z",
     "start_time": "2025-04-11T08:09:50.849310300Z"
    }
   },
   "outputs": [
    {
     "data": {
      "text/plain": "(642, 10660)"
     },
     "execution_count": 30,
     "metadata": {},
     "output_type": "execute_result"
    }
   ],
   "source": [
    "from sklearn.preprocessing import PolynomialFeatures\n",
    "\n",
    "poly = PolynomialFeatures(degree=3)\n",
    "X_train_poly = poly.fit_transform(X_train_stan)\n",
    "X_test_poly = poly.transform(X_test_stan)\n",
    "X_train_poly.shape"
   ]
  },
  {
   "cell_type": "markdown",
   "metadata": {},
   "source": [
    "This gives you all features up to the third degree + all possible interactions between these terms. This results in 10660 features. While we only have 642 observations. This would lead to problems when performing a regular linear regression. Therefore, we apply lasso penalisation."
   ]
  },
  {
   "cell_type": "markdown",
   "metadata": {},
   "source": [
    "2. Lasso-penalisation"
   ]
  },
  {
   "cell_type": "code",
   "execution_count": 31,
   "metadata": {
    "ExecuteTime": {
     "end_time": "2025-04-11T08:09:51.071647200Z",
     "start_time": "2025-04-11T08:09:50.911516700Z"
    }
   },
   "outputs": [
    {
     "name": "stdout",
     "output_type": "stream",
     "text": [
      "R2: 0.000\n",
      "R2: -0.009\n"
     ]
    }
   ],
   "source": [
    "from sklearn import linear_model\n",
    "linreg_lasso1 = linear_model.Lasso()\n",
    "linreg_lasso1.fit(X_train_poly, y_train)\n",
    "print('R2: %.3f' % linreg_lasso1.score(X_train_poly, y_train))\n",
    "print('R2: %.3f' % linreg_lasso1.score(X_test_poly, y_test))"
   ]
  },
  {
   "cell_type": "markdown",
   "metadata": {},
   "source": [
    "The R2 on the training data is very low! This looks like the model is underfitted. We take a look at the coefficients."
   ]
  },
  {
   "cell_type": "code",
   "execution_count": 32,
   "metadata": {
    "ExecuteTime": {
     "end_time": "2025-04-11T08:09:51.125081200Z",
     "start_time": "2025-04-11T08:09:51.067606Z"
    }
   },
   "outputs": [
    {
     "data": {
      "text/plain": "array([ 0.,  0.,  0., ...,  0., -0.,  0.])"
     },
     "execution_count": 32,
     "metadata": {},
     "output_type": "execute_result"
    }
   ],
   "source": [
    "# look at the coefficients (use .coef_)\n",
    "linreg_lasso1.coef_"
   ]
  },
  {
   "cell_type": "markdown",
   "metadata": {},
   "source": [
    "All coefficients are shrunken down to 0. Offcourse our model is underfitted. We do a cross-validation to find the best alpha. (We will choose 5 values between 0 and 1 (log -3 to log (0))).Normally, you would choose more values than 5, but that will take longer."
   ]
  },
  {
   "cell_type": "markdown",
   "metadata": {},
   "source": [
    "3. Cross-validation"
   ]
  },
  {
   "cell_type": "code",
   "execution_count": 33,
   "metadata": {
    "ExecuteTime": {
     "end_time": "2025-04-11T08:11:18.202630200Z",
     "start_time": "2025-04-11T08:09:51.082801200Z"
    }
   },
   "outputs": [
    {
     "name": "stderr",
     "output_type": "stream",
     "text": [
      "C:\\Users\\teode\\IdeaProjects\\AppliedArtificialIntelligence\\venv\\lib\\site-packages\\sklearn\\linear_model\\_coordinate_descent.py:695: ConvergenceWarning: Objective did not converge. You might want to increase the number of iterations, check the scale of the features or consider increasing regularisation. Duality gap: 2.266e-02, tolerance: 4.649e-03\n",
      "  model = cd_fast.enet_coordinate_descent(\n",
      "C:\\Users\\teode\\IdeaProjects\\AppliedArtificialIntelligence\\venv\\lib\\site-packages\\sklearn\\linear_model\\_coordinate_descent.py:695: ConvergenceWarning: Objective did not converge. You might want to increase the number of iterations, check the scale of the features or consider increasing regularisation. Duality gap: 2.917e-02, tolerance: 4.698e-03\n",
      "  model = cd_fast.enet_coordinate_descent(\n",
      "C:\\Users\\teode\\IdeaProjects\\AppliedArtificialIntelligence\\venv\\lib\\site-packages\\sklearn\\linear_model\\_coordinate_descent.py:695: ConvergenceWarning: Objective did not converge. You might want to increase the number of iterations, check the scale of the features or consider increasing regularisation. Duality gap: 9.575e-02, tolerance: 4.645e-03\n",
      "  model = cd_fast.enet_coordinate_descent(\n",
      "C:\\Users\\teode\\IdeaProjects\\AppliedArtificialIntelligence\\venv\\lib\\site-packages\\sklearn\\linear_model\\_coordinate_descent.py:695: ConvergenceWarning: Objective did not converge. You might want to increase the number of iterations, check the scale of the features or consider increasing regularisation. Duality gap: 9.150e-02, tolerance: 4.776e-03\n",
      "  model = cd_fast.enet_coordinate_descent(\n",
      "C:\\Users\\teode\\IdeaProjects\\AppliedArtificialIntelligence\\venv\\lib\\site-packages\\sklearn\\linear_model\\_coordinate_descent.py:695: ConvergenceWarning: Objective did not converge. You might want to increase the number of iterations, check the scale of the features or consider increasing regularisation. Duality gap: 1.390e-01, tolerance: 4.670e-03\n",
      "  model = cd_fast.enet_coordinate_descent(\n"
     ]
    },
    {
     "data": {
      "text/plain": "Lasso(alpha=np.float64(0.03162277660168379))",
      "text/html": "<style>#sk-container-id-2 {\n  /* Definition of color scheme common for light and dark mode */\n  --sklearn-color-text: #000;\n  --sklearn-color-text-muted: #666;\n  --sklearn-color-line: gray;\n  /* Definition of color scheme for unfitted estimators */\n  --sklearn-color-unfitted-level-0: #fff5e6;\n  --sklearn-color-unfitted-level-1: #f6e4d2;\n  --sklearn-color-unfitted-level-2: #ffe0b3;\n  --sklearn-color-unfitted-level-3: chocolate;\n  /* Definition of color scheme for fitted estimators */\n  --sklearn-color-fitted-level-0: #f0f8ff;\n  --sklearn-color-fitted-level-1: #d4ebff;\n  --sklearn-color-fitted-level-2: #b3dbfd;\n  --sklearn-color-fitted-level-3: cornflowerblue;\n\n  /* Specific color for light theme */\n  --sklearn-color-text-on-default-background: var(--sg-text-color, var(--theme-code-foreground, var(--jp-content-font-color1, black)));\n  --sklearn-color-background: var(--sg-background-color, var(--theme-background, var(--jp-layout-color0, white)));\n  --sklearn-color-border-box: var(--sg-text-color, var(--theme-code-foreground, var(--jp-content-font-color1, black)));\n  --sklearn-color-icon: #696969;\n\n  @media (prefers-color-scheme: dark) {\n    /* Redefinition of color scheme for dark theme */\n    --sklearn-color-text-on-default-background: var(--sg-text-color, var(--theme-code-foreground, var(--jp-content-font-color1, white)));\n    --sklearn-color-background: var(--sg-background-color, var(--theme-background, var(--jp-layout-color0, #111)));\n    --sklearn-color-border-box: var(--sg-text-color, var(--theme-code-foreground, var(--jp-content-font-color1, white)));\n    --sklearn-color-icon: #878787;\n  }\n}\n\n#sk-container-id-2 {\n  color: var(--sklearn-color-text);\n}\n\n#sk-container-id-2 pre {\n  padding: 0;\n}\n\n#sk-container-id-2 input.sk-hidden--visually {\n  border: 0;\n  clip: rect(1px 1px 1px 1px);\n  clip: rect(1px, 1px, 1px, 1px);\n  height: 1px;\n  margin: -1px;\n  overflow: hidden;\n  padding: 0;\n  position: absolute;\n  width: 1px;\n}\n\n#sk-container-id-2 div.sk-dashed-wrapped {\n  border: 1px dashed var(--sklearn-color-line);\n  margin: 0 0.4em 0.5em 0.4em;\n  box-sizing: border-box;\n  padding-bottom: 0.4em;\n  background-color: var(--sklearn-color-background);\n}\n\n#sk-container-id-2 div.sk-container {\n  /* jupyter's `normalize.less` sets `[hidden] { display: none; }`\n     but bootstrap.min.css set `[hidden] { display: none !important; }`\n     so we also need the `!important` here to be able to override the\n     default hidden behavior on the sphinx rendered scikit-learn.org.\n     See: https://github.com/scikit-learn/scikit-learn/issues/21755 */\n  display: inline-block !important;\n  position: relative;\n}\n\n#sk-container-id-2 div.sk-text-repr-fallback {\n  display: none;\n}\n\ndiv.sk-parallel-item,\ndiv.sk-serial,\ndiv.sk-item {\n  /* draw centered vertical line to link estimators */\n  background-image: linear-gradient(var(--sklearn-color-text-on-default-background), var(--sklearn-color-text-on-default-background));\n  background-size: 2px 100%;\n  background-repeat: no-repeat;\n  background-position: center center;\n}\n\n/* Parallel-specific style estimator block */\n\n#sk-container-id-2 div.sk-parallel-item::after {\n  content: \"\";\n  width: 100%;\n  border-bottom: 2px solid var(--sklearn-color-text-on-default-background);\n  flex-grow: 1;\n}\n\n#sk-container-id-2 div.sk-parallel {\n  display: flex;\n  align-items: stretch;\n  justify-content: center;\n  background-color: var(--sklearn-color-background);\n  position: relative;\n}\n\n#sk-container-id-2 div.sk-parallel-item {\n  display: flex;\n  flex-direction: column;\n}\n\n#sk-container-id-2 div.sk-parallel-item:first-child::after {\n  align-self: flex-end;\n  width: 50%;\n}\n\n#sk-container-id-2 div.sk-parallel-item:last-child::after {\n  align-self: flex-start;\n  width: 50%;\n}\n\n#sk-container-id-2 div.sk-parallel-item:only-child::after {\n  width: 0;\n}\n\n/* Serial-specific style estimator block */\n\n#sk-container-id-2 div.sk-serial {\n  display: flex;\n  flex-direction: column;\n  align-items: center;\n  background-color: var(--sklearn-color-background);\n  padding-right: 1em;\n  padding-left: 1em;\n}\n\n\n/* Toggleable style: style used for estimator/Pipeline/ColumnTransformer box that is\nclickable and can be expanded/collapsed.\n- Pipeline and ColumnTransformer use this feature and define the default style\n- Estimators will overwrite some part of the style using the `sk-estimator` class\n*/\n\n/* Pipeline and ColumnTransformer style (default) */\n\n#sk-container-id-2 div.sk-toggleable {\n  /* Default theme specific background. It is overwritten whether we have a\n  specific estimator or a Pipeline/ColumnTransformer */\n  background-color: var(--sklearn-color-background);\n}\n\n/* Toggleable label */\n#sk-container-id-2 label.sk-toggleable__label {\n  cursor: pointer;\n  display: flex;\n  width: 100%;\n  margin-bottom: 0;\n  padding: 0.5em;\n  box-sizing: border-box;\n  text-align: center;\n  align-items: start;\n  justify-content: space-between;\n  gap: 0.5em;\n}\n\n#sk-container-id-2 label.sk-toggleable__label .caption {\n  font-size: 0.6rem;\n  font-weight: lighter;\n  color: var(--sklearn-color-text-muted);\n}\n\n#sk-container-id-2 label.sk-toggleable__label-arrow:before {\n  /* Arrow on the left of the label */\n  content: \"▸\";\n  float: left;\n  margin-right: 0.25em;\n  color: var(--sklearn-color-icon);\n}\n\n#sk-container-id-2 label.sk-toggleable__label-arrow:hover:before {\n  color: var(--sklearn-color-text);\n}\n\n/* Toggleable content - dropdown */\n\n#sk-container-id-2 div.sk-toggleable__content {\n  max-height: 0;\n  max-width: 0;\n  overflow: hidden;\n  text-align: left;\n  /* unfitted */\n  background-color: var(--sklearn-color-unfitted-level-0);\n}\n\n#sk-container-id-2 div.sk-toggleable__content.fitted {\n  /* fitted */\n  background-color: var(--sklearn-color-fitted-level-0);\n}\n\n#sk-container-id-2 div.sk-toggleable__content pre {\n  margin: 0.2em;\n  border-radius: 0.25em;\n  color: var(--sklearn-color-text);\n  /* unfitted */\n  background-color: var(--sklearn-color-unfitted-level-0);\n}\n\n#sk-container-id-2 div.sk-toggleable__content.fitted pre {\n  /* unfitted */\n  background-color: var(--sklearn-color-fitted-level-0);\n}\n\n#sk-container-id-2 input.sk-toggleable__control:checked~div.sk-toggleable__content {\n  /* Expand drop-down */\n  max-height: 200px;\n  max-width: 100%;\n  overflow: auto;\n}\n\n#sk-container-id-2 input.sk-toggleable__control:checked~label.sk-toggleable__label-arrow:before {\n  content: \"▾\";\n}\n\n/* Pipeline/ColumnTransformer-specific style */\n\n#sk-container-id-2 div.sk-label input.sk-toggleable__control:checked~label.sk-toggleable__label {\n  color: var(--sklearn-color-text);\n  background-color: var(--sklearn-color-unfitted-level-2);\n}\n\n#sk-container-id-2 div.sk-label.fitted input.sk-toggleable__control:checked~label.sk-toggleable__label {\n  background-color: var(--sklearn-color-fitted-level-2);\n}\n\n/* Estimator-specific style */\n\n/* Colorize estimator box */\n#sk-container-id-2 div.sk-estimator input.sk-toggleable__control:checked~label.sk-toggleable__label {\n  /* unfitted */\n  background-color: var(--sklearn-color-unfitted-level-2);\n}\n\n#sk-container-id-2 div.sk-estimator.fitted input.sk-toggleable__control:checked~label.sk-toggleable__label {\n  /* fitted */\n  background-color: var(--sklearn-color-fitted-level-2);\n}\n\n#sk-container-id-2 div.sk-label label.sk-toggleable__label,\n#sk-container-id-2 div.sk-label label {\n  /* The background is the default theme color */\n  color: var(--sklearn-color-text-on-default-background);\n}\n\n/* On hover, darken the color of the background */\n#sk-container-id-2 div.sk-label:hover label.sk-toggleable__label {\n  color: var(--sklearn-color-text);\n  background-color: var(--sklearn-color-unfitted-level-2);\n}\n\n/* Label box, darken color on hover, fitted */\n#sk-container-id-2 div.sk-label.fitted:hover label.sk-toggleable__label.fitted {\n  color: var(--sklearn-color-text);\n  background-color: var(--sklearn-color-fitted-level-2);\n}\n\n/* Estimator label */\n\n#sk-container-id-2 div.sk-label label {\n  font-family: monospace;\n  font-weight: bold;\n  display: inline-block;\n  line-height: 1.2em;\n}\n\n#sk-container-id-2 div.sk-label-container {\n  text-align: center;\n}\n\n/* Estimator-specific */\n#sk-container-id-2 div.sk-estimator {\n  font-family: monospace;\n  border: 1px dotted var(--sklearn-color-border-box);\n  border-radius: 0.25em;\n  box-sizing: border-box;\n  margin-bottom: 0.5em;\n  /* unfitted */\n  background-color: var(--sklearn-color-unfitted-level-0);\n}\n\n#sk-container-id-2 div.sk-estimator.fitted {\n  /* fitted */\n  background-color: var(--sklearn-color-fitted-level-0);\n}\n\n/* on hover */\n#sk-container-id-2 div.sk-estimator:hover {\n  /* unfitted */\n  background-color: var(--sklearn-color-unfitted-level-2);\n}\n\n#sk-container-id-2 div.sk-estimator.fitted:hover {\n  /* fitted */\n  background-color: var(--sklearn-color-fitted-level-2);\n}\n\n/* Specification for estimator info (e.g. \"i\" and \"?\") */\n\n/* Common style for \"i\" and \"?\" */\n\n.sk-estimator-doc-link,\na:link.sk-estimator-doc-link,\na:visited.sk-estimator-doc-link {\n  float: right;\n  font-size: smaller;\n  line-height: 1em;\n  font-family: monospace;\n  background-color: var(--sklearn-color-background);\n  border-radius: 1em;\n  height: 1em;\n  width: 1em;\n  text-decoration: none !important;\n  margin-left: 0.5em;\n  text-align: center;\n  /* unfitted */\n  border: var(--sklearn-color-unfitted-level-1) 1pt solid;\n  color: var(--sklearn-color-unfitted-level-1);\n}\n\n.sk-estimator-doc-link.fitted,\na:link.sk-estimator-doc-link.fitted,\na:visited.sk-estimator-doc-link.fitted {\n  /* fitted */\n  border: var(--sklearn-color-fitted-level-1) 1pt solid;\n  color: var(--sklearn-color-fitted-level-1);\n}\n\n/* On hover */\ndiv.sk-estimator:hover .sk-estimator-doc-link:hover,\n.sk-estimator-doc-link:hover,\ndiv.sk-label-container:hover .sk-estimator-doc-link:hover,\n.sk-estimator-doc-link:hover {\n  /* unfitted */\n  background-color: var(--sklearn-color-unfitted-level-3);\n  color: var(--sklearn-color-background);\n  text-decoration: none;\n}\n\ndiv.sk-estimator.fitted:hover .sk-estimator-doc-link.fitted:hover,\n.sk-estimator-doc-link.fitted:hover,\ndiv.sk-label-container:hover .sk-estimator-doc-link.fitted:hover,\n.sk-estimator-doc-link.fitted:hover {\n  /* fitted */\n  background-color: var(--sklearn-color-fitted-level-3);\n  color: var(--sklearn-color-background);\n  text-decoration: none;\n}\n\n/* Span, style for the box shown on hovering the info icon */\n.sk-estimator-doc-link span {\n  display: none;\n  z-index: 9999;\n  position: relative;\n  font-weight: normal;\n  right: .2ex;\n  padding: .5ex;\n  margin: .5ex;\n  width: min-content;\n  min-width: 20ex;\n  max-width: 50ex;\n  color: var(--sklearn-color-text);\n  box-shadow: 2pt 2pt 4pt #999;\n  /* unfitted */\n  background: var(--sklearn-color-unfitted-level-0);\n  border: .5pt solid var(--sklearn-color-unfitted-level-3);\n}\n\n.sk-estimator-doc-link.fitted span {\n  /* fitted */\n  background: var(--sklearn-color-fitted-level-0);\n  border: var(--sklearn-color-fitted-level-3);\n}\n\n.sk-estimator-doc-link:hover span {\n  display: block;\n}\n\n/* \"?\"-specific style due to the `<a>` HTML tag */\n\n#sk-container-id-2 a.estimator_doc_link {\n  float: right;\n  font-size: 1rem;\n  line-height: 1em;\n  font-family: monospace;\n  background-color: var(--sklearn-color-background);\n  border-radius: 1rem;\n  height: 1rem;\n  width: 1rem;\n  text-decoration: none;\n  /* unfitted */\n  color: var(--sklearn-color-unfitted-level-1);\n  border: var(--sklearn-color-unfitted-level-1) 1pt solid;\n}\n\n#sk-container-id-2 a.estimator_doc_link.fitted {\n  /* fitted */\n  border: var(--sklearn-color-fitted-level-1) 1pt solid;\n  color: var(--sklearn-color-fitted-level-1);\n}\n\n/* On hover */\n#sk-container-id-2 a.estimator_doc_link:hover {\n  /* unfitted */\n  background-color: var(--sklearn-color-unfitted-level-3);\n  color: var(--sklearn-color-background);\n  text-decoration: none;\n}\n\n#sk-container-id-2 a.estimator_doc_link.fitted:hover {\n  /* fitted */\n  background-color: var(--sklearn-color-fitted-level-3);\n}\n</style><div id=\"sk-container-id-2\" class=\"sk-top-container\"><div class=\"sk-text-repr-fallback\"><pre>Lasso(alpha=np.float64(0.03162277660168379))</pre><b>In a Jupyter environment, please rerun this cell to show the HTML representation or trust the notebook. <br />On GitHub, the HTML representation is unable to render, please try loading this page with nbviewer.org.</b></div><div class=\"sk-container\" hidden><div class=\"sk-item\"><div class=\"sk-estimator fitted sk-toggleable\"><input class=\"sk-toggleable__control sk-hidden--visually\" id=\"sk-estimator-id-2\" type=\"checkbox\" checked><label for=\"sk-estimator-id-2\" class=\"sk-toggleable__label fitted sk-toggleable__label-arrow\"><div><div>Lasso</div></div><div><a class=\"sk-estimator-doc-link fitted\" rel=\"noreferrer\" target=\"_blank\" href=\"https://scikit-learn.org/1.6/modules/generated/sklearn.linear_model.Lasso.html\">?<span>Documentation for Lasso</span></a><span class=\"sk-estimator-doc-link fitted\">i<span>Fitted</span></span></div></label><div class=\"sk-toggleable__content fitted\"><pre>Lasso(alpha=np.float64(0.03162277660168379))</pre></div> </div></div></div></div>"
     },
     "execution_count": 33,
     "metadata": {},
     "output_type": "execute_result"
    }
   ],
   "source": [
    "from sklearn.model_selection import cross_val_score\n",
    "from sklearn import linear_model\n",
    "\n",
    "Alpha = np.logspace(-3,0,5)  \n",
    "cv_scores = []\n",
    "sd_scores = []\n",
    "# perform 5-fold cross validation on the  possible values for the radius (bandwith)\n",
    "for a in Alpha:\n",
    "    lasso = linear_model.Lasso(a, max_iter=5000)\n",
    "    scores = cross_val_score(lasso, X_train_poly, y_train,  cv=5)\n",
    "    cv_scores.append(scores.mean())\n",
    "    sd_scores.append(np.sqrt(scores.var())/np.sqrt(5))\n",
    " \n",
    "max_value = max(cv_scores)\n",
    "max_index = cv_scores.index(max_value)\n",
    "\n",
    "train = linear_model.Lasso(Alpha[max_index], max_iter=1000)\n",
    "train.fit(X_train_poly,y_train)\n"
   ]
  },
  {
   "cell_type": "markdown",
   "metadata": {},
   "source": [
    "Notice the warning that the algorithm didn't converge. We could solve this by increasing the number of iterations that is allowed, but this will increase the computation time drastically. Since this is just a labo, we will not do that here."
   ]
  },
  {
   "cell_type": "code",
   "execution_count": 34,
   "metadata": {
    "ExecuteTime": {
     "end_time": "2025-04-11T08:11:18.325322100Z",
     "start_time": "2025-04-11T08:11:18.203623100Z"
    }
   },
   "outputs": [
    {
     "name": "stdout",
     "output_type": "stream",
     "text": [
      "The optimal alpha is 0.03162277660168379\n",
      "The training score of the optimal alpha is 0.7215363285705009\n",
      "The validation score of the optimal alpha is 0.634006126328201\n"
     ]
    },
    {
     "data": {
      "text/plain": "<Figure size 640x480 with 1 Axes>",
      "image/png": "[encoded data removed]"
     },
     "metadata": {},
     "output_type": "display_data"
    }
   ],
   "source": [
    "plt.plot(Alpha, cv_scores)\n",
    "plt.xlabel('alpha')\n",
    "plt.ylabel('R^2')\n",
    "\n",
    "print('The optimal alpha is', Alpha[max_index])\n",
    "print('The training score of the optimal alpha is', train.score(X_train_poly,y_train))\n",
    "print('The validation score of the optimal alpha is', max_value)\n",
    "\n",
    "plt.show()\n"
   ]
  },
  {
   "cell_type": "markdown",
   "metadata": {},
   "source": [
    "Now, this is much better. Note that this takes some time to run. \n",
    "It would be best to now zoom in on the values around 0.03 to get the best possible value for alpha. This would again take quite some time, so for this labo, we wille stop here."
   ]
  },
  {
   "cell_type": "markdown",
   "metadata": {},
   "source": [
    "This model performs a lot better than the previous models. I would say this model is not severly overfitted nor severly underfitted."
   ]
  },
  {
   "cell_type": "code",
   "execution_count": 34,
   "metadata": {
    "ExecuteTime": {
     "end_time": "2025-04-11T08:11:18.384330900Z",
     "start_time": "2025-04-11T08:11:18.326325700Z"
    }
   },
   "outputs": [],
   "source": []
  }
 ],
 "metadata": {
  "kernelspec": {
   "display_name": "Python 3",
   "language": "python",
   "name": "python3"
  },
  "language_info": {
   "codemirror_mode": {
    "name": "ipython",
    "version": 3
   },
   "file_extension": ".py",
   "mimetype": "text/x-python",
   "name": "python",
   "nbconvert_exporter": "python",
   "pygments_lexer": "ipython3",
   "version": "3.11.1"
  },
  "vscode": {
   "interpreter": {
    "hash": "141d13aaca8a49d67a657f83c71db2679741fa232fa4d2332ba879a2f8685f8d"
   }
  }
 },
 "nbformat": 4,
 "nbformat_minor": 2
}
