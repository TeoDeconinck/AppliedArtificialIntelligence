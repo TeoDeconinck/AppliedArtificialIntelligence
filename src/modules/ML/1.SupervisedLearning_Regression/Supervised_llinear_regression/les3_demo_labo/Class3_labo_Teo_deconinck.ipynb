{
 "cells": [
  {
   "cell_type": "markdown",
   "metadata": {},
   "source": [
    "# Supervised learning- regression- knn and penalisation\n",
    "\n",
    "We work further on the same dataset as last labo: the housing dataset. The first steps (looking at the data, test/train-split and standardisation are already done for you in the code below."
   ]
  },
  {
   "cell_type": "markdown",
   "metadata": {},
   "source": [
    "## 0. Loading packages and dataset"
   ]
  },
  {
   "cell_type": "code",
   "execution_count": 1,
   "metadata": {
    "ExecuteTime": {
     "end_time": "2025-04-11T06:27:04.706351500Z",
     "start_time": "2025-04-11T06:27:04.658458600Z"
    }
   },
   "outputs": [],
   "source": [
    "%matplotlib inline\n",
    "import numpy as np\n",
    "import pandas as pd\n",
    "import matplotlib as mpl\n",
    "import matplotlib.pyplot as plt\n",
    "import seaborn as sns\n",
    "\n",
    "df = pd.read_csv('real_estate_cleaned.csv')"
   ]
  },
  {
   "cell_type": "markdown",
   "metadata": {},
   "source": [
    "# 1. Take a look at the data\n",
    "\n",
    "Explore the data, as usual.\n",
    "1. Look at the dimensions of the dataset\n",
    "2. Look at the first lines of the dataset\n",
    "3. Get an overview of the features and their datatype\n"
   ]
  },
  {
   "cell_type": "code",
   "execution_count": 2,
   "metadata": {
    "ExecuteTime": {
     "end_time": "2025-04-11T06:27:04.821653Z",
     "start_time": "2025-04-11T06:27:04.703217Z"
    }
   },
   "outputs": [
    {
     "data": {
      "text/plain": "(803, 39)"
     },
     "execution_count": 2,
     "metadata": {},
     "output_type": "execute_result"
    }
   ],
   "source": [
    "# dimensions\n",
    "df.shape"
   ]
  },
  {
   "cell_type": "code",
   "execution_count": 3,
   "metadata": {
    "ExecuteTime": {
     "end_time": "2025-04-11T06:27:04.832343100Z",
     "start_time": "2025-04-11T06:27:04.731702900Z"
    }
   },
   "outputs": [
    {
     "data": {
      "text/plain": "    tx_price  beds  baths      sqft  year_built   lot_size  restaurants  \\\n0  12.597611     1      1  6.371612        2013   8.388054     4.682131   \n1  12.285350     1      1  6.418365        1965   8.388054     4.663439   \n2  12.542191     1      1  6.423247        1963   8.388054     5.214936   \n3  12.847666     1      1  6.428105        2000  10.420554     5.293305   \n4  12.736704     1      1  6.453625        1992   8.388054     5.010635   \n5  12.487489     1      1  6.464588        1947   8.388054     4.990433   \n6  12.869021     1      1  6.478510        2000  10.420554     5.293305   \n7  12.388398     1      1  6.493754        1983   8.388054     3.951244   \n8  12.429220     1      1  6.499787        1965   8.388054     4.787492   \n9  12.721889     1      1  6.507278        2006   8.388054     5.003946   \n\n   groceries  nightlife     cafes  ...  exterior_walls_Siding (Alum/Vinyl)  \\\n0   2.302585   3.433987  2.995732  ...                                   0   \n1   2.772589   1.945910  2.639057  ...                                   0   \n2   2.639057   3.465736  3.433987  ...                                   0   \n3   2.302585   3.663562  3.258097  ...                                   0   \n4   2.079442   3.135494  3.044522  ...                                   0   \n5   2.397895   3.178054  3.332205  ...                                   0   \n6   2.302585   3.663562  3.258097  ...                                   0   \n7   2.197225   1.945910  1.098612  ...                                   0   \n8   2.397895   3.295837  3.258097  ...                                   0   \n9   2.397895   3.332205  3.178054  ...                                   0   \n\n   exterior_walls_Wood  roof_Asphalt  roof_Composition  roof_Gravel/rock  \\\n0                    1             0                 0                 0   \n1                    0             0                 1                 0   \n2                    1             0                 0                 0   \n3                    1             0                 0                 0   \n4                    0             0                 0                 0   \n5                    0             0                 0                 0   \n6                    1             0                 0                 0   \n7                    0             0                 0                 0   \n8                    0             0                 0                 0   \n9                    1             0                 0                 0   \n\n   roof_Missing  roof_Other  roof_Shake shingle  basement_1.0  \\\n0             1           0                   0             0   \n1             0           0                   0             1   \n2             1           0                   0             0   \n3             1           0                   0             0   \n4             1           0                   0             0   \n5             1           0                   0             0   \n6             1           0                   0             0   \n7             1           0                   0             0   \n8             1           0                   0             0   \n9             1           0                   0             0   \n\n   basement_Missing  \n0                 1  \n1                 0  \n2                 1  \n3                 1  \n4                 1  \n5                 1  \n6                 1  \n7                 1  \n8                 1  \n9                 1  \n\n[10 rows x 39 columns]",
      "text/html": "<div>\n<style scoped>\n    .dataframe tbody tr th:only-of-type {\n        vertical-align: middle;\n    }\n\n    .dataframe tbody tr th {\n        vertical-align: top;\n    }\n\n    .dataframe thead th {\n        text-align: right;\n    }\n</style>\n<table border=\"1\" class=\"dataframe\">\n  <thead>\n    <tr style=\"text-align: right;\">\n      <th></th>\n      <th>tx_price</th>\n      <th>beds</th>\n      <th>baths</th>\n      <th>sqft</th>\n      <th>year_built</th>\n      <th>lot_size</th>\n      <th>restaurants</th>\n      <th>groceries</th>\n      <th>nightlife</th>\n      <th>cafes</th>\n      <th>...</th>\n      <th>exterior_walls_Siding (Alum/Vinyl)</th>\n      <th>exterior_walls_Wood</th>\n      <th>roof_Asphalt</th>\n      <th>roof_Composition</th>\n      <th>roof_Gravel/rock</th>\n      <th>roof_Missing</th>\n      <th>roof_Other</th>\n      <th>roof_Shake shingle</th>\n      <th>basement_1.0</th>\n      <th>basement_Missing</th>\n    </tr>\n  </thead>\n  <tbody>\n    <tr>\n      <th>0</th>\n      <td>12.597611</td>\n      <td>1</td>\n      <td>1</td>\n      <td>6.371612</td>\n      <td>2013</td>\n      <td>8.388054</td>\n      <td>4.682131</td>\n      <td>2.302585</td>\n      <td>3.433987</td>\n      <td>2.995732</td>\n      <td>...</td>\n      <td>0</td>\n      <td>1</td>\n      <td>0</td>\n      <td>0</td>\n      <td>0</td>\n      <td>1</td>\n      <td>0</td>\n      <td>0</td>\n      <td>0</td>\n      <td>1</td>\n    </tr>\n    <tr>\n      <th>1</th>\n      <td>12.285350</td>\n      <td>1</td>\n      <td>1</td>\n      <td>6.418365</td>\n      <td>1965</td>\n      <td>8.388054</td>\n      <td>4.663439</td>\n      <td>2.772589</td>\n      <td>1.945910</td>\n      <td>2.639057</td>\n      <td>...</td>\n      <td>0</td>\n      <td>0</td>\n      <td>0</td>\n      <td>1</td>\n      <td>0</td>\n      <td>0</td>\n      <td>0</td>\n      <td>0</td>\n      <td>1</td>\n      <td>0</td>\n    </tr>\n    <tr>\n      <th>2</th>\n      <td>12.542191</td>\n      <td>1</td>\n      <td>1</td>\n      <td>6.423247</td>\n      <td>1963</td>\n      <td>8.388054</td>\n      <td>5.214936</td>\n      <td>2.639057</td>\n      <td>3.465736</td>\n      <td>3.433987</td>\n      <td>...</td>\n      <td>0</td>\n      <td>1</td>\n      <td>0</td>\n      <td>0</td>\n      <td>0</td>\n      <td>1</td>\n      <td>0</td>\n      <td>0</td>\n      <td>0</td>\n      <td>1</td>\n    </tr>\n    <tr>\n      <th>3</th>\n      <td>12.847666</td>\n      <td>1</td>\n      <td>1</td>\n      <td>6.428105</td>\n      <td>2000</td>\n      <td>10.420554</td>\n      <td>5.293305</td>\n      <td>2.302585</td>\n      <td>3.663562</td>\n      <td>3.258097</td>\n      <td>...</td>\n      <td>0</td>\n      <td>1</td>\n      <td>0</td>\n      <td>0</td>\n      <td>0</td>\n      <td>1</td>\n      <td>0</td>\n      <td>0</td>\n      <td>0</td>\n      <td>1</td>\n    </tr>\n    <tr>\n      <th>4</th>\n      <td>12.736704</td>\n      <td>1</td>\n      <td>1</td>\n      <td>6.453625</td>\n      <td>1992</td>\n      <td>8.388054</td>\n      <td>5.010635</td>\n      <td>2.079442</td>\n      <td>3.135494</td>\n      <td>3.044522</td>\n      <td>...</td>\n      <td>0</td>\n      <td>0</td>\n      <td>0</td>\n      <td>0</td>\n      <td>0</td>\n      <td>1</td>\n      <td>0</td>\n      <td>0</td>\n      <td>0</td>\n      <td>1</td>\n    </tr>\n    <tr>\n      <th>5</th>\n      <td>12.487489</td>\n      <td>1</td>\n      <td>1</td>\n      <td>6.464588</td>\n      <td>1947</td>\n      <td>8.388054</td>\n      <td>4.990433</td>\n      <td>2.397895</td>\n      <td>3.178054</td>\n      <td>3.332205</td>\n      <td>...</td>\n      <td>0</td>\n      <td>0</td>\n      <td>0</td>\n      <td>0</td>\n      <td>0</td>\n      <td>1</td>\n      <td>0</td>\n      <td>0</td>\n      <td>0</td>\n      <td>1</td>\n    </tr>\n    <tr>\n      <th>6</th>\n      <td>12.869021</td>\n      <td>1</td>\n      <td>1</td>\n      <td>6.478510</td>\n      <td>2000</td>\n      <td>10.420554</td>\n      <td>5.293305</td>\n      <td>2.302585</td>\n      <td>3.663562</td>\n      <td>3.258097</td>\n      <td>...</td>\n      <td>0</td>\n      <td>1</td>\n      <td>0</td>\n      <td>0</td>\n      <td>0</td>\n      <td>1</td>\n      <td>0</td>\n      <td>0</td>\n      <td>0</td>\n      <td>1</td>\n    </tr>\n    <tr>\n      <th>7</th>\n      <td>12.388398</td>\n      <td>1</td>\n      <td>1</td>\n      <td>6.493754</td>\n      <td>1983</td>\n      <td>8.388054</td>\n      <td>3.951244</td>\n      <td>2.197225</td>\n      <td>1.945910</td>\n      <td>1.098612</td>\n      <td>...</td>\n      <td>0</td>\n      <td>0</td>\n      <td>0</td>\n      <td>0</td>\n      <td>0</td>\n      <td>1</td>\n      <td>0</td>\n      <td>0</td>\n      <td>0</td>\n      <td>1</td>\n    </tr>\n    <tr>\n      <th>8</th>\n      <td>12.429220</td>\n      <td>1</td>\n      <td>1</td>\n      <td>6.499787</td>\n      <td>1965</td>\n      <td>8.388054</td>\n      <td>4.787492</td>\n      <td>2.397895</td>\n      <td>3.295837</td>\n      <td>3.258097</td>\n      <td>...</td>\n      <td>0</td>\n      <td>0</td>\n      <td>0</td>\n      <td>0</td>\n      <td>0</td>\n      <td>1</td>\n      <td>0</td>\n      <td>0</td>\n      <td>0</td>\n      <td>1</td>\n    </tr>\n    <tr>\n      <th>9</th>\n      <td>12.721889</td>\n      <td>1</td>\n      <td>1</td>\n      <td>6.507278</td>\n      <td>2006</td>\n      <td>8.388054</td>\n      <td>5.003946</td>\n      <td>2.397895</td>\n      <td>3.332205</td>\n      <td>3.178054</td>\n      <td>...</td>\n      <td>0</td>\n      <td>1</td>\n      <td>0</td>\n      <td>0</td>\n      <td>0</td>\n      <td>1</td>\n      <td>0</td>\n      <td>0</td>\n      <td>0</td>\n      <td>1</td>\n    </tr>\n  </tbody>\n</table>\n<p>10 rows × 39 columns</p>\n</div>"
     },
     "execution_count": 3,
     "metadata": {},
     "output_type": "execute_result"
    }
   ],
   "source": [
    "# look at the first few lines of dataset\n",
    "df.head(10)"
   ]
  },
  {
   "cell_type": "code",
   "execution_count": 4,
   "metadata": {
    "ExecuteTime": {
     "end_time": "2025-04-11T06:27:04.912007400Z",
     "start_time": "2025-04-11T06:27:04.778357900Z"
    }
   },
   "outputs": [
    {
     "name": "stdout",
     "output_type": "stream",
     "text": [
      "<class 'pandas.core.frame.DataFrame'>\n",
      "RangeIndex: 803 entries, 0 to 802\n",
      "Data columns (total 39 columns):\n",
      " #   Column                              Non-Null Count  Dtype  \n",
      "---  ------                              --------------  -----  \n",
      " 0   tx_price                            803 non-null    float64\n",
      " 1   beds                                803 non-null    int64  \n",
      " 2   baths                               803 non-null    int64  \n",
      " 3   sqft                                803 non-null    float64\n",
      " 4   year_built                          803 non-null    int64  \n",
      " 5   lot_size                            803 non-null    float64\n",
      " 6   restaurants                         803 non-null    float64\n",
      " 7   groceries                           803 non-null    float64\n",
      " 8   nightlife                           803 non-null    float64\n",
      " 9   cafes                               803 non-null    float64\n",
      " 10  shopping                            803 non-null    float64\n",
      " 11  arts_entertainment                  803 non-null    float64\n",
      " 12  beauty_spas                         803 non-null    float64\n",
      " 13  active_life                         803 non-null    float64\n",
      " 14  median_age                          803 non-null    float64\n",
      " 15  married                             803 non-null    float64\n",
      " 16  college_grad                        803 non-null    float64\n",
      " 17  property_tax                        803 non-null    float64\n",
      " 18  insurance                           803 non-null    float64\n",
      " 19  median_school                       803 non-null    float64\n",
      " 20  num_schools                         803 non-null    float64\n",
      " 21  tx_year                             803 non-null    int64  \n",
      " 22  Missing_lot_size                    803 non-null    bool   \n",
      " 23  school_score                        803 non-null    float64\n",
      " 24  tax_per_sqft                        803 non-null    float64\n",
      " 25  exterior_walls_Brick                803 non-null    int64  \n",
      " 26  exterior_walls_Metal                803 non-null    int64  \n",
      " 27  exterior_walls_Missing              803 non-null    int64  \n",
      " 28  exterior_walls_Other                803 non-null    int64  \n",
      " 29  exterior_walls_Siding (Alum/Vinyl)  803 non-null    int64  \n",
      " 30  exterior_walls_Wood                 803 non-null    int64  \n",
      " 31  roof_Asphalt                        803 non-null    int64  \n",
      " 32  roof_Composition                    803 non-null    int64  \n",
      " 33  roof_Gravel/rock                    803 non-null    int64  \n",
      " 34  roof_Missing                        803 non-null    int64  \n",
      " 35  roof_Other                          803 non-null    int64  \n",
      " 36  roof_Shake shingle                  803 non-null    int64  \n",
      " 37  basement_1.0                        803 non-null    int64  \n",
      " 38  basement_Missing                    803 non-null    int64  \n",
      "dtypes: bool(1), float64(20), int64(18)\n",
      "memory usage: 239.3 KB\n"
     ]
    }
   ],
   "source": [
    "# Get an overview of the features and their datatype\n",
    "df.info()"
   ]
  },
  {
   "cell_type": "code",
   "execution_count": 4,
   "metadata": {
    "ExecuteTime": {
     "end_time": "2025-04-11T06:27:04.962668900Z",
     "start_time": "2025-04-11T06:27:04.857808300Z"
    }
   },
   "outputs": [],
   "source": []
  },
  {
   "cell_type": "markdown",
   "metadata": {},
   "source": [
    "# 2 Train/test-split and standardisation\n",
    "\n",
    "1. Shuffle your data\n",
    "\n",
    "2. Make a Train/test \n",
    "    - Use random state=123 whenever needed\n",
    "    - Use a test size of 20%\n",
    "    \n",
    "3. Standardize both datasets  \n",
    "    + Make sure you only standardise the numerical features"
   ]
  },
  {
   "cell_type": "markdown",
   "metadata": {},
   "source": [
    "1. Shuffle"
   ]
  },
  {
   "cell_type": "code",
   "execution_count": 5,
   "metadata": {
    "ExecuteTime": {
     "end_time": "2025-04-11T06:27:05.185514400Z",
     "start_time": "2025-04-11T06:27:04.878825600Z"
    }
   },
   "outputs": [],
   "source": [
    "from sklearn.model_selection import train_test_split\n",
    "from sklearn.preprocessing import StandardScaler\n",
    "df_shuffle = df.sample(frac=1, random_state=123)\n",
    "\n",
    "X = df_shuffle.drop(columns='tx_price')\n",
    "y = df_shuffle['tx_price']\n"
   ]
  },
  {
   "cell_type": "markdown",
   "metadata": {},
   "source": [
    "2. Split"
   ]
  },
  {
   "cell_type": "code",
   "execution_count": 6,
   "metadata": {
    "ExecuteTime": {
     "end_time": "2025-04-11T06:27:05.200972400Z",
     "start_time": "2025-04-11T06:27:05.186560900Z"
    }
   },
   "outputs": [],
   "source": [
    "\n",
    "X_train, X_test, y_train, y_test = train_test_split(X, y, test_size=0.2, random_state=123)\n"
   ]
  },
  {
   "cell_type": "markdown",
   "metadata": {},
   "source": [
    "3. Standardize"
   ]
  },
  {
   "cell_type": "code",
   "execution_count": 7,
   "metadata": {
    "ExecuteTime": {
     "end_time": "2025-04-11T06:27:05.261686900Z",
     "start_time": "2025-04-11T06:27:05.201971600Z"
    }
   },
   "outputs": [],
   "source": [
    "# standardise\n",
    "from sklearn.preprocessing import StandardScaler\n",
    "\n",
    "num_feat = X_train.select_dtypes(include=['int64', 'float64']).columns\n",
    "\n",
    "scaler = StandardScaler()\n",
    "scaler.fit(X_train[num_feat])\n",
    "\n",
    "X_train_stand = X_train.copy()\n",
    "X_test_stand = X_test.copy()\n",
    "X_train_stand[num_feat] = scaler.transform(X_train[num_feat])\n",
    "X_test_stand[num_feat] = scaler.transform(X_test[num_feat])"
   ]
  },
  {
   "cell_type": "markdown",
   "metadata": {},
   "source": [
    "# 3. Nearest neighbors\n",
    "## 3.1. Radius Neighbors Regression\n",
    "\n",
    "1. Perform a crossvalidation, using radius neighbors regression, with the radius ranging from 1 to 10\n",
    "    + Does it work?\n",
    "    + Why (not)?\n",
    "2. Search for the minimum radius that does work and do a crossvalidation with 10 values. \n",
    "    + E.g if it works at radius 5, let the radius range from 5 to 15.\n",
    "    + Draw a plot that plots the radius against the R2\n",
    "    + Is your best model a good model: is it underfitted or overfitted?\n",
    "    + Is RNN a good method to use when there are a lot of features."
   ]
  },
  {
   "cell_type": "markdown",
   "metadata": {},
   "source": [
    "1. Crossvalidation from 1 to 10."
   ]
  },
  {
   "cell_type": "code",
   "execution_count": 8,
   "metadata": {
    "ExecuteTime": {
     "end_time": "2025-04-11T06:27:08.607338900Z",
     "start_time": "2025-04-11T06:27:05.236249600Z"
    }
   },
   "outputs": [
    {
     "name": "stderr",
     "output_type": "stream",
     "text": [
      "C:\\Users\\teode\\IdeaProjects\\AppliedArtificialIntelligence\\venv\\lib\\site-packages\\sklearn\\neighbors\\_regression.py:508: UserWarning: One or more samples have no neighbors within specified radius; predicting NaN.\n",
      "  warnings.warn(empty_warning_msg)\n",
      "C:\\Users\\teode\\IdeaProjects\\AppliedArtificialIntelligence\\venv\\lib\\site-packages\\sklearn\\model_selection\\_validation.py:978: UserWarning: Scoring failed. The score on this train-test partition for these parameters will be set to nan. Details: \n",
      "Traceback (most recent call last):\n",
      "  File \"C:\\Users\\teode\\IdeaProjects\\AppliedArtificialIntelligence\\venv\\lib\\site-packages\\sklearn\\metrics\\_scorer.py\", line 144, in __call__\n",
      "    score = scorer(estimator, *args, **routed_params.get(name).score)\n",
      "  File \"C:\\Users\\teode\\IdeaProjects\\AppliedArtificialIntelligence\\venv\\lib\\site-packages\\sklearn\\metrics\\_scorer.py\", line 472, in __call__\n",
      "    return estimator.score(*args, **kwargs)\n",
      "  File \"C:\\Users\\teode\\IdeaProjects\\AppliedArtificialIntelligence\\venv\\lib\\site-packages\\sklearn\\base.py\", line 663, in score\n",
      "    return r2_score(y, y_pred, sample_weight=sample_weight)\n",
      "  File \"C:\\Users\\teode\\IdeaProjects\\AppliedArtificialIntelligence\\venv\\lib\\site-packages\\sklearn\\utils\\_param_validation.py\", line 216, in wrapper\n",
      "    return func(*args, **kwargs)\n",
      "  File \"C:\\Users\\teode\\IdeaProjects\\AppliedArtificialIntelligence\\venv\\lib\\site-packages\\sklearn\\metrics\\_regression.py\", line 1257, in r2_score\n",
      "    _check_reg_targets_with_floating_dtype(\n",
      "  File \"C:\\Users\\teode\\IdeaProjects\\AppliedArtificialIntelligence\\venv\\lib\\site-packages\\sklearn\\metrics\\_regression.py\", line 198, in _check_reg_targets_with_floating_dtype\n",
      "    y_type, y_true, y_pred, multioutput = _check_reg_targets(\n",
      "  File \"C:\\Users\\teode\\IdeaProjects\\AppliedArtificialIntelligence\\venv\\lib\\site-packages\\sklearn\\metrics\\_regression.py\", line 106, in _check_reg_targets\n",
      "    y_pred = check_array(y_pred, ensure_2d=False, dtype=dtype)\n",
      "  File \"C:\\Users\\teode\\IdeaProjects\\AppliedArtificialIntelligence\\venv\\lib\\site-packages\\sklearn\\utils\\validation.py\", line 1107, in check_array\n",
      "    _assert_all_finite(\n",
      "  File \"C:\\Users\\teode\\IdeaProjects\\AppliedArtificialIntelligence\\venv\\lib\\site-packages\\sklearn\\utils\\validation.py\", line 120, in _assert_all_finite\n",
      "    _assert_all_finite_element_wise(\n",
      "  File \"C:\\Users\\teode\\IdeaProjects\\AppliedArtificialIntelligence\\venv\\lib\\site-packages\\sklearn\\utils\\validation.py\", line 169, in _assert_all_finite_element_wise\n",
      "    raise ValueError(msg_err)\n",
      "ValueError: Input contains NaN.\n",
      "\n",
      "  warnings.warn(\n",
      "C:\\Users\\teode\\IdeaProjects\\AppliedArtificialIntelligence\\venv\\lib\\site-packages\\sklearn\\neighbors\\_regression.py:508: UserWarning: One or more samples have no neighbors within specified radius; predicting NaN.\n",
      "  warnings.warn(empty_warning_msg)\n",
      "C:\\Users\\teode\\IdeaProjects\\AppliedArtificialIntelligence\\venv\\lib\\site-packages\\sklearn\\model_selection\\_validation.py:978: UserWarning: Scoring failed. The score on this train-test partition for these parameters will be set to nan. Details: \n",
      "Traceback (most recent call last):\n",
      "  File \"C:\\Users\\teode\\IdeaProjects\\AppliedArtificialIntelligence\\venv\\lib\\site-packages\\sklearn\\metrics\\_scorer.py\", line 144, in __call__\n",
      "    score = scorer(estimator, *args, **routed_params.get(name).score)\n",
      "  File \"C:\\Users\\teode\\IdeaProjects\\AppliedArtificialIntelligence\\venv\\lib\\site-packages\\sklearn\\metrics\\_scorer.py\", line 472, in __call__\n",
      "    return estimator.score(*args, **kwargs)\n",
      "  File \"C:\\Users\\teode\\IdeaProjects\\AppliedArtificialIntelligence\\venv\\lib\\site-packages\\sklearn\\base.py\", line 663, in score\n",
      "    return r2_score(y, y_pred, sample_weight=sample_weight)\n",
      "  File \"C:\\Users\\teode\\IdeaProjects\\AppliedArtificialIntelligence\\venv\\lib\\site-packages\\sklearn\\utils\\_param_validation.py\", line 216, in wrapper\n",
      "    return func(*args, **kwargs)\n",
      "  File \"C:\\Users\\teode\\IdeaProjects\\AppliedArtificialIntelligence\\venv\\lib\\site-packages\\sklearn\\metrics\\_regression.py\", line 1257, in r2_score\n",
      "    _check_reg_targets_with_floating_dtype(\n",
      "  File \"C:\\Users\\teode\\IdeaProjects\\AppliedArtificialIntelligence\\venv\\lib\\site-packages\\sklearn\\metrics\\_regression.py\", line 198, in _check_reg_targets_with_floating_dtype\n",
      "    y_type, y_true, y_pred, multioutput = _check_reg_targets(\n",
      "  File \"C:\\Users\\teode\\IdeaProjects\\AppliedArtificialIntelligence\\venv\\lib\\site-packages\\sklearn\\metrics\\_regression.py\", line 106, in _check_reg_targets\n",
      "    y_pred = check_array(y_pred, ensure_2d=False, dtype=dtype)\n",
      "  File \"C:\\Users\\teode\\IdeaProjects\\AppliedArtificialIntelligence\\venv\\lib\\site-packages\\sklearn\\utils\\validation.py\", line 1107, in check_array\n",
      "    _assert_all_finite(\n",
      "  File \"C:\\Users\\teode\\IdeaProjects\\AppliedArtificialIntelligence\\venv\\lib\\site-packages\\sklearn\\utils\\validation.py\", line 120, in _assert_all_finite\n",
      "    _assert_all_finite_element_wise(\n",
      "  File \"C:\\Users\\teode\\IdeaProjects\\AppliedArtificialIntelligence\\venv\\lib\\site-packages\\sklearn\\utils\\validation.py\", line 169, in _assert_all_finite_element_wise\n",
      "    raise ValueError(msg_err)\n",
      "ValueError: Input contains NaN.\n",
      "\n",
      "  warnings.warn(\n",
      "C:\\Users\\teode\\IdeaProjects\\AppliedArtificialIntelligence\\venv\\lib\\site-packages\\sklearn\\neighbors\\_regression.py:508: UserWarning: One or more samples have no neighbors within specified radius; predicting NaN.\n",
      "  warnings.warn(empty_warning_msg)\n",
      "C:\\Users\\teode\\IdeaProjects\\AppliedArtificialIntelligence\\venv\\lib\\site-packages\\sklearn\\model_selection\\_validation.py:978: UserWarning: Scoring failed. The score on this train-test partition for these parameters will be set to nan. Details: \n",
      "Traceback (most recent call last):\n",
      "  File \"C:\\Users\\teode\\IdeaProjects\\AppliedArtificialIntelligence\\venv\\lib\\site-packages\\sklearn\\metrics\\_scorer.py\", line 144, in __call__\n",
      "    score = scorer(estimator, *args, **routed_params.get(name).score)\n",
      "  File \"C:\\Users\\teode\\IdeaProjects\\AppliedArtificialIntelligence\\venv\\lib\\site-packages\\sklearn\\metrics\\_scorer.py\", line 472, in __call__\n",
      "    return estimator.score(*args, **kwargs)\n",
      "  File \"C:\\Users\\teode\\IdeaProjects\\AppliedArtificialIntelligence\\venv\\lib\\site-packages\\sklearn\\base.py\", line 663, in score\n",
      "    return r2_score(y, y_pred, sample_weight=sample_weight)\n",
      "  File \"C:\\Users\\teode\\IdeaProjects\\AppliedArtificialIntelligence\\venv\\lib\\site-packages\\sklearn\\utils\\_param_validation.py\", line 216, in wrapper\n",
      "    return func(*args, **kwargs)\n",
      "  File \"C:\\Users\\teode\\IdeaProjects\\AppliedArtificialIntelligence\\venv\\lib\\site-packages\\sklearn\\metrics\\_regression.py\", line 1257, in r2_score\n",
      "    _check_reg_targets_with_floating_dtype(\n",
      "  File \"C:\\Users\\teode\\IdeaProjects\\AppliedArtificialIntelligence\\venv\\lib\\site-packages\\sklearn\\metrics\\_regression.py\", line 198, in _check_reg_targets_with_floating_dtype\n",
      "    y_type, y_true, y_pred, multioutput = _check_reg_targets(\n",
      "  File \"C:\\Users\\teode\\IdeaProjects\\AppliedArtificialIntelligence\\venv\\lib\\site-packages\\sklearn\\metrics\\_regression.py\", line 106, in _check_reg_targets\n",
      "    y_pred = check_array(y_pred, ensure_2d=False, dtype=dtype)\n",
      "  File \"C:\\Users\\teode\\IdeaProjects\\AppliedArtificialIntelligence\\venv\\lib\\site-packages\\sklearn\\utils\\validation.py\", line 1107, in check_array\n",
      "    _assert_all_finite(\n",
      "  File \"C:\\Users\\teode\\IdeaProjects\\AppliedArtificialIntelligence\\venv\\lib\\site-packages\\sklearn\\utils\\validation.py\", line 120, in _assert_all_finite\n",
      "    _assert_all_finite_element_wise(\n",
      "  File \"C:\\Users\\teode\\IdeaProjects\\AppliedArtificialIntelligence\\venv\\lib\\site-packages\\sklearn\\utils\\validation.py\", line 169, in _assert_all_finite_element_wise\n",
      "    raise ValueError(msg_err)\n",
      "ValueError: Input contains NaN.\n",
      "\n",
      "  warnings.warn(\n",
      "C:\\Users\\teode\\IdeaProjects\\AppliedArtificialIntelligence\\venv\\lib\\site-packages\\sklearn\\neighbors\\_regression.py:508: UserWarning: One or more samples have no neighbors within specified radius; predicting NaN.\n",
      "  warnings.warn(empty_warning_msg)\n",
      "C:\\Users\\teode\\IdeaProjects\\AppliedArtificialIntelligence\\venv\\lib\\site-packages\\sklearn\\model_selection\\_validation.py:978: UserWarning: Scoring failed. The score on this train-test partition for these parameters will be set to nan. Details: \n",
      "Traceback (most recent call last):\n",
      "  File \"C:\\Users\\teode\\IdeaProjects\\AppliedArtificialIntelligence\\venv\\lib\\site-packages\\sklearn\\metrics\\_scorer.py\", line 144, in __call__\n",
      "    score = scorer(estimator, *args, **routed_params.get(name).score)\n",
      "  File \"C:\\Users\\teode\\IdeaProjects\\AppliedArtificialIntelligence\\venv\\lib\\site-packages\\sklearn\\metrics\\_scorer.py\", line 472, in __call__\n",
      "    return estimator.score(*args, **kwargs)\n",
      "  File \"C:\\Users\\teode\\IdeaProjects\\AppliedArtificialIntelligence\\venv\\lib\\site-packages\\sklearn\\base.py\", line 663, in score\n",
      "    return r2_score(y, y_pred, sample_weight=sample_weight)\n",
      "  File \"C:\\Users\\teode\\IdeaProjects\\AppliedArtificialIntelligence\\venv\\lib\\site-packages\\sklearn\\utils\\_param_validation.py\", line 216, in wrapper\n",
      "    return func(*args, **kwargs)\n",
      "  File \"C:\\Users\\teode\\IdeaProjects\\AppliedArtificialIntelligence\\venv\\lib\\site-packages\\sklearn\\metrics\\_regression.py\", line 1257, in r2_score\n",
      "    _check_reg_targets_with_floating_dtype(\n",
      "  File \"C:\\Users\\teode\\IdeaProjects\\AppliedArtificialIntelligence\\venv\\lib\\site-packages\\sklearn\\metrics\\_regression.py\", line 198, in _check_reg_targets_with_floating_dtype\n",
      "    y_type, y_true, y_pred, multioutput = _check_reg_targets(\n",
      "  File \"C:\\Users\\teode\\IdeaProjects\\AppliedArtificialIntelligence\\venv\\lib\\site-packages\\sklearn\\metrics\\_regression.py\", line 106, in _check_reg_targets\n",
      "    y_pred = check_array(y_pred, ensure_2d=False, dtype=dtype)\n",
      "  File \"C:\\Users\\teode\\IdeaProjects\\AppliedArtificialIntelligence\\venv\\lib\\site-packages\\sklearn\\utils\\validation.py\", line 1107, in check_array\n",
      "    _assert_all_finite(\n",
      "  File \"C:\\Users\\teode\\IdeaProjects\\AppliedArtificialIntelligence\\venv\\lib\\site-packages\\sklearn\\utils\\validation.py\", line 120, in _assert_all_finite\n",
      "    _assert_all_finite_element_wise(\n",
      "  File \"C:\\Users\\teode\\IdeaProjects\\AppliedArtificialIntelligence\\venv\\lib\\site-packages\\sklearn\\utils\\validation.py\", line 169, in _assert_all_finite_element_wise\n",
      "    raise ValueError(msg_err)\n",
      "ValueError: Input contains NaN.\n",
      "\n",
      "  warnings.warn(\n",
      "C:\\Users\\teode\\IdeaProjects\\AppliedArtificialIntelligence\\venv\\lib\\site-packages\\sklearn\\neighbors\\_regression.py:508: UserWarning: One or more samples have no neighbors within specified radius; predicting NaN.\n",
      "  warnings.warn(empty_warning_msg)\n",
      "C:\\Users\\teode\\IdeaProjects\\AppliedArtificialIntelligence\\venv\\lib\\site-packages\\sklearn\\model_selection\\_validation.py:978: UserWarning: Scoring failed. The score on this train-test partition for these parameters will be set to nan. Details: \n",
      "Traceback (most recent call last):\n",
      "  File \"C:\\Users\\teode\\IdeaProjects\\AppliedArtificialIntelligence\\venv\\lib\\site-packages\\sklearn\\metrics\\_scorer.py\", line 144, in __call__\n",
      "    score = scorer(estimator, *args, **routed_params.get(name).score)\n",
      "  File \"C:\\Users\\teode\\IdeaProjects\\AppliedArtificialIntelligence\\venv\\lib\\site-packages\\sklearn\\metrics\\_scorer.py\", line 472, in __call__\n",
      "    return estimator.score(*args, **kwargs)\n",
      "  File \"C:\\Users\\teode\\IdeaProjects\\AppliedArtificialIntelligence\\venv\\lib\\site-packages\\sklearn\\base.py\", line 663, in score\n",
      "    return r2_score(y, y_pred, sample_weight=sample_weight)\n",
      "  File \"C:\\Users\\teode\\IdeaProjects\\AppliedArtificialIntelligence\\venv\\lib\\site-packages\\sklearn\\utils\\_param_validation.py\", line 216, in wrapper\n",
      "    return func(*args, **kwargs)\n",
      "  File \"C:\\Users\\teode\\IdeaProjects\\AppliedArtificialIntelligence\\venv\\lib\\site-packages\\sklearn\\metrics\\_regression.py\", line 1257, in r2_score\n",
      "    _check_reg_targets_with_floating_dtype(\n",
      "  File \"C:\\Users\\teode\\IdeaProjects\\AppliedArtificialIntelligence\\venv\\lib\\site-packages\\sklearn\\metrics\\_regression.py\", line 198, in _check_reg_targets_with_floating_dtype\n",
      "    y_type, y_true, y_pred, multioutput = _check_reg_targets(\n",
      "  File \"C:\\Users\\teode\\IdeaProjects\\AppliedArtificialIntelligence\\venv\\lib\\site-packages\\sklearn\\metrics\\_regression.py\", line 106, in _check_reg_targets\n",
      "    y_pred = check_array(y_pred, ensure_2d=False, dtype=dtype)\n",
      "  File \"C:\\Users\\teode\\IdeaProjects\\AppliedArtificialIntelligence\\venv\\lib\\site-packages\\sklearn\\utils\\validation.py\", line 1107, in check_array\n",
      "    _assert_all_finite(\n",
      "  File \"C:\\Users\\teode\\IdeaProjects\\AppliedArtificialIntelligence\\venv\\lib\\site-packages\\sklearn\\utils\\validation.py\", line 120, in _assert_all_finite\n",
      "    _assert_all_finite_element_wise(\n",
      "  File \"C:\\Users\\teode\\IdeaProjects\\AppliedArtificialIntelligence\\venv\\lib\\site-packages\\sklearn\\utils\\validation.py\", line 169, in _assert_all_finite_element_wise\n",
      "    raise ValueError(msg_err)\n",
      "ValueError: Input contains NaN.\n",
      "\n",
      "  warnings.warn(\n",
      "C:\\Users\\teode\\IdeaProjects\\AppliedArtificialIntelligence\\venv\\lib\\site-packages\\sklearn\\neighbors\\_regression.py:508: UserWarning: One or more samples have no neighbors within specified radius; predicting NaN.\n",
      "  warnings.warn(empty_warning_msg)\n",
      "C:\\Users\\teode\\IdeaProjects\\AppliedArtificialIntelligence\\venv\\lib\\site-packages\\sklearn\\model_selection\\_validation.py:978: UserWarning: Scoring failed. The score on this train-test partition for these parameters will be set to nan. Details: \n",
      "Traceback (most recent call last):\n",
      "  File \"C:\\Users\\teode\\IdeaProjects\\AppliedArtificialIntelligence\\venv\\lib\\site-packages\\sklearn\\metrics\\_scorer.py\", line 144, in __call__\n",
      "    score = scorer(estimator, *args, **routed_params.get(name).score)\n",
      "  File \"C:\\Users\\teode\\IdeaProjects\\AppliedArtificialIntelligence\\venv\\lib\\site-packages\\sklearn\\metrics\\_scorer.py\", line 472, in __call__\n",
      "    return estimator.score(*args, **kwargs)\n",
      "  File \"C:\\Users\\teode\\IdeaProjects\\AppliedArtificialIntelligence\\venv\\lib\\site-packages\\sklearn\\base.py\", line 663, in score\n",
      "    return r2_score(y, y_pred, sample_weight=sample_weight)\n",
      "  File \"C:\\Users\\teode\\IdeaProjects\\AppliedArtificialIntelligence\\venv\\lib\\site-packages\\sklearn\\utils\\_param_validation.py\", line 216, in wrapper\n",
      "    return func(*args, **kwargs)\n",
      "  File \"C:\\Users\\teode\\IdeaProjects\\AppliedArtificialIntelligence\\venv\\lib\\site-packages\\sklearn\\metrics\\_regression.py\", line 1257, in r2_score\n",
      "    _check_reg_targets_with_floating_dtype(\n",
      "  File \"C:\\Users\\teode\\IdeaProjects\\AppliedArtificialIntelligence\\venv\\lib\\site-packages\\sklearn\\metrics\\_regression.py\", line 198, in _check_reg_targets_with_floating_dtype\n",
      "    y_type, y_true, y_pred, multioutput = _check_reg_targets(\n",
      "  File \"C:\\Users\\teode\\IdeaProjects\\AppliedArtificialIntelligence\\venv\\lib\\site-packages\\sklearn\\metrics\\_regression.py\", line 106, in _check_reg_targets\n",
      "    y_pred = check_array(y_pred, ensure_2d=False, dtype=dtype)\n",
      "  File \"C:\\Users\\teode\\IdeaProjects\\AppliedArtificialIntelligence\\venv\\lib\\site-packages\\sklearn\\utils\\validation.py\", line 1107, in check_array\n",
      "    _assert_all_finite(\n",
      "  File \"C:\\Users\\teode\\IdeaProjects\\AppliedArtificialIntelligence\\venv\\lib\\site-packages\\sklearn\\utils\\validation.py\", line 120, in _assert_all_finite\n",
      "    _assert_all_finite_element_wise(\n",
      "  File \"C:\\Users\\teode\\IdeaProjects\\AppliedArtificialIntelligence\\venv\\lib\\site-packages\\sklearn\\utils\\validation.py\", line 169, in _assert_all_finite_element_wise\n",
      "    raise ValueError(msg_err)\n",
      "ValueError: Input contains NaN.\n",
      "\n",
      "  warnings.warn(\n",
      "C:\\Users\\teode\\IdeaProjects\\AppliedArtificialIntelligence\\venv\\lib\\site-packages\\sklearn\\neighbors\\_regression.py:508: UserWarning: One or more samples have no neighbors within specified radius; predicting NaN.\n",
      "  warnings.warn(empty_warning_msg)\n",
      "C:\\Users\\teode\\IdeaProjects\\AppliedArtificialIntelligence\\venv\\lib\\site-packages\\sklearn\\model_selection\\_validation.py:978: UserWarning: Scoring failed. The score on this train-test partition for these parameters will be set to nan. Details: \n",
      "Traceback (most recent call last):\n",
      "  File \"C:\\Users\\teode\\IdeaProjects\\AppliedArtificialIntelligence\\venv\\lib\\site-packages\\sklearn\\metrics\\_scorer.py\", line 144, in __call__\n",
      "    score = scorer(estimator, *args, **routed_params.get(name).score)\n",
      "  File \"C:\\Users\\teode\\IdeaProjects\\AppliedArtificialIntelligence\\venv\\lib\\site-packages\\sklearn\\metrics\\_scorer.py\", line 472, in __call__\n",
      "    return estimator.score(*args, **kwargs)\n",
      "  File \"C:\\Users\\teode\\IdeaProjects\\AppliedArtificialIntelligence\\venv\\lib\\site-packages\\sklearn\\base.py\", line 663, in score\n",
      "    return r2_score(y, y_pred, sample_weight=sample_weight)\n",
      "  File \"C:\\Users\\teode\\IdeaProjects\\AppliedArtificialIntelligence\\venv\\lib\\site-packages\\sklearn\\utils\\_param_validation.py\", line 216, in wrapper\n",
      "    return func(*args, **kwargs)\n",
      "  File \"C:\\Users\\teode\\IdeaProjects\\AppliedArtificialIntelligence\\venv\\lib\\site-packages\\sklearn\\metrics\\_regression.py\", line 1257, in r2_score\n",
      "    _check_reg_targets_with_floating_dtype(\n",
      "  File \"C:\\Users\\teode\\IdeaProjects\\AppliedArtificialIntelligence\\venv\\lib\\site-packages\\sklearn\\metrics\\_regression.py\", line 198, in _check_reg_targets_with_floating_dtype\n",
      "    y_type, y_true, y_pred, multioutput = _check_reg_targets(\n",
      "  File \"C:\\Users\\teode\\IdeaProjects\\AppliedArtificialIntelligence\\venv\\lib\\site-packages\\sklearn\\metrics\\_regression.py\", line 106, in _check_reg_targets\n",
      "    y_pred = check_array(y_pred, ensure_2d=False, dtype=dtype)\n",
      "  File \"C:\\Users\\teode\\IdeaProjects\\AppliedArtificialIntelligence\\venv\\lib\\site-packages\\sklearn\\utils\\validation.py\", line 1107, in check_array\n",
      "    _assert_all_finite(\n",
      "  File \"C:\\Users\\teode\\IdeaProjects\\AppliedArtificialIntelligence\\venv\\lib\\site-packages\\sklearn\\utils\\validation.py\", line 120, in _assert_all_finite\n",
      "    _assert_all_finite_element_wise(\n",
      "  File \"C:\\Users\\teode\\IdeaProjects\\AppliedArtificialIntelligence\\venv\\lib\\site-packages\\sklearn\\utils\\validation.py\", line 169, in _assert_all_finite_element_wise\n",
      "    raise ValueError(msg_err)\n",
      "ValueError: Input contains NaN.\n",
      "\n",
      "  warnings.warn(\n",
      "C:\\Users\\teode\\IdeaProjects\\AppliedArtificialIntelligence\\venv\\lib\\site-packages\\sklearn\\neighbors\\_regression.py:508: UserWarning: One or more samples have no neighbors within specified radius; predicting NaN.\n",
      "  warnings.warn(empty_warning_msg)\n",
      "C:\\Users\\teode\\IdeaProjects\\AppliedArtificialIntelligence\\venv\\lib\\site-packages\\sklearn\\model_selection\\_validation.py:978: UserWarning: Scoring failed. The score on this train-test partition for these parameters will be set to nan. Details: \n",
      "Traceback (most recent call last):\n",
      "  File \"C:\\Users\\teode\\IdeaProjects\\AppliedArtificialIntelligence\\venv\\lib\\site-packages\\sklearn\\metrics\\_scorer.py\", line 144, in __call__\n",
      "    score = scorer(estimator, *args, **routed_params.get(name).score)\n",
      "  File \"C:\\Users\\teode\\IdeaProjects\\AppliedArtificialIntelligence\\venv\\lib\\site-packages\\sklearn\\metrics\\_scorer.py\", line 472, in __call__\n",
      "    return estimator.score(*args, **kwargs)\n",
      "  File \"C:\\Users\\teode\\IdeaProjects\\AppliedArtificialIntelligence\\venv\\lib\\site-packages\\sklearn\\base.py\", line 663, in score\n",
      "    return r2_score(y, y_pred, sample_weight=sample_weight)\n",
      "  File \"C:\\Users\\teode\\IdeaProjects\\AppliedArtificialIntelligence\\venv\\lib\\site-packages\\sklearn\\utils\\_param_validation.py\", line 216, in wrapper\n",
      "    return func(*args, **kwargs)\n",
      "  File \"C:\\Users\\teode\\IdeaProjects\\AppliedArtificialIntelligence\\venv\\lib\\site-packages\\sklearn\\metrics\\_regression.py\", line 1257, in r2_score\n",
      "    _check_reg_targets_with_floating_dtype(\n",
      "  File \"C:\\Users\\teode\\IdeaProjects\\AppliedArtificialIntelligence\\venv\\lib\\site-packages\\sklearn\\metrics\\_regression.py\", line 198, in _check_reg_targets_with_floating_dtype\n",
      "    y_type, y_true, y_pred, multioutput = _check_reg_targets(\n",
      "  File \"C:\\Users\\teode\\IdeaProjects\\AppliedArtificialIntelligence\\venv\\lib\\site-packages\\sklearn\\metrics\\_regression.py\", line 106, in _check_reg_targets\n",
      "    y_pred = check_array(y_pred, ensure_2d=False, dtype=dtype)\n",
      "  File \"C:\\Users\\teode\\IdeaProjects\\AppliedArtificialIntelligence\\venv\\lib\\site-packages\\sklearn\\utils\\validation.py\", line 1107, in check_array\n",
      "    _assert_all_finite(\n",
      "  File \"C:\\Users\\teode\\IdeaProjects\\AppliedArtificialIntelligence\\venv\\lib\\site-packages\\sklearn\\utils\\validation.py\", line 120, in _assert_all_finite\n",
      "    _assert_all_finite_element_wise(\n",
      "  File \"C:\\Users\\teode\\IdeaProjects\\AppliedArtificialIntelligence\\venv\\lib\\site-packages\\sklearn\\utils\\validation.py\", line 169, in _assert_all_finite_element_wise\n",
      "    raise ValueError(msg_err)\n",
      "ValueError: Input contains NaN.\n",
      "\n",
      "  warnings.warn(\n",
      "C:\\Users\\teode\\IdeaProjects\\AppliedArtificialIntelligence\\venv\\lib\\site-packages\\sklearn\\neighbors\\_regression.py:508: UserWarning: One or more samples have no neighbors within specified radius; predicting NaN.\n",
      "  warnings.warn(empty_warning_msg)\n",
      "C:\\Users\\teode\\IdeaProjects\\AppliedArtificialIntelligence\\venv\\lib\\site-packages\\sklearn\\model_selection\\_validation.py:978: UserWarning: Scoring failed. The score on this train-test partition for these parameters will be set to nan. Details: \n",
      "Traceback (most recent call last):\n",
      "  File \"C:\\Users\\teode\\IdeaProjects\\AppliedArtificialIntelligence\\venv\\lib\\site-packages\\sklearn\\metrics\\_scorer.py\", line 144, in __call__\n",
      "    score = scorer(estimator, *args, **routed_params.get(name).score)\n",
      "  File \"C:\\Users\\teode\\IdeaProjects\\AppliedArtificialIntelligence\\venv\\lib\\site-packages\\sklearn\\metrics\\_scorer.py\", line 472, in __call__\n",
      "    return estimator.score(*args, **kwargs)\n",
      "  File \"C:\\Users\\teode\\IdeaProjects\\AppliedArtificialIntelligence\\venv\\lib\\site-packages\\sklearn\\base.py\", line 663, in score\n",
      "    return r2_score(y, y_pred, sample_weight=sample_weight)\n",
      "  File \"C:\\Users\\teode\\IdeaProjects\\AppliedArtificialIntelligence\\venv\\lib\\site-packages\\sklearn\\utils\\_param_validation.py\", line 216, in wrapper\n",
      "    return func(*args, **kwargs)\n",
      "  File \"C:\\Users\\teode\\IdeaProjects\\AppliedArtificialIntelligence\\venv\\lib\\site-packages\\sklearn\\metrics\\_regression.py\", line 1257, in r2_score\n",
      "    _check_reg_targets_with_floating_dtype(\n",
      "  File \"C:\\Users\\teode\\IdeaProjects\\AppliedArtificialIntelligence\\venv\\lib\\site-packages\\sklearn\\metrics\\_regression.py\", line 198, in _check_reg_targets_with_floating_dtype\n",
      "    y_type, y_true, y_pred, multioutput = _check_reg_targets(\n",
      "  File \"C:\\Users\\teode\\IdeaProjects\\AppliedArtificialIntelligence\\venv\\lib\\site-packages\\sklearn\\metrics\\_regression.py\", line 106, in _check_reg_targets\n",
      "    y_pred = check_array(y_pred, ensure_2d=False, dtype=dtype)\n",
      "  File \"C:\\Users\\teode\\IdeaProjects\\AppliedArtificialIntelligence\\venv\\lib\\site-packages\\sklearn\\utils\\validation.py\", line 1107, in check_array\n",
      "    _assert_all_finite(\n",
      "  File \"C:\\Users\\teode\\IdeaProjects\\AppliedArtificialIntelligence\\venv\\lib\\site-packages\\sklearn\\utils\\validation.py\", line 120, in _assert_all_finite\n",
      "    _assert_all_finite_element_wise(\n",
      "  File \"C:\\Users\\teode\\IdeaProjects\\AppliedArtificialIntelligence\\venv\\lib\\site-packages\\sklearn\\utils\\validation.py\", line 169, in _assert_all_finite_element_wise\n",
      "    raise ValueError(msg_err)\n",
      "ValueError: Input contains NaN.\n",
      "\n",
      "  warnings.warn(\n",
      "C:\\Users\\teode\\IdeaProjects\\AppliedArtificialIntelligence\\venv\\lib\\site-packages\\sklearn\\neighbors\\_regression.py:508: UserWarning: One or more samples have no neighbors within specified radius; predicting NaN.\n",
      "  warnings.warn(empty_warning_msg)\n",
      "C:\\Users\\teode\\IdeaProjects\\AppliedArtificialIntelligence\\venv\\lib\\site-packages\\sklearn\\model_selection\\_validation.py:978: UserWarning: Scoring failed. The score on this train-test partition for these parameters will be set to nan. Details: \n",
      "Traceback (most recent call last):\n",
      "  File \"C:\\Users\\teode\\IdeaProjects\\AppliedArtificialIntelligence\\venv\\lib\\site-packages\\sklearn\\metrics\\_scorer.py\", line 144, in __call__\n",
      "    score = scorer(estimator, *args, **routed_params.get(name).score)\n",
      "  File \"C:\\Users\\teode\\IdeaProjects\\AppliedArtificialIntelligence\\venv\\lib\\site-packages\\sklearn\\metrics\\_scorer.py\", line 472, in __call__\n",
      "    return estimator.score(*args, **kwargs)\n",
      "  File \"C:\\Users\\teode\\IdeaProjects\\AppliedArtificialIntelligence\\venv\\lib\\site-packages\\sklearn\\base.py\", line 663, in score\n",
      "    return r2_score(y, y_pred, sample_weight=sample_weight)\n",
      "  File \"C:\\Users\\teode\\IdeaProjects\\AppliedArtificialIntelligence\\venv\\lib\\site-packages\\sklearn\\utils\\_param_validation.py\", line 216, in wrapper\n",
      "    return func(*args, **kwargs)\n",
      "  File \"C:\\Users\\teode\\IdeaProjects\\AppliedArtificialIntelligence\\venv\\lib\\site-packages\\sklearn\\metrics\\_regression.py\", line 1257, in r2_score\n",
      "    _check_reg_targets_with_floating_dtype(\n",
      "  File \"C:\\Users\\teode\\IdeaProjects\\AppliedArtificialIntelligence\\venv\\lib\\site-packages\\sklearn\\metrics\\_regression.py\", line 198, in _check_reg_targets_with_floating_dtype\n",
      "    y_type, y_true, y_pred, multioutput = _check_reg_targets(\n",
      "  File \"C:\\Users\\teode\\IdeaProjects\\AppliedArtificialIntelligence\\venv\\lib\\site-packages\\sklearn\\metrics\\_regression.py\", line 106, in _check_reg_targets\n",
      "    y_pred = check_array(y_pred, ensure_2d=False, dtype=dtype)\n",
      "  File \"C:\\Users\\teode\\IdeaProjects\\AppliedArtificialIntelligence\\venv\\lib\\site-packages\\sklearn\\utils\\validation.py\", line 1107, in check_array\n",
      "    _assert_all_finite(\n",
      "  File \"C:\\Users\\teode\\IdeaProjects\\AppliedArtificialIntelligence\\venv\\lib\\site-packages\\sklearn\\utils\\validation.py\", line 120, in _assert_all_finite\n",
      "    _assert_all_finite_element_wise(\n",
      "  File \"C:\\Users\\teode\\IdeaProjects\\AppliedArtificialIntelligence\\venv\\lib\\site-packages\\sklearn\\utils\\validation.py\", line 169, in _assert_all_finite_element_wise\n",
      "    raise ValueError(msg_err)\n",
      "ValueError: Input contains NaN.\n",
      "\n",
      "  warnings.warn(\n",
      "C:\\Users\\teode\\IdeaProjects\\AppliedArtificialIntelligence\\venv\\lib\\site-packages\\sklearn\\neighbors\\_regression.py:508: UserWarning: One or more samples have no neighbors within specified radius; predicting NaN.\n",
      "  warnings.warn(empty_warning_msg)\n",
      "C:\\Users\\teode\\IdeaProjects\\AppliedArtificialIntelligence\\venv\\lib\\site-packages\\sklearn\\model_selection\\_validation.py:978: UserWarning: Scoring failed. The score on this train-test partition for these parameters will be set to nan. Details: \n",
      "Traceback (most recent call last):\n",
      "  File \"C:\\Users\\teode\\IdeaProjects\\AppliedArtificialIntelligence\\venv\\lib\\site-packages\\sklearn\\metrics\\_scorer.py\", line 144, in __call__\n",
      "    score = scorer(estimator, *args, **routed_params.get(name).score)\n",
      "  File \"C:\\Users\\teode\\IdeaProjects\\AppliedArtificialIntelligence\\venv\\lib\\site-packages\\sklearn\\metrics\\_scorer.py\", line 472, in __call__\n",
      "    return estimator.score(*args, **kwargs)\n",
      "  File \"C:\\Users\\teode\\IdeaProjects\\AppliedArtificialIntelligence\\venv\\lib\\site-packages\\sklearn\\base.py\", line 663, in score\n",
      "    return r2_score(y, y_pred, sample_weight=sample_weight)\n",
      "  File \"C:\\Users\\teode\\IdeaProjects\\AppliedArtificialIntelligence\\venv\\lib\\site-packages\\sklearn\\utils\\_param_validation.py\", line 216, in wrapper\n",
      "    return func(*args, **kwargs)\n",
      "  File \"C:\\Users\\teode\\IdeaProjects\\AppliedArtificialIntelligence\\venv\\lib\\site-packages\\sklearn\\metrics\\_regression.py\", line 1257, in r2_score\n",
      "    _check_reg_targets_with_floating_dtype(\n",
      "  File \"C:\\Users\\teode\\IdeaProjects\\AppliedArtificialIntelligence\\venv\\lib\\site-packages\\sklearn\\metrics\\_regression.py\", line 198, in _check_reg_targets_with_floating_dtype\n",
      "    y_type, y_true, y_pred, multioutput = _check_reg_targets(\n",
      "  File \"C:\\Users\\teode\\IdeaProjects\\AppliedArtificialIntelligence\\venv\\lib\\site-packages\\sklearn\\metrics\\_regression.py\", line 106, in _check_reg_targets\n",
      "    y_pred = check_array(y_pred, ensure_2d=False, dtype=dtype)\n",
      "  File \"C:\\Users\\teode\\IdeaProjects\\AppliedArtificialIntelligence\\venv\\lib\\site-packages\\sklearn\\utils\\validation.py\", line 1107, in check_array\n",
      "    _assert_all_finite(\n",
      "  File \"C:\\Users\\teode\\IdeaProjects\\AppliedArtificialIntelligence\\venv\\lib\\site-packages\\sklearn\\utils\\validation.py\", line 120, in _assert_all_finite\n",
      "    _assert_all_finite_element_wise(\n",
      "  File \"C:\\Users\\teode\\IdeaProjects\\AppliedArtificialIntelligence\\venv\\lib\\site-packages\\sklearn\\utils\\validation.py\", line 169, in _assert_all_finite_element_wise\n",
      "    raise ValueError(msg_err)\n",
      "ValueError: Input contains NaN.\n",
      "\n",
      "  warnings.warn(\n",
      "C:\\Users\\teode\\IdeaProjects\\AppliedArtificialIntelligence\\venv\\lib\\site-packages\\sklearn\\neighbors\\_regression.py:508: UserWarning: One or more samples have no neighbors within specified radius; predicting NaN.\n",
      "  warnings.warn(empty_warning_msg)\n",
      "C:\\Users\\teode\\IdeaProjects\\AppliedArtificialIntelligence\\venv\\lib\\site-packages\\sklearn\\model_selection\\_validation.py:978: UserWarning: Scoring failed. The score on this train-test partition for these parameters will be set to nan. Details: \n",
      "Traceback (most recent call last):\n",
      "  File \"C:\\Users\\teode\\IdeaProjects\\AppliedArtificialIntelligence\\venv\\lib\\site-packages\\sklearn\\metrics\\_scorer.py\", line 144, in __call__\n",
      "    score = scorer(estimator, *args, **routed_params.get(name).score)\n",
      "  File \"C:\\Users\\teode\\IdeaProjects\\AppliedArtificialIntelligence\\venv\\lib\\site-packages\\sklearn\\metrics\\_scorer.py\", line 472, in __call__\n",
      "    return estimator.score(*args, **kwargs)\n",
      "  File \"C:\\Users\\teode\\IdeaProjects\\AppliedArtificialIntelligence\\venv\\lib\\site-packages\\sklearn\\base.py\", line 663, in score\n",
      "    return r2_score(y, y_pred, sample_weight=sample_weight)\n",
      "  File \"C:\\Users\\teode\\IdeaProjects\\AppliedArtificialIntelligence\\venv\\lib\\site-packages\\sklearn\\utils\\_param_validation.py\", line 216, in wrapper\n",
      "    return func(*args, **kwargs)\n",
      "  File \"C:\\Users\\teode\\IdeaProjects\\AppliedArtificialIntelligence\\venv\\lib\\site-packages\\sklearn\\metrics\\_regression.py\", line 1257, in r2_score\n",
      "    _check_reg_targets_with_floating_dtype(\n",
      "  File \"C:\\Users\\teode\\IdeaProjects\\AppliedArtificialIntelligence\\venv\\lib\\site-packages\\sklearn\\metrics\\_regression.py\", line 198, in _check_reg_targets_with_floating_dtype\n",
      "    y_type, y_true, y_pred, multioutput = _check_reg_targets(\n",
      "  File \"C:\\Users\\teode\\IdeaProjects\\AppliedArtificialIntelligence\\venv\\lib\\site-packages\\sklearn\\metrics\\_regression.py\", line 106, in _check_reg_targets\n",
      "    y_pred = check_array(y_pred, ensure_2d=False, dtype=dtype)\n",
      "  File \"C:\\Users\\teode\\IdeaProjects\\AppliedArtificialIntelligence\\venv\\lib\\site-packages\\sklearn\\utils\\validation.py\", line 1107, in check_array\n",
      "    _assert_all_finite(\n",
      "  File \"C:\\Users\\teode\\IdeaProjects\\AppliedArtificialIntelligence\\venv\\lib\\site-packages\\sklearn\\utils\\validation.py\", line 120, in _assert_all_finite\n",
      "    _assert_all_finite_element_wise(\n",
      "  File \"C:\\Users\\teode\\IdeaProjects\\AppliedArtificialIntelligence\\venv\\lib\\site-packages\\sklearn\\utils\\validation.py\", line 169, in _assert_all_finite_element_wise\n",
      "    raise ValueError(msg_err)\n",
      "ValueError: Input contains NaN.\n",
      "\n",
      "  warnings.warn(\n",
      "C:\\Users\\teode\\IdeaProjects\\AppliedArtificialIntelligence\\venv\\lib\\site-packages\\sklearn\\neighbors\\_regression.py:508: UserWarning: One or more samples have no neighbors within specified radius; predicting NaN.\n",
      "  warnings.warn(empty_warning_msg)\n",
      "C:\\Users\\teode\\IdeaProjects\\AppliedArtificialIntelligence\\venv\\lib\\site-packages\\sklearn\\model_selection\\_validation.py:978: UserWarning: Scoring failed. The score on this train-test partition for these parameters will be set to nan. Details: \n",
      "Traceback (most recent call last):\n",
      "  File \"C:\\Users\\teode\\IdeaProjects\\AppliedArtificialIntelligence\\venv\\lib\\site-packages\\sklearn\\metrics\\_scorer.py\", line 144, in __call__\n",
      "    score = scorer(estimator, *args, **routed_params.get(name).score)\n",
      "  File \"C:\\Users\\teode\\IdeaProjects\\AppliedArtificialIntelligence\\venv\\lib\\site-packages\\sklearn\\metrics\\_scorer.py\", line 472, in __call__\n",
      "    return estimator.score(*args, **kwargs)\n",
      "  File \"C:\\Users\\teode\\IdeaProjects\\AppliedArtificialIntelligence\\venv\\lib\\site-packages\\sklearn\\base.py\", line 663, in score\n",
      "    return r2_score(y, y_pred, sample_weight=sample_weight)\n",
      "  File \"C:\\Users\\teode\\IdeaProjects\\AppliedArtificialIntelligence\\venv\\lib\\site-packages\\sklearn\\utils\\_param_validation.py\", line 216, in wrapper\n",
      "    return func(*args, **kwargs)\n",
      "  File \"C:\\Users\\teode\\IdeaProjects\\AppliedArtificialIntelligence\\venv\\lib\\site-packages\\sklearn\\metrics\\_regression.py\", line 1257, in r2_score\n",
      "    _check_reg_targets_with_floating_dtype(\n",
      "  File \"C:\\Users\\teode\\IdeaProjects\\AppliedArtificialIntelligence\\venv\\lib\\site-packages\\sklearn\\metrics\\_regression.py\", line 198, in _check_reg_targets_with_floating_dtype\n",
      "    y_type, y_true, y_pred, multioutput = _check_reg_targets(\n",
      "  File \"C:\\Users\\teode\\IdeaProjects\\AppliedArtificialIntelligence\\venv\\lib\\site-packages\\sklearn\\metrics\\_regression.py\", line 106, in _check_reg_targets\n",
      "    y_pred = check_array(y_pred, ensure_2d=False, dtype=dtype)\n",
      "  File \"C:\\Users\\teode\\IdeaProjects\\AppliedArtificialIntelligence\\venv\\lib\\site-packages\\sklearn\\utils\\validation.py\", line 1107, in check_array\n",
      "    _assert_all_finite(\n",
      "  File \"C:\\Users\\teode\\IdeaProjects\\AppliedArtificialIntelligence\\venv\\lib\\site-packages\\sklearn\\utils\\validation.py\", line 120, in _assert_all_finite\n",
      "    _assert_all_finite_element_wise(\n",
      "  File \"C:\\Users\\teode\\IdeaProjects\\AppliedArtificialIntelligence\\venv\\lib\\site-packages\\sklearn\\utils\\validation.py\", line 169, in _assert_all_finite_element_wise\n",
      "    raise ValueError(msg_err)\n",
      "ValueError: Input contains NaN.\n",
      "\n",
      "  warnings.warn(\n",
      "C:\\Users\\teode\\IdeaProjects\\AppliedArtificialIntelligence\\venv\\lib\\site-packages\\sklearn\\neighbors\\_regression.py:508: UserWarning: One or more samples have no neighbors within specified radius; predicting NaN.\n",
      "  warnings.warn(empty_warning_msg)\n",
      "C:\\Users\\teode\\IdeaProjects\\AppliedArtificialIntelligence\\venv\\lib\\site-packages\\sklearn\\model_selection\\_validation.py:978: UserWarning: Scoring failed. The score on this train-test partition for these parameters will be set to nan. Details: \n",
      "Traceback (most recent call last):\n",
      "  File \"C:\\Users\\teode\\IdeaProjects\\AppliedArtificialIntelligence\\venv\\lib\\site-packages\\sklearn\\metrics\\_scorer.py\", line 144, in __call__\n",
      "    score = scorer(estimator, *args, **routed_params.get(name).score)\n",
      "  File \"C:\\Users\\teode\\IdeaProjects\\AppliedArtificialIntelligence\\venv\\lib\\site-packages\\sklearn\\metrics\\_scorer.py\", line 472, in __call__\n",
      "    return estimator.score(*args, **kwargs)\n",
      "  File \"C:\\Users\\teode\\IdeaProjects\\AppliedArtificialIntelligence\\venv\\lib\\site-packages\\sklearn\\base.py\", line 663, in score\n",
      "    return r2_score(y, y_pred, sample_weight=sample_weight)\n",
      "  File \"C:\\Users\\teode\\IdeaProjects\\AppliedArtificialIntelligence\\venv\\lib\\site-packages\\sklearn\\utils\\_param_validation.py\", line 216, in wrapper\n",
      "    return func(*args, **kwargs)\n",
      "  File \"C:\\Users\\teode\\IdeaProjects\\AppliedArtificialIntelligence\\venv\\lib\\site-packages\\sklearn\\metrics\\_regression.py\", line 1257, in r2_score\n",
      "    _check_reg_targets_with_floating_dtype(\n",
      "  File \"C:\\Users\\teode\\IdeaProjects\\AppliedArtificialIntelligence\\venv\\lib\\site-packages\\sklearn\\metrics\\_regression.py\", line 198, in _check_reg_targets_with_floating_dtype\n",
      "    y_type, y_true, y_pred, multioutput = _check_reg_targets(\n",
      "  File \"C:\\Users\\teode\\IdeaProjects\\AppliedArtificialIntelligence\\venv\\lib\\site-packages\\sklearn\\metrics\\_regression.py\", line 106, in _check_reg_targets\n",
      "    y_pred = check_array(y_pred, ensure_2d=False, dtype=dtype)\n",
      "  File \"C:\\Users\\teode\\IdeaProjects\\AppliedArtificialIntelligence\\venv\\lib\\site-packages\\sklearn\\utils\\validation.py\", line 1107, in check_array\n",
      "    _assert_all_finite(\n",
      "  File \"C:\\Users\\teode\\IdeaProjects\\AppliedArtificialIntelligence\\venv\\lib\\site-packages\\sklearn\\utils\\validation.py\", line 120, in _assert_all_finite\n",
      "    _assert_all_finite_element_wise(\n",
      "  File \"C:\\Users\\teode\\IdeaProjects\\AppliedArtificialIntelligence\\venv\\lib\\site-packages\\sklearn\\utils\\validation.py\", line 169, in _assert_all_finite_element_wise\n",
      "    raise ValueError(msg_err)\n",
      "ValueError: Input contains NaN.\n",
      "\n",
      "  warnings.warn(\n",
      "C:\\Users\\teode\\IdeaProjects\\AppliedArtificialIntelligence\\venv\\lib\\site-packages\\sklearn\\neighbors\\_regression.py:508: UserWarning: One or more samples have no neighbors within specified radius; predicting NaN.\n",
      "  warnings.warn(empty_warning_msg)\n",
      "C:\\Users\\teode\\IdeaProjects\\AppliedArtificialIntelligence\\venv\\lib\\site-packages\\sklearn\\model_selection\\_validation.py:978: UserWarning: Scoring failed. The score on this train-test partition for these parameters will be set to nan. Details: \n",
      "Traceback (most recent call last):\n",
      "  File \"C:\\Users\\teode\\IdeaProjects\\AppliedArtificialIntelligence\\venv\\lib\\site-packages\\sklearn\\metrics\\_scorer.py\", line 144, in __call__\n",
      "    score = scorer(estimator, *args, **routed_params.get(name).score)\n",
      "  File \"C:\\Users\\teode\\IdeaProjects\\AppliedArtificialIntelligence\\venv\\lib\\site-packages\\sklearn\\metrics\\_scorer.py\", line 472, in __call__\n",
      "    return estimator.score(*args, **kwargs)\n",
      "  File \"C:\\Users\\teode\\IdeaProjects\\AppliedArtificialIntelligence\\venv\\lib\\site-packages\\sklearn\\base.py\", line 663, in score\n",
      "    return r2_score(y, y_pred, sample_weight=sample_weight)\n",
      "  File \"C:\\Users\\teode\\IdeaProjects\\AppliedArtificialIntelligence\\venv\\lib\\site-packages\\sklearn\\utils\\_param_validation.py\", line 216, in wrapper\n",
      "    return func(*args, **kwargs)\n",
      "  File \"C:\\Users\\teode\\IdeaProjects\\AppliedArtificialIntelligence\\venv\\lib\\site-packages\\sklearn\\metrics\\_regression.py\", line 1257, in r2_score\n",
      "    _check_reg_targets_with_floating_dtype(\n",
      "  File \"C:\\Users\\teode\\IdeaProjects\\AppliedArtificialIntelligence\\venv\\lib\\site-packages\\sklearn\\metrics\\_regression.py\", line 198, in _check_reg_targets_with_floating_dtype\n",
      "    y_type, y_true, y_pred, multioutput = _check_reg_targets(\n",
      "  File \"C:\\Users\\teode\\IdeaProjects\\AppliedArtificialIntelligence\\venv\\lib\\site-packages\\sklearn\\metrics\\_regression.py\", line 106, in _check_reg_targets\n",
      "    y_pred = check_array(y_pred, ensure_2d=False, dtype=dtype)\n",
      "  File \"C:\\Users\\teode\\IdeaProjects\\AppliedArtificialIntelligence\\venv\\lib\\site-packages\\sklearn\\utils\\validation.py\", line 1107, in check_array\n",
      "    _assert_all_finite(\n",
      "  File \"C:\\Users\\teode\\IdeaProjects\\AppliedArtificialIntelligence\\venv\\lib\\site-packages\\sklearn\\utils\\validation.py\", line 120, in _assert_all_finite\n",
      "    _assert_all_finite_element_wise(\n",
      "  File \"C:\\Users\\teode\\IdeaProjects\\AppliedArtificialIntelligence\\venv\\lib\\site-packages\\sklearn\\utils\\validation.py\", line 169, in _assert_all_finite_element_wise\n",
      "    raise ValueError(msg_err)\n",
      "ValueError: Input contains NaN.\n",
      "\n",
      "  warnings.warn(\n",
      "C:\\Users\\teode\\IdeaProjects\\AppliedArtificialIntelligence\\venv\\lib\\site-packages\\sklearn\\neighbors\\_regression.py:508: UserWarning: One or more samples have no neighbors within specified radius; predicting NaN.\n",
      "  warnings.warn(empty_warning_msg)\n",
      "C:\\Users\\teode\\IdeaProjects\\AppliedArtificialIntelligence\\venv\\lib\\site-packages\\sklearn\\model_selection\\_validation.py:978: UserWarning: Scoring failed. The score on this train-test partition for these parameters will be set to nan. Details: \n",
      "Traceback (most recent call last):\n",
      "  File \"C:\\Users\\teode\\IdeaProjects\\AppliedArtificialIntelligence\\venv\\lib\\site-packages\\sklearn\\metrics\\_scorer.py\", line 144, in __call__\n",
      "    score = scorer(estimator, *args, **routed_params.get(name).score)\n",
      "  File \"C:\\Users\\teode\\IdeaProjects\\AppliedArtificialIntelligence\\venv\\lib\\site-packages\\sklearn\\metrics\\_scorer.py\", line 472, in __call__\n",
      "    return estimator.score(*args, **kwargs)\n",
      "  File \"C:\\Users\\teode\\IdeaProjects\\AppliedArtificialIntelligence\\venv\\lib\\site-packages\\sklearn\\base.py\", line 663, in score\n",
      "    return r2_score(y, y_pred, sample_weight=sample_weight)\n",
      "  File \"C:\\Users\\teode\\IdeaProjects\\AppliedArtificialIntelligence\\venv\\lib\\site-packages\\sklearn\\utils\\_param_validation.py\", line 216, in wrapper\n",
      "    return func(*args, **kwargs)\n",
      "  File \"C:\\Users\\teode\\IdeaProjects\\AppliedArtificialIntelligence\\venv\\lib\\site-packages\\sklearn\\metrics\\_regression.py\", line 1257, in r2_score\n",
      "    _check_reg_targets_with_floating_dtype(\n",
      "  File \"C:\\Users\\teode\\IdeaProjects\\AppliedArtificialIntelligence\\venv\\lib\\site-packages\\sklearn\\metrics\\_regression.py\", line 198, in _check_reg_targets_with_floating_dtype\n",
      "    y_type, y_true, y_pred, multioutput = _check_reg_targets(\n",
      "  File \"C:\\Users\\teode\\IdeaProjects\\AppliedArtificialIntelligence\\venv\\lib\\site-packages\\sklearn\\metrics\\_regression.py\", line 106, in _check_reg_targets\n",
      "    y_pred = check_array(y_pred, ensure_2d=False, dtype=dtype)\n",
      "  File \"C:\\Users\\teode\\IdeaProjects\\AppliedArtificialIntelligence\\venv\\lib\\site-packages\\sklearn\\utils\\validation.py\", line 1107, in check_array\n",
      "    _assert_all_finite(\n",
      "  File \"C:\\Users\\teode\\IdeaProjects\\AppliedArtificialIntelligence\\venv\\lib\\site-packages\\sklearn\\utils\\validation.py\", line 120, in _assert_all_finite\n",
      "    _assert_all_finite_element_wise(\n",
      "  File \"C:\\Users\\teode\\IdeaProjects\\AppliedArtificialIntelligence\\venv\\lib\\site-packages\\sklearn\\utils\\validation.py\", line 169, in _assert_all_finite_element_wise\n",
      "    raise ValueError(msg_err)\n",
      "ValueError: Input contains NaN.\n",
      "\n",
      "  warnings.warn(\n",
      "C:\\Users\\teode\\IdeaProjects\\AppliedArtificialIntelligence\\venv\\lib\\site-packages\\sklearn\\neighbors\\_regression.py:508: UserWarning: One or more samples have no neighbors within specified radius; predicting NaN.\n",
      "  warnings.warn(empty_warning_msg)\n",
      "C:\\Users\\teode\\IdeaProjects\\AppliedArtificialIntelligence\\venv\\lib\\site-packages\\sklearn\\model_selection\\_validation.py:978: UserWarning: Scoring failed. The score on this train-test partition for these parameters will be set to nan. Details: \n",
      "Traceback (most recent call last):\n",
      "  File \"C:\\Users\\teode\\IdeaProjects\\AppliedArtificialIntelligence\\venv\\lib\\site-packages\\sklearn\\metrics\\_scorer.py\", line 144, in __call__\n",
      "    score = scorer(estimator, *args, **routed_params.get(name).score)\n",
      "  File \"C:\\Users\\teode\\IdeaProjects\\AppliedArtificialIntelligence\\venv\\lib\\site-packages\\sklearn\\metrics\\_scorer.py\", line 472, in __call__\n",
      "    return estimator.score(*args, **kwargs)\n",
      "  File \"C:\\Users\\teode\\IdeaProjects\\AppliedArtificialIntelligence\\venv\\lib\\site-packages\\sklearn\\base.py\", line 663, in score\n",
      "    return r2_score(y, y_pred, sample_weight=sample_weight)\n",
      "  File \"C:\\Users\\teode\\IdeaProjects\\AppliedArtificialIntelligence\\venv\\lib\\site-packages\\sklearn\\utils\\_param_validation.py\", line 216, in wrapper\n",
      "    return func(*args, **kwargs)\n",
      "  File \"C:\\Users\\teode\\IdeaProjects\\AppliedArtificialIntelligence\\venv\\lib\\site-packages\\sklearn\\metrics\\_regression.py\", line 1257, in r2_score\n",
      "    _check_reg_targets_with_floating_dtype(\n",
      "  File \"C:\\Users\\teode\\IdeaProjects\\AppliedArtificialIntelligence\\venv\\lib\\site-packages\\sklearn\\metrics\\_regression.py\", line 198, in _check_reg_targets_with_floating_dtype\n",
      "    y_type, y_true, y_pred, multioutput = _check_reg_targets(\n",
      "  File \"C:\\Users\\teode\\IdeaProjects\\AppliedArtificialIntelligence\\venv\\lib\\site-packages\\sklearn\\metrics\\_regression.py\", line 106, in _check_reg_targets\n",
      "    y_pred = check_array(y_pred, ensure_2d=False, dtype=dtype)\n",
      "  File \"C:\\Users\\teode\\IdeaProjects\\AppliedArtificialIntelligence\\venv\\lib\\site-packages\\sklearn\\utils\\validation.py\", line 1107, in check_array\n",
      "    _assert_all_finite(\n",
      "  File \"C:\\Users\\teode\\IdeaProjects\\AppliedArtificialIntelligence\\venv\\lib\\site-packages\\sklearn\\utils\\validation.py\", line 120, in _assert_all_finite\n",
      "    _assert_all_finite_element_wise(\n",
      "  File \"C:\\Users\\teode\\IdeaProjects\\AppliedArtificialIntelligence\\venv\\lib\\site-packages\\sklearn\\utils\\validation.py\", line 169, in _assert_all_finite_element_wise\n",
      "    raise ValueError(msg_err)\n",
      "ValueError: Input contains NaN.\n",
      "\n",
      "  warnings.warn(\n",
      "C:\\Users\\teode\\IdeaProjects\\AppliedArtificialIntelligence\\venv\\lib\\site-packages\\sklearn\\neighbors\\_regression.py:508: UserWarning: One or more samples have no neighbors within specified radius; predicting NaN.\n",
      "  warnings.warn(empty_warning_msg)\n",
      "C:\\Users\\teode\\IdeaProjects\\AppliedArtificialIntelligence\\venv\\lib\\site-packages\\sklearn\\model_selection\\_validation.py:978: UserWarning: Scoring failed. The score on this train-test partition for these parameters will be set to nan. Details: \n",
      "Traceback (most recent call last):\n",
      "  File \"C:\\Users\\teode\\IdeaProjects\\AppliedArtificialIntelligence\\venv\\lib\\site-packages\\sklearn\\metrics\\_scorer.py\", line 144, in __call__\n",
      "    score = scorer(estimator, *args, **routed_params.get(name).score)\n",
      "  File \"C:\\Users\\teode\\IdeaProjects\\AppliedArtificialIntelligence\\venv\\lib\\site-packages\\sklearn\\metrics\\_scorer.py\", line 472, in __call__\n",
      "    return estimator.score(*args, **kwargs)\n",
      "  File \"C:\\Users\\teode\\IdeaProjects\\AppliedArtificialIntelligence\\venv\\lib\\site-packages\\sklearn\\base.py\", line 663, in score\n",
      "    return r2_score(y, y_pred, sample_weight=sample_weight)\n",
      "  File \"C:\\Users\\teode\\IdeaProjects\\AppliedArtificialIntelligence\\venv\\lib\\site-packages\\sklearn\\utils\\_param_validation.py\", line 216, in wrapper\n",
      "    return func(*args, **kwargs)\n",
      "  File \"C:\\Users\\teode\\IdeaProjects\\AppliedArtificialIntelligence\\venv\\lib\\site-packages\\sklearn\\metrics\\_regression.py\", line 1257, in r2_score\n",
      "    _check_reg_targets_with_floating_dtype(\n",
      "  File \"C:\\Users\\teode\\IdeaProjects\\AppliedArtificialIntelligence\\venv\\lib\\site-packages\\sklearn\\metrics\\_regression.py\", line 198, in _check_reg_targets_with_floating_dtype\n",
      "    y_type, y_true, y_pred, multioutput = _check_reg_targets(\n",
      "  File \"C:\\Users\\teode\\IdeaProjects\\AppliedArtificialIntelligence\\venv\\lib\\site-packages\\sklearn\\metrics\\_regression.py\", line 106, in _check_reg_targets\n",
      "    y_pred = check_array(y_pred, ensure_2d=False, dtype=dtype)\n",
      "  File \"C:\\Users\\teode\\IdeaProjects\\AppliedArtificialIntelligence\\venv\\lib\\site-packages\\sklearn\\utils\\validation.py\", line 1107, in check_array\n",
      "    _assert_all_finite(\n",
      "  File \"C:\\Users\\teode\\IdeaProjects\\AppliedArtificialIntelligence\\venv\\lib\\site-packages\\sklearn\\utils\\validation.py\", line 120, in _assert_all_finite\n",
      "    _assert_all_finite_element_wise(\n",
      "  File \"C:\\Users\\teode\\IdeaProjects\\AppliedArtificialIntelligence\\venv\\lib\\site-packages\\sklearn\\utils\\validation.py\", line 169, in _assert_all_finite_element_wise\n",
      "    raise ValueError(msg_err)\n",
      "ValueError: Input contains NaN.\n",
      "\n",
      "  warnings.warn(\n",
      "C:\\Users\\teode\\IdeaProjects\\AppliedArtificialIntelligence\\venv\\lib\\site-packages\\sklearn\\neighbors\\_regression.py:508: UserWarning: One or more samples have no neighbors within specified radius; predicting NaN.\n",
      "  warnings.warn(empty_warning_msg)\n",
      "C:\\Users\\teode\\IdeaProjects\\AppliedArtificialIntelligence\\venv\\lib\\site-packages\\sklearn\\model_selection\\_validation.py:978: UserWarning: Scoring failed. The score on this train-test partition for these parameters will be set to nan. Details: \n",
      "Traceback (most recent call last):\n",
      "  File \"C:\\Users\\teode\\IdeaProjects\\AppliedArtificialIntelligence\\venv\\lib\\site-packages\\sklearn\\metrics\\_scorer.py\", line 144, in __call__\n",
      "    score = scorer(estimator, *args, **routed_params.get(name).score)\n",
      "  File \"C:\\Users\\teode\\IdeaProjects\\AppliedArtificialIntelligence\\venv\\lib\\site-packages\\sklearn\\metrics\\_scorer.py\", line 472, in __call__\n",
      "    return estimator.score(*args, **kwargs)\n",
      "  File \"C:\\Users\\teode\\IdeaProjects\\AppliedArtificialIntelligence\\venv\\lib\\site-packages\\sklearn\\base.py\", line 663, in score\n",
      "    return r2_score(y, y_pred, sample_weight=sample_weight)\n",
      "  File \"C:\\Users\\teode\\IdeaProjects\\AppliedArtificialIntelligence\\venv\\lib\\site-packages\\sklearn\\utils\\_param_validation.py\", line 216, in wrapper\n",
      "    return func(*args, **kwargs)\n",
      "  File \"C:\\Users\\teode\\IdeaProjects\\AppliedArtificialIntelligence\\venv\\lib\\site-packages\\sklearn\\metrics\\_regression.py\", line 1257, in r2_score\n",
      "    _check_reg_targets_with_floating_dtype(\n",
      "  File \"C:\\Users\\teode\\IdeaProjects\\AppliedArtificialIntelligence\\venv\\lib\\site-packages\\sklearn\\metrics\\_regression.py\", line 198, in _check_reg_targets_with_floating_dtype\n",
      "    y_type, y_true, y_pred, multioutput = _check_reg_targets(\n",
      "  File \"C:\\Users\\teode\\IdeaProjects\\AppliedArtificialIntelligence\\venv\\lib\\site-packages\\sklearn\\metrics\\_regression.py\", line 106, in _check_reg_targets\n",
      "    y_pred = check_array(y_pred, ensure_2d=False, dtype=dtype)\n",
      "  File \"C:\\Users\\teode\\IdeaProjects\\AppliedArtificialIntelligence\\venv\\lib\\site-packages\\sklearn\\utils\\validation.py\", line 1107, in check_array\n",
      "    _assert_all_finite(\n",
      "  File \"C:\\Users\\teode\\IdeaProjects\\AppliedArtificialIntelligence\\venv\\lib\\site-packages\\sklearn\\utils\\validation.py\", line 120, in _assert_all_finite\n",
      "    _assert_all_finite_element_wise(\n",
      "  File \"C:\\Users\\teode\\IdeaProjects\\AppliedArtificialIntelligence\\venv\\lib\\site-packages\\sklearn\\utils\\validation.py\", line 169, in _assert_all_finite_element_wise\n",
      "    raise ValueError(msg_err)\n",
      "ValueError: Input contains NaN.\n",
      "\n",
      "  warnings.warn(\n",
      "C:\\Users\\teode\\IdeaProjects\\AppliedArtificialIntelligence\\venv\\lib\\site-packages\\sklearn\\neighbors\\_regression.py:508: UserWarning: One or more samples have no neighbors within specified radius; predicting NaN.\n",
      "  warnings.warn(empty_warning_msg)\n",
      "C:\\Users\\teode\\IdeaProjects\\AppliedArtificialIntelligence\\venv\\lib\\site-packages\\sklearn\\model_selection\\_validation.py:978: UserWarning: Scoring failed. The score on this train-test partition for these parameters will be set to nan. Details: \n",
      "Traceback (most recent call last):\n",
      "  File \"C:\\Users\\teode\\IdeaProjects\\AppliedArtificialIntelligence\\venv\\lib\\site-packages\\sklearn\\metrics\\_scorer.py\", line 144, in __call__\n",
      "    score = scorer(estimator, *args, **routed_params.get(name).score)\n",
      "  File \"C:\\Users\\teode\\IdeaProjects\\AppliedArtificialIntelligence\\venv\\lib\\site-packages\\sklearn\\metrics\\_scorer.py\", line 472, in __call__\n",
      "    return estimator.score(*args, **kwargs)\n",
      "  File \"C:\\Users\\teode\\IdeaProjects\\AppliedArtificialIntelligence\\venv\\lib\\site-packages\\sklearn\\base.py\", line 663, in score\n",
      "    return r2_score(y, y_pred, sample_weight=sample_weight)\n",
      "  File \"C:\\Users\\teode\\IdeaProjects\\AppliedArtificialIntelligence\\venv\\lib\\site-packages\\sklearn\\utils\\_param_validation.py\", line 216, in wrapper\n",
      "    return func(*args, **kwargs)\n",
      "  File \"C:\\Users\\teode\\IdeaProjects\\AppliedArtificialIntelligence\\venv\\lib\\site-packages\\sklearn\\metrics\\_regression.py\", line 1257, in r2_score\n",
      "    _check_reg_targets_with_floating_dtype(\n",
      "  File \"C:\\Users\\teode\\IdeaProjects\\AppliedArtificialIntelligence\\venv\\lib\\site-packages\\sklearn\\metrics\\_regression.py\", line 198, in _check_reg_targets_with_floating_dtype\n",
      "    y_type, y_true, y_pred, multioutput = _check_reg_targets(\n",
      "  File \"C:\\Users\\teode\\IdeaProjects\\AppliedArtificialIntelligence\\venv\\lib\\site-packages\\sklearn\\metrics\\_regression.py\", line 106, in _check_reg_targets\n",
      "    y_pred = check_array(y_pred, ensure_2d=False, dtype=dtype)\n",
      "  File \"C:\\Users\\teode\\IdeaProjects\\AppliedArtificialIntelligence\\venv\\lib\\site-packages\\sklearn\\utils\\validation.py\", line 1107, in check_array\n",
      "    _assert_all_finite(\n",
      "  File \"C:\\Users\\teode\\IdeaProjects\\AppliedArtificialIntelligence\\venv\\lib\\site-packages\\sklearn\\utils\\validation.py\", line 120, in _assert_all_finite\n",
      "    _assert_all_finite_element_wise(\n",
      "  File \"C:\\Users\\teode\\IdeaProjects\\AppliedArtificialIntelligence\\venv\\lib\\site-packages\\sklearn\\utils\\validation.py\", line 169, in _assert_all_finite_element_wise\n",
      "    raise ValueError(msg_err)\n",
      "ValueError: Input contains NaN.\n",
      "\n",
      "  warnings.warn(\n",
      "C:\\Users\\teode\\IdeaProjects\\AppliedArtificialIntelligence\\venv\\lib\\site-packages\\sklearn\\neighbors\\_regression.py:508: UserWarning: One or more samples have no neighbors within specified radius; predicting NaN.\n",
      "  warnings.warn(empty_warning_msg)\n",
      "C:\\Users\\teode\\IdeaProjects\\AppliedArtificialIntelligence\\venv\\lib\\site-packages\\sklearn\\model_selection\\_validation.py:978: UserWarning: Scoring failed. The score on this train-test partition for these parameters will be set to nan. Details: \n",
      "Traceback (most recent call last):\n",
      "  File \"C:\\Users\\teode\\IdeaProjects\\AppliedArtificialIntelligence\\venv\\lib\\site-packages\\sklearn\\metrics\\_scorer.py\", line 144, in __call__\n",
      "    score = scorer(estimator, *args, **routed_params.get(name).score)\n",
      "  File \"C:\\Users\\teode\\IdeaProjects\\AppliedArtificialIntelligence\\venv\\lib\\site-packages\\sklearn\\metrics\\_scorer.py\", line 472, in __call__\n",
      "    return estimator.score(*args, **kwargs)\n",
      "  File \"C:\\Users\\teode\\IdeaProjects\\AppliedArtificialIntelligence\\venv\\lib\\site-packages\\sklearn\\base.py\", line 663, in score\n",
      "    return r2_score(y, y_pred, sample_weight=sample_weight)\n",
      "  File \"C:\\Users\\teode\\IdeaProjects\\AppliedArtificialIntelligence\\venv\\lib\\site-packages\\sklearn\\utils\\_param_validation.py\", line 216, in wrapper\n",
      "    return func(*args, **kwargs)\n",
      "  File \"C:\\Users\\teode\\IdeaProjects\\AppliedArtificialIntelligence\\venv\\lib\\site-packages\\sklearn\\metrics\\_regression.py\", line 1257, in r2_score\n",
      "    _check_reg_targets_with_floating_dtype(\n",
      "  File \"C:\\Users\\teode\\IdeaProjects\\AppliedArtificialIntelligence\\venv\\lib\\site-packages\\sklearn\\metrics\\_regression.py\", line 198, in _check_reg_targets_with_floating_dtype\n",
      "    y_type, y_true, y_pred, multioutput = _check_reg_targets(\n",
      "  File \"C:\\Users\\teode\\IdeaProjects\\AppliedArtificialIntelligence\\venv\\lib\\site-packages\\sklearn\\metrics\\_regression.py\", line 106, in _check_reg_targets\n",
      "    y_pred = check_array(y_pred, ensure_2d=False, dtype=dtype)\n",
      "  File \"C:\\Users\\teode\\IdeaProjects\\AppliedArtificialIntelligence\\venv\\lib\\site-packages\\sklearn\\utils\\validation.py\", line 1107, in check_array\n",
      "    _assert_all_finite(\n",
      "  File \"C:\\Users\\teode\\IdeaProjects\\AppliedArtificialIntelligence\\venv\\lib\\site-packages\\sklearn\\utils\\validation.py\", line 120, in _assert_all_finite\n",
      "    _assert_all_finite_element_wise(\n",
      "  File \"C:\\Users\\teode\\IdeaProjects\\AppliedArtificialIntelligence\\venv\\lib\\site-packages\\sklearn\\utils\\validation.py\", line 169, in _assert_all_finite_element_wise\n",
      "    raise ValueError(msg_err)\n",
      "ValueError: Input contains NaN.\n",
      "\n",
      "  warnings.warn(\n",
      "C:\\Users\\teode\\IdeaProjects\\AppliedArtificialIntelligence\\venv\\lib\\site-packages\\sklearn\\neighbors\\_regression.py:508: UserWarning: One or more samples have no neighbors within specified radius; predicting NaN.\n",
      "  warnings.warn(empty_warning_msg)\n",
      "C:\\Users\\teode\\IdeaProjects\\AppliedArtificialIntelligence\\venv\\lib\\site-packages\\sklearn\\model_selection\\_validation.py:978: UserWarning: Scoring failed. The score on this train-test partition for these parameters will be set to nan. Details: \n",
      "Traceback (most recent call last):\n",
      "  File \"C:\\Users\\teode\\IdeaProjects\\AppliedArtificialIntelligence\\venv\\lib\\site-packages\\sklearn\\metrics\\_scorer.py\", line 144, in __call__\n",
      "    score = scorer(estimator, *args, **routed_params.get(name).score)\n",
      "  File \"C:\\Users\\teode\\IdeaProjects\\AppliedArtificialIntelligence\\venv\\lib\\site-packages\\sklearn\\metrics\\_scorer.py\", line 472, in __call__\n",
      "    return estimator.score(*args, **kwargs)\n",
      "  File \"C:\\Users\\teode\\IdeaProjects\\AppliedArtificialIntelligence\\venv\\lib\\site-packages\\sklearn\\base.py\", line 663, in score\n",
      "    return r2_score(y, y_pred, sample_weight=sample_weight)\n",
      "  File \"C:\\Users\\teode\\IdeaProjects\\AppliedArtificialIntelligence\\venv\\lib\\site-packages\\sklearn\\utils\\_param_validation.py\", line 216, in wrapper\n",
      "    return func(*args, **kwargs)\n",
      "  File \"C:\\Users\\teode\\IdeaProjects\\AppliedArtificialIntelligence\\venv\\lib\\site-packages\\sklearn\\metrics\\_regression.py\", line 1257, in r2_score\n",
      "    _check_reg_targets_with_floating_dtype(\n",
      "  File \"C:\\Users\\teode\\IdeaProjects\\AppliedArtificialIntelligence\\venv\\lib\\site-packages\\sklearn\\metrics\\_regression.py\", line 198, in _check_reg_targets_with_floating_dtype\n",
      "    y_type, y_true, y_pred, multioutput = _check_reg_targets(\n",
      "  File \"C:\\Users\\teode\\IdeaProjects\\AppliedArtificialIntelligence\\venv\\lib\\site-packages\\sklearn\\metrics\\_regression.py\", line 106, in _check_reg_targets\n",
      "    y_pred = check_array(y_pred, ensure_2d=False, dtype=dtype)\n",
      "  File \"C:\\Users\\teode\\IdeaProjects\\AppliedArtificialIntelligence\\venv\\lib\\site-packages\\sklearn\\utils\\validation.py\", line 1107, in check_array\n",
      "    _assert_all_finite(\n",
      "  File \"C:\\Users\\teode\\IdeaProjects\\AppliedArtificialIntelligence\\venv\\lib\\site-packages\\sklearn\\utils\\validation.py\", line 120, in _assert_all_finite\n",
      "    _assert_all_finite_element_wise(\n",
      "  File \"C:\\Users\\teode\\IdeaProjects\\AppliedArtificialIntelligence\\venv\\lib\\site-packages\\sklearn\\utils\\validation.py\", line 169, in _assert_all_finite_element_wise\n",
      "    raise ValueError(msg_err)\n",
      "ValueError: Input contains NaN.\n",
      "\n",
      "  warnings.warn(\n",
      "C:\\Users\\teode\\IdeaProjects\\AppliedArtificialIntelligence\\venv\\lib\\site-packages\\sklearn\\neighbors\\_regression.py:508: UserWarning: One or more samples have no neighbors within specified radius; predicting NaN.\n",
      "  warnings.warn(empty_warning_msg)\n",
      "C:\\Users\\teode\\IdeaProjects\\AppliedArtificialIntelligence\\venv\\lib\\site-packages\\sklearn\\model_selection\\_validation.py:978: UserWarning: Scoring failed. The score on this train-test partition for these parameters will be set to nan. Details: \n",
      "Traceback (most recent call last):\n",
      "  File \"C:\\Users\\teode\\IdeaProjects\\AppliedArtificialIntelligence\\venv\\lib\\site-packages\\sklearn\\metrics\\_scorer.py\", line 144, in __call__\n",
      "    score = scorer(estimator, *args, **routed_params.get(name).score)\n",
      "  File \"C:\\Users\\teode\\IdeaProjects\\AppliedArtificialIntelligence\\venv\\lib\\site-packages\\sklearn\\metrics\\_scorer.py\", line 472, in __call__\n",
      "    return estimator.score(*args, **kwargs)\n",
      "  File \"C:\\Users\\teode\\IdeaProjects\\AppliedArtificialIntelligence\\venv\\lib\\site-packages\\sklearn\\base.py\", line 663, in score\n",
      "    return r2_score(y, y_pred, sample_weight=sample_weight)\n",
      "  File \"C:\\Users\\teode\\IdeaProjects\\AppliedArtificialIntelligence\\venv\\lib\\site-packages\\sklearn\\utils\\_param_validation.py\", line 216, in wrapper\n",
      "    return func(*args, **kwargs)\n",
      "  File \"C:\\Users\\teode\\IdeaProjects\\AppliedArtificialIntelligence\\venv\\lib\\site-packages\\sklearn\\metrics\\_regression.py\", line 1257, in r2_score\n",
      "    _check_reg_targets_with_floating_dtype(\n",
      "  File \"C:\\Users\\teode\\IdeaProjects\\AppliedArtificialIntelligence\\venv\\lib\\site-packages\\sklearn\\metrics\\_regression.py\", line 198, in _check_reg_targets_with_floating_dtype\n",
      "    y_type, y_true, y_pred, multioutput = _check_reg_targets(\n",
      "  File \"C:\\Users\\teode\\IdeaProjects\\AppliedArtificialIntelligence\\venv\\lib\\site-packages\\sklearn\\metrics\\_regression.py\", line 106, in _check_reg_targets\n",
      "    y_pred = check_array(y_pred, ensure_2d=False, dtype=dtype)\n",
      "  File \"C:\\Users\\teode\\IdeaProjects\\AppliedArtificialIntelligence\\venv\\lib\\site-packages\\sklearn\\utils\\validation.py\", line 1107, in check_array\n",
      "    _assert_all_finite(\n",
      "  File \"C:\\Users\\teode\\IdeaProjects\\AppliedArtificialIntelligence\\venv\\lib\\site-packages\\sklearn\\utils\\validation.py\", line 120, in _assert_all_finite\n",
      "    _assert_all_finite_element_wise(\n",
      "  File \"C:\\Users\\teode\\IdeaProjects\\AppliedArtificialIntelligence\\venv\\lib\\site-packages\\sklearn\\utils\\validation.py\", line 169, in _assert_all_finite_element_wise\n",
      "    raise ValueError(msg_err)\n",
      "ValueError: Input contains NaN.\n",
      "\n",
      "  warnings.warn(\n",
      "C:\\Users\\teode\\IdeaProjects\\AppliedArtificialIntelligence\\venv\\lib\\site-packages\\sklearn\\neighbors\\_regression.py:508: UserWarning: One or more samples have no neighbors within specified radius; predicting NaN.\n",
      "  warnings.warn(empty_warning_msg)\n",
      "C:\\Users\\teode\\IdeaProjects\\AppliedArtificialIntelligence\\venv\\lib\\site-packages\\sklearn\\model_selection\\_validation.py:978: UserWarning: Scoring failed. The score on this train-test partition for these parameters will be set to nan. Details: \n",
      "Traceback (most recent call last):\n",
      "  File \"C:\\Users\\teode\\IdeaProjects\\AppliedArtificialIntelligence\\venv\\lib\\site-packages\\sklearn\\metrics\\_scorer.py\", line 144, in __call__\n",
      "    score = scorer(estimator, *args, **routed_params.get(name).score)\n",
      "  File \"C:\\Users\\teode\\IdeaProjects\\AppliedArtificialIntelligence\\venv\\lib\\site-packages\\sklearn\\metrics\\_scorer.py\", line 472, in __call__\n",
      "    return estimator.score(*args, **kwargs)\n",
      "  File \"C:\\Users\\teode\\IdeaProjects\\AppliedArtificialIntelligence\\venv\\lib\\site-packages\\sklearn\\base.py\", line 663, in score\n",
      "    return r2_score(y, y_pred, sample_weight=sample_weight)\n",
      "  File \"C:\\Users\\teode\\IdeaProjects\\AppliedArtificialIntelligence\\venv\\lib\\site-packages\\sklearn\\utils\\_param_validation.py\", line 216, in wrapper\n",
      "    return func(*args, **kwargs)\n",
      "  File \"C:\\Users\\teode\\IdeaProjects\\AppliedArtificialIntelligence\\venv\\lib\\site-packages\\sklearn\\metrics\\_regression.py\", line 1257, in r2_score\n",
      "    _check_reg_targets_with_floating_dtype(\n",
      "  File \"C:\\Users\\teode\\IdeaProjects\\AppliedArtificialIntelligence\\venv\\lib\\site-packages\\sklearn\\metrics\\_regression.py\", line 198, in _check_reg_targets_with_floating_dtype\n",
      "    y_type, y_true, y_pred, multioutput = _check_reg_targets(\n",
      "  File \"C:\\Users\\teode\\IdeaProjects\\AppliedArtificialIntelligence\\venv\\lib\\site-packages\\sklearn\\metrics\\_regression.py\", line 106, in _check_reg_targets\n",
      "    y_pred = check_array(y_pred, ensure_2d=False, dtype=dtype)\n",
      "  File \"C:\\Users\\teode\\IdeaProjects\\AppliedArtificialIntelligence\\venv\\lib\\site-packages\\sklearn\\utils\\validation.py\", line 1107, in check_array\n",
      "    _assert_all_finite(\n",
      "  File \"C:\\Users\\teode\\IdeaProjects\\AppliedArtificialIntelligence\\venv\\lib\\site-packages\\sklearn\\utils\\validation.py\", line 120, in _assert_all_finite\n",
      "    _assert_all_finite_element_wise(\n",
      "  File \"C:\\Users\\teode\\IdeaProjects\\AppliedArtificialIntelligence\\venv\\lib\\site-packages\\sklearn\\utils\\validation.py\", line 169, in _assert_all_finite_element_wise\n",
      "    raise ValueError(msg_err)\n",
      "ValueError: Input contains NaN.\n",
      "\n",
      "  warnings.warn(\n",
      "C:\\Users\\teode\\IdeaProjects\\AppliedArtificialIntelligence\\venv\\lib\\site-packages\\sklearn\\neighbors\\_regression.py:508: UserWarning: One or more samples have no neighbors within specified radius; predicting NaN.\n",
      "  warnings.warn(empty_warning_msg)\n",
      "C:\\Users\\teode\\IdeaProjects\\AppliedArtificialIntelligence\\venv\\lib\\site-packages\\sklearn\\model_selection\\_validation.py:978: UserWarning: Scoring failed. The score on this train-test partition for these parameters will be set to nan. Details: \n",
      "Traceback (most recent call last):\n",
      "  File \"C:\\Users\\teode\\IdeaProjects\\AppliedArtificialIntelligence\\venv\\lib\\site-packages\\sklearn\\metrics\\_scorer.py\", line 144, in __call__\n",
      "    score = scorer(estimator, *args, **routed_params.get(name).score)\n",
      "  File \"C:\\Users\\teode\\IdeaProjects\\AppliedArtificialIntelligence\\venv\\lib\\site-packages\\sklearn\\metrics\\_scorer.py\", line 472, in __call__\n",
      "    return estimator.score(*args, **kwargs)\n",
      "  File \"C:\\Users\\teode\\IdeaProjects\\AppliedArtificialIntelligence\\venv\\lib\\site-packages\\sklearn\\base.py\", line 663, in score\n",
      "    return r2_score(y, y_pred, sample_weight=sample_weight)\n",
      "  File \"C:\\Users\\teode\\IdeaProjects\\AppliedArtificialIntelligence\\venv\\lib\\site-packages\\sklearn\\utils\\_param_validation.py\", line 216, in wrapper\n",
      "    return func(*args, **kwargs)\n",
      "  File \"C:\\Users\\teode\\IdeaProjects\\AppliedArtificialIntelligence\\venv\\lib\\site-packages\\sklearn\\metrics\\_regression.py\", line 1257, in r2_score\n",
      "    _check_reg_targets_with_floating_dtype(\n",
      "  File \"C:\\Users\\teode\\IdeaProjects\\AppliedArtificialIntelligence\\venv\\lib\\site-packages\\sklearn\\metrics\\_regression.py\", line 198, in _check_reg_targets_with_floating_dtype\n",
      "    y_type, y_true, y_pred, multioutput = _check_reg_targets(\n",
      "  File \"C:\\Users\\teode\\IdeaProjects\\AppliedArtificialIntelligence\\venv\\lib\\site-packages\\sklearn\\metrics\\_regression.py\", line 106, in _check_reg_targets\n",
      "    y_pred = check_array(y_pred, ensure_2d=False, dtype=dtype)\n",
      "  File \"C:\\Users\\teode\\IdeaProjects\\AppliedArtificialIntelligence\\venv\\lib\\site-packages\\sklearn\\utils\\validation.py\", line 1107, in check_array\n",
      "    _assert_all_finite(\n",
      "  File \"C:\\Users\\teode\\IdeaProjects\\AppliedArtificialIntelligence\\venv\\lib\\site-packages\\sklearn\\utils\\validation.py\", line 120, in _assert_all_finite\n",
      "    _assert_all_finite_element_wise(\n",
      "  File \"C:\\Users\\teode\\IdeaProjects\\AppliedArtificialIntelligence\\venv\\lib\\site-packages\\sklearn\\utils\\validation.py\", line 169, in _assert_all_finite_element_wise\n",
      "    raise ValueError(msg_err)\n",
      "ValueError: Input contains NaN.\n",
      "\n",
      "  warnings.warn(\n",
      "C:\\Users\\teode\\IdeaProjects\\AppliedArtificialIntelligence\\venv\\lib\\site-packages\\sklearn\\neighbors\\_regression.py:508: UserWarning: One or more samples have no neighbors within specified radius; predicting NaN.\n",
      "  warnings.warn(empty_warning_msg)\n",
      "C:\\Users\\teode\\IdeaProjects\\AppliedArtificialIntelligence\\venv\\lib\\site-packages\\sklearn\\model_selection\\_validation.py:978: UserWarning: Scoring failed. The score on this train-test partition for these parameters will be set to nan. Details: \n",
      "Traceback (most recent call last):\n",
      "  File \"C:\\Users\\teode\\IdeaProjects\\AppliedArtificialIntelligence\\venv\\lib\\site-packages\\sklearn\\metrics\\_scorer.py\", line 144, in __call__\n",
      "    score = scorer(estimator, *args, **routed_params.get(name).score)\n",
      "  File \"C:\\Users\\teode\\IdeaProjects\\AppliedArtificialIntelligence\\venv\\lib\\site-packages\\sklearn\\metrics\\_scorer.py\", line 472, in __call__\n",
      "    return estimator.score(*args, **kwargs)\n",
      "  File \"C:\\Users\\teode\\IdeaProjects\\AppliedArtificialIntelligence\\venv\\lib\\site-packages\\sklearn\\base.py\", line 663, in score\n",
      "    return r2_score(y, y_pred, sample_weight=sample_weight)\n",
      "  File \"C:\\Users\\teode\\IdeaProjects\\AppliedArtificialIntelligence\\venv\\lib\\site-packages\\sklearn\\utils\\_param_validation.py\", line 216, in wrapper\n",
      "    return func(*args, **kwargs)\n",
      "  File \"C:\\Users\\teode\\IdeaProjects\\AppliedArtificialIntelligence\\venv\\lib\\site-packages\\sklearn\\metrics\\_regression.py\", line 1257, in r2_score\n",
      "    _check_reg_targets_with_floating_dtype(\n",
      "  File \"C:\\Users\\teode\\IdeaProjects\\AppliedArtificialIntelligence\\venv\\lib\\site-packages\\sklearn\\metrics\\_regression.py\", line 198, in _check_reg_targets_with_floating_dtype\n",
      "    y_type, y_true, y_pred, multioutput = _check_reg_targets(\n",
      "  File \"C:\\Users\\teode\\IdeaProjects\\AppliedArtificialIntelligence\\venv\\lib\\site-packages\\sklearn\\metrics\\_regression.py\", line 106, in _check_reg_targets\n",
      "    y_pred = check_array(y_pred, ensure_2d=False, dtype=dtype)\n",
      "  File \"C:\\Users\\teode\\IdeaProjects\\AppliedArtificialIntelligence\\venv\\lib\\site-packages\\sklearn\\utils\\validation.py\", line 1107, in check_array\n",
      "    _assert_all_finite(\n",
      "  File \"C:\\Users\\teode\\IdeaProjects\\AppliedArtificialIntelligence\\venv\\lib\\site-packages\\sklearn\\utils\\validation.py\", line 120, in _assert_all_finite\n",
      "    _assert_all_finite_element_wise(\n",
      "  File \"C:\\Users\\teode\\IdeaProjects\\AppliedArtificialIntelligence\\venv\\lib\\site-packages\\sklearn\\utils\\validation.py\", line 169, in _assert_all_finite_element_wise\n",
      "    raise ValueError(msg_err)\n",
      "ValueError: Input contains NaN.\n",
      "\n",
      "  warnings.warn(\n",
      "C:\\Users\\teode\\IdeaProjects\\AppliedArtificialIntelligence\\venv\\lib\\site-packages\\sklearn\\neighbors\\_regression.py:508: UserWarning: One or more samples have no neighbors within specified radius; predicting NaN.\n",
      "  warnings.warn(empty_warning_msg)\n",
      "C:\\Users\\teode\\IdeaProjects\\AppliedArtificialIntelligence\\venv\\lib\\site-packages\\sklearn\\model_selection\\_validation.py:978: UserWarning: Scoring failed. The score on this train-test partition for these parameters will be set to nan. Details: \n",
      "Traceback (most recent call last):\n",
      "  File \"C:\\Users\\teode\\IdeaProjects\\AppliedArtificialIntelligence\\venv\\lib\\site-packages\\sklearn\\metrics\\_scorer.py\", line 144, in __call__\n",
      "    score = scorer(estimator, *args, **routed_params.get(name).score)\n",
      "  File \"C:\\Users\\teode\\IdeaProjects\\AppliedArtificialIntelligence\\venv\\lib\\site-packages\\sklearn\\metrics\\_scorer.py\", line 472, in __call__\n",
      "    return estimator.score(*args, **kwargs)\n",
      "  File \"C:\\Users\\teode\\IdeaProjects\\AppliedArtificialIntelligence\\venv\\lib\\site-packages\\sklearn\\base.py\", line 663, in score\n",
      "    return r2_score(y, y_pred, sample_weight=sample_weight)\n",
      "  File \"C:\\Users\\teode\\IdeaProjects\\AppliedArtificialIntelligence\\venv\\lib\\site-packages\\sklearn\\utils\\_param_validation.py\", line 216, in wrapper\n",
      "    return func(*args, **kwargs)\n",
      "  File \"C:\\Users\\teode\\IdeaProjects\\AppliedArtificialIntelligence\\venv\\lib\\site-packages\\sklearn\\metrics\\_regression.py\", line 1257, in r2_score\n",
      "    _check_reg_targets_with_floating_dtype(\n",
      "  File \"C:\\Users\\teode\\IdeaProjects\\AppliedArtificialIntelligence\\venv\\lib\\site-packages\\sklearn\\metrics\\_regression.py\", line 198, in _check_reg_targets_with_floating_dtype\n",
      "    y_type, y_true, y_pred, multioutput = _check_reg_targets(\n",
      "  File \"C:\\Users\\teode\\IdeaProjects\\AppliedArtificialIntelligence\\venv\\lib\\site-packages\\sklearn\\metrics\\_regression.py\", line 106, in _check_reg_targets\n",
      "    y_pred = check_array(y_pred, ensure_2d=False, dtype=dtype)\n",
      "  File \"C:\\Users\\teode\\IdeaProjects\\AppliedArtificialIntelligence\\venv\\lib\\site-packages\\sklearn\\utils\\validation.py\", line 1107, in check_array\n",
      "    _assert_all_finite(\n",
      "  File \"C:\\Users\\teode\\IdeaProjects\\AppliedArtificialIntelligence\\venv\\lib\\site-packages\\sklearn\\utils\\validation.py\", line 120, in _assert_all_finite\n",
      "    _assert_all_finite_element_wise(\n",
      "  File \"C:\\Users\\teode\\IdeaProjects\\AppliedArtificialIntelligence\\venv\\lib\\site-packages\\sklearn\\utils\\validation.py\", line 169, in _assert_all_finite_element_wise\n",
      "    raise ValueError(msg_err)\n",
      "ValueError: Input contains NaN.\n",
      "\n",
      "  warnings.warn(\n",
      "C:\\Users\\teode\\IdeaProjects\\AppliedArtificialIntelligence\\venv\\lib\\site-packages\\sklearn\\neighbors\\_regression.py:508: UserWarning: One or more samples have no neighbors within specified radius; predicting NaN.\n",
      "  warnings.warn(empty_warning_msg)\n",
      "C:\\Users\\teode\\IdeaProjects\\AppliedArtificialIntelligence\\venv\\lib\\site-packages\\sklearn\\model_selection\\_validation.py:978: UserWarning: Scoring failed. The score on this train-test partition for these parameters will be set to nan. Details: \n",
      "Traceback (most recent call last):\n",
      "  File \"C:\\Users\\teode\\IdeaProjects\\AppliedArtificialIntelligence\\venv\\lib\\site-packages\\sklearn\\metrics\\_scorer.py\", line 144, in __call__\n",
      "    score = scorer(estimator, *args, **routed_params.get(name).score)\n",
      "  File \"C:\\Users\\teode\\IdeaProjects\\AppliedArtificialIntelligence\\venv\\lib\\site-packages\\sklearn\\metrics\\_scorer.py\", line 472, in __call__\n",
      "    return estimator.score(*args, **kwargs)\n",
      "  File \"C:\\Users\\teode\\IdeaProjects\\AppliedArtificialIntelligence\\venv\\lib\\site-packages\\sklearn\\base.py\", line 663, in score\n",
      "    return r2_score(y, y_pred, sample_weight=sample_weight)\n",
      "  File \"C:\\Users\\teode\\IdeaProjects\\AppliedArtificialIntelligence\\venv\\lib\\site-packages\\sklearn\\utils\\_param_validation.py\", line 216, in wrapper\n",
      "    return func(*args, **kwargs)\n",
      "  File \"C:\\Users\\teode\\IdeaProjects\\AppliedArtificialIntelligence\\venv\\lib\\site-packages\\sklearn\\metrics\\_regression.py\", line 1257, in r2_score\n",
      "    _check_reg_targets_with_floating_dtype(\n",
      "  File \"C:\\Users\\teode\\IdeaProjects\\AppliedArtificialIntelligence\\venv\\lib\\site-packages\\sklearn\\metrics\\_regression.py\", line 198, in _check_reg_targets_with_floating_dtype\n",
      "    y_type, y_true, y_pred, multioutput = _check_reg_targets(\n",
      "  File \"C:\\Users\\teode\\IdeaProjects\\AppliedArtificialIntelligence\\venv\\lib\\site-packages\\sklearn\\metrics\\_regression.py\", line 106, in _check_reg_targets\n",
      "    y_pred = check_array(y_pred, ensure_2d=False, dtype=dtype)\n",
      "  File \"C:\\Users\\teode\\IdeaProjects\\AppliedArtificialIntelligence\\venv\\lib\\site-packages\\sklearn\\utils\\validation.py\", line 1107, in check_array\n",
      "    _assert_all_finite(\n",
      "  File \"C:\\Users\\teode\\IdeaProjects\\AppliedArtificialIntelligence\\venv\\lib\\site-packages\\sklearn\\utils\\validation.py\", line 120, in _assert_all_finite\n",
      "    _assert_all_finite_element_wise(\n",
      "  File \"C:\\Users\\teode\\IdeaProjects\\AppliedArtificialIntelligence\\venv\\lib\\site-packages\\sklearn\\utils\\validation.py\", line 169, in _assert_all_finite_element_wise\n",
      "    raise ValueError(msg_err)\n",
      "ValueError: Input contains NaN.\n",
      "\n",
      "  warnings.warn(\n",
      "C:\\Users\\teode\\IdeaProjects\\AppliedArtificialIntelligence\\venv\\lib\\site-packages\\sklearn\\neighbors\\_regression.py:508: UserWarning: One or more samples have no neighbors within specified radius; predicting NaN.\n",
      "  warnings.warn(empty_warning_msg)\n",
      "C:\\Users\\teode\\IdeaProjects\\AppliedArtificialIntelligence\\venv\\lib\\site-packages\\sklearn\\model_selection\\_validation.py:978: UserWarning: Scoring failed. The score on this train-test partition for these parameters will be set to nan. Details: \n",
      "Traceback (most recent call last):\n",
      "  File \"C:\\Users\\teode\\IdeaProjects\\AppliedArtificialIntelligence\\venv\\lib\\site-packages\\sklearn\\metrics\\_scorer.py\", line 144, in __call__\n",
      "    score = scorer(estimator, *args, **routed_params.get(name).score)\n",
      "  File \"C:\\Users\\teode\\IdeaProjects\\AppliedArtificialIntelligence\\venv\\lib\\site-packages\\sklearn\\metrics\\_scorer.py\", line 472, in __call__\n",
      "    return estimator.score(*args, **kwargs)\n",
      "  File \"C:\\Users\\teode\\IdeaProjects\\AppliedArtificialIntelligence\\venv\\lib\\site-packages\\sklearn\\base.py\", line 663, in score\n",
      "    return r2_score(y, y_pred, sample_weight=sample_weight)\n",
      "  File \"C:\\Users\\teode\\IdeaProjects\\AppliedArtificialIntelligence\\venv\\lib\\site-packages\\sklearn\\utils\\_param_validation.py\", line 216, in wrapper\n",
      "    return func(*args, **kwargs)\n",
      "  File \"C:\\Users\\teode\\IdeaProjects\\AppliedArtificialIntelligence\\venv\\lib\\site-packages\\sklearn\\metrics\\_regression.py\", line 1257, in r2_score\n",
      "    _check_reg_targets_with_floating_dtype(\n",
      "  File \"C:\\Users\\teode\\IdeaProjects\\AppliedArtificialIntelligence\\venv\\lib\\site-packages\\sklearn\\metrics\\_regression.py\", line 198, in _check_reg_targets_with_floating_dtype\n",
      "    y_type, y_true, y_pred, multioutput = _check_reg_targets(\n",
      "  File \"C:\\Users\\teode\\IdeaProjects\\AppliedArtificialIntelligence\\venv\\lib\\site-packages\\sklearn\\metrics\\_regression.py\", line 106, in _check_reg_targets\n",
      "    y_pred = check_array(y_pred, ensure_2d=False, dtype=dtype)\n",
      "  File \"C:\\Users\\teode\\IdeaProjects\\AppliedArtificialIntelligence\\venv\\lib\\site-packages\\sklearn\\utils\\validation.py\", line 1107, in check_array\n",
      "    _assert_all_finite(\n",
      "  File \"C:\\Users\\teode\\IdeaProjects\\AppliedArtificialIntelligence\\venv\\lib\\site-packages\\sklearn\\utils\\validation.py\", line 120, in _assert_all_finite\n",
      "    _assert_all_finite_element_wise(\n",
      "  File \"C:\\Users\\teode\\IdeaProjects\\AppliedArtificialIntelligence\\venv\\lib\\site-packages\\sklearn\\utils\\validation.py\", line 169, in _assert_all_finite_element_wise\n",
      "    raise ValueError(msg_err)\n",
      "ValueError: Input contains NaN.\n",
      "\n",
      "  warnings.warn(\n",
      "C:\\Users\\teode\\IdeaProjects\\AppliedArtificialIntelligence\\venv\\lib\\site-packages\\sklearn\\neighbors\\_regression.py:508: UserWarning: One or more samples have no neighbors within specified radius; predicting NaN.\n",
      "  warnings.warn(empty_warning_msg)\n",
      "C:\\Users\\teode\\IdeaProjects\\AppliedArtificialIntelligence\\venv\\lib\\site-packages\\sklearn\\model_selection\\_validation.py:978: UserWarning: Scoring failed. The score on this train-test partition for these parameters will be set to nan. Details: \n",
      "Traceback (most recent call last):\n",
      "  File \"C:\\Users\\teode\\IdeaProjects\\AppliedArtificialIntelligence\\venv\\lib\\site-packages\\sklearn\\metrics\\_scorer.py\", line 144, in __call__\n",
      "    score = scorer(estimator, *args, **routed_params.get(name).score)\n",
      "  File \"C:\\Users\\teode\\IdeaProjects\\AppliedArtificialIntelligence\\venv\\lib\\site-packages\\sklearn\\metrics\\_scorer.py\", line 472, in __call__\n",
      "    return estimator.score(*args, **kwargs)\n",
      "  File \"C:\\Users\\teode\\IdeaProjects\\AppliedArtificialIntelligence\\venv\\lib\\site-packages\\sklearn\\base.py\", line 663, in score\n",
      "    return r2_score(y, y_pred, sample_weight=sample_weight)\n",
      "  File \"C:\\Users\\teode\\IdeaProjects\\AppliedArtificialIntelligence\\venv\\lib\\site-packages\\sklearn\\utils\\_param_validation.py\", line 216, in wrapper\n",
      "    return func(*args, **kwargs)\n",
      "  File \"C:\\Users\\teode\\IdeaProjects\\AppliedArtificialIntelligence\\venv\\lib\\site-packages\\sklearn\\metrics\\_regression.py\", line 1257, in r2_score\n",
      "    _check_reg_targets_with_floating_dtype(\n",
      "  File \"C:\\Users\\teode\\IdeaProjects\\AppliedArtificialIntelligence\\venv\\lib\\site-packages\\sklearn\\metrics\\_regression.py\", line 198, in _check_reg_targets_with_floating_dtype\n",
      "    y_type, y_true, y_pred, multioutput = _check_reg_targets(\n",
      "  File \"C:\\Users\\teode\\IdeaProjects\\AppliedArtificialIntelligence\\venv\\lib\\site-packages\\sklearn\\metrics\\_regression.py\", line 106, in _check_reg_targets\n",
      "    y_pred = check_array(y_pred, ensure_2d=False, dtype=dtype)\n",
      "  File \"C:\\Users\\teode\\IdeaProjects\\AppliedArtificialIntelligence\\venv\\lib\\site-packages\\sklearn\\utils\\validation.py\", line 1107, in check_array\n",
      "    _assert_all_finite(\n",
      "  File \"C:\\Users\\teode\\IdeaProjects\\AppliedArtificialIntelligence\\venv\\lib\\site-packages\\sklearn\\utils\\validation.py\", line 120, in _assert_all_finite\n",
      "    _assert_all_finite_element_wise(\n",
      "  File \"C:\\Users\\teode\\IdeaProjects\\AppliedArtificialIntelligence\\venv\\lib\\site-packages\\sklearn\\utils\\validation.py\", line 169, in _assert_all_finite_element_wise\n",
      "    raise ValueError(msg_err)\n",
      "ValueError: Input contains NaN.\n",
      "\n",
      "  warnings.warn(\n"
     ]
    },
    {
     "data": {
      "text/plain": "<Figure size 640x480 with 1 Axes>",
      "image/png": "[encoded data removed]"
     },
     "metadata": {},
     "output_type": "display_data"
    },
    {
     "name": "stdout",
     "output_type": "stream",
     "text": [
      "The optimal radius is 1.0\n",
      "The validated score of the optimal model is nan\n"
     ]
    }
   ],
   "source": [
    "from sklearn.neighbors import RadiusNeighborsRegressor\n",
    "from sklearn.model_selection import cross_val_score\n",
    "\n",
    "Radius = np.linspace(1,10,10)    # This will give an array of numbers between 1 and 10\n",
    "cv_scores = []\n",
    "sd_scores = []\n",
    "\n",
    "# perform 5-fold cross validation on the 10 possible values for the radius (bandwith)\n",
    "for k in Radius:\n",
    "    Rnn = RadiusNeighborsRegressor(radius= k)\n",
    "    scores = cross_val_score(Rnn, X_train_stand, y_train,  cv=5)\n",
    "    # store the average score\n",
    "    cv_scores.append(scores.mean())\n",
    "    # store the standard deviation of the score\n",
    "    sd_scores.append(np.sqrt(scores.var())/np.sqrt(5))\n",
    "\n",
    "max_value = max(cv_scores)\n",
    "max_index = cv_scores.index(max_value)\n",
    "\n",
    "plt.plot(Radius, cv_scores)\n",
    "plt.xlabel('Radius of Neighbors ')\n",
    "plt.ylabel('R^2')\n",
    "\n",
    "plt.show()\n",
    "\n",
    "print('The optimal radius is '+str(Radius[max_index]))\n",
    "print('The validated score of the optimal model is '+str(max_value))\n",
    "\n",
    "\n",
    " "
   ]
  },
  {
   "cell_type": "markdown",
   "metadata": {},
   "source": [
    "2. Crossvalidation that works."
   ]
  },
  {
   "cell_type": "code",
   "execution_count": 9,
   "metadata": {
    "ExecuteTime": {
     "end_time": "2025-04-11T06:27:10.460467900Z",
     "start_time": "2025-04-11T06:27:08.612694700Z"
    }
   },
   "outputs": [],
   "source": [
    "\n",
    "# cross-validation\n",
    "Radius = np.linspace(7,17,10)\n",
    "cv_scores = []\n",
    "sd_scores = []\n",
    "\n",
    "for k in Radius:\n",
    "    Rnn = RadiusNeighborsRegressor(radius= k)\n",
    "    scores = cross_val_score(Rnn, X_train_stand, y_train,  cv=5)\n",
    "    cv_scores.append(scores.mean())\n",
    "    sd_scores.append(np.sqrt(scores.var())/np.sqrt(5))\n",
    " "
   ]
  },
  {
   "cell_type": "code",
   "execution_count": 10,
   "metadata": {
    "ExecuteTime": {
     "end_time": "2025-04-11T06:27:10.647643Z",
     "start_time": "2025-04-11T06:27:10.461467500Z"
    }
   },
   "outputs": [
    {
     "name": "stdout",
     "output_type": "stream",
     "text": [
      "The optimal radius is 7.0\n",
      "The validated score of the optimal model is 0.3261767980202171\n"
     ]
    },
    {
     "data": {
      "text/plain": "<Figure size 640x480 with 1 Axes>",
      "image/png": "[encoded data removed]"
     },
     "metadata": {},
     "output_type": "display_data"
    }
   ],
   "source": [
    "# plot\n",
    "\n",
    "\n",
    "max_value = max(cv_scores)\n",
    "max_index = cv_scores.index(max_value)\n",
    "\n",
    "\n",
    "# Plit the radius versus the cv_scores\n",
    "plt.plot(Radius, cv_scores)\n",
    "plt.xlabel('Radius of Neighbors ')\n",
    "plt.ylabel('R^2')\n",
    "\n",
    "\n",
    "print('The optimal radius is '+str(Radius[max_index]))\n",
    "print('The validated score of the optimal model is '+str(max_value))\n",
    "\n",
    "\n",
    "# plot the lower limit (max - 1.96 * sd.dev)\n",
    "lower_bound = max_value - 1.96 * sd_scores[max_index]\n",
    "plt.axhline(y=lower_bound, color='r', linestyle='--', label='Lower 95% CI Bound')\n",
    "plt.show()\n",
    "\n"
   ]
  },
  {
   "cell_type": "markdown",
   "metadata": {},
   "source": [
    "# Plit the radius versus the cv_scores## 3.2 K-nearest Neighbors\n",
    "1. Perform a crossvalidation, using k-nearest neighbors regression, with k ranging from 1 to 65\n",
    "    \n",
    "2. Plot the number of neighbors (k) to the R2\n",
    "    + Also draw the lower boundary of the confidene interval of the maximum R2(maximum R2 - 1.96 * sd(of maximum R2) )\n",
    "    + First do a general plot\n",
    "    + Then zoom in on the highest values \n",
    "    + Which k leads to the highest R2\n",
    "\n"
   ]
  },
  {
   "cell_type": "markdown",
   "metadata": {},
   "source": [
    "1. Cross-validation"
   ]
  },
  {
   "cell_type": "code",
   "execution_count": 21,
   "metadata": {
    "ExecuteTime": {
     "end_time": "2025-04-11T06:29:10.070473Z",
     "start_time": "2025-04-11T06:29:06.411594900Z"
    }
   },
   "outputs": [],
   "source": [
    "from sklearn.neighbors import KNeighborsRegressor\n",
    "from sklearn.model_selection import cross_val_score\n",
    "\n",
    "K = np.arange(1,65)\n",
    "cv_scores = []\n",
    "sd_scores = []\n",
    "# perform 5-fold cross validation on the  possible values for the radius (bandwith)\n",
    "for k in K:\n",
    "    knn = KNeighborsRegressor(n_neighbors= k)\n",
    "    scores = cross_val_score(knn, X_train_stand, y_train, cv=5)\n",
    "    cv_scores.append(scores.mean())\n",
    "    sd_scores.append(np.sqrt(scores.var())/np.sqrt(5))\n",
    "\n",
    " "
   ]
  },
  {
   "cell_type": "markdown",
   "metadata": {},
   "source": [
    "2. plots"
   ]
  },
  {
   "cell_type": "code",
   "execution_count": 22,
   "metadata": {
    "ExecuteTime": {
     "end_time": "2025-04-11T06:29:17.114676Z",
     "start_time": "2025-04-11T06:29:17.006043400Z"
    }
   },
   "outputs": [
    {
     "data": {
      "text/plain": "<Figure size 640x480 with 1 Axes>",
      "image/png": "[encoded data removed]"
     },
     "metadata": {},
     "output_type": "display_data"
    },
    {
     "name": "stdout",
     "output_type": "stream",
     "text": [
      "The best k is 5\n"
     ]
    }
   ],
   "source": [
    "max_value = max(cv_scores)\n",
    "max_index = cv_scores.index(max_value)\n",
    "\n",
    "plt.plot(K, cv_scores)\n",
    "plt.xlabel('k Neighbors ')\n",
    "plt.ylabel('R^2')\n",
    "\n",
    "lower_bound = max_value - 1.96 * sd_scores[max_index]\n",
    "\n",
    "plt.show()\n",
    "print('The best k is', K[max_index])"
   ]
  },
  {
   "cell_type": "markdown",
   "metadata": {},
   "source": [
    "This plot is hard to read, so lets zoom in."
   ]
  },
  {
   "cell_type": "code",
   "execution_count": 13,
   "metadata": {
    "ExecuteTime": {
     "end_time": "2025-04-11T06:27:24.770160500Z",
     "start_time": "2025-04-11T06:27:24.597960400Z"
    }
   },
   "outputs": [
    {
     "data": {
      "text/plain": "<Figure size 640x480 with 1 Axes>",
      "image/png": "[encoded data removed]"
     },
     "metadata": {},
     "output_type": "display_data"
    },
    {
     "name": "stdout",
     "output_type": "stream",
     "text": [
      "The best k is 4\n",
      "The best validation score is 0.4260393299973175\n"
     ]
    }
   ],
   "source": [
    "\n",
    "plt.plot(K[2: 10],cv_scores[2 : 10])\n",
    "plt.xlabel('k Neighbors ')\n",
    "plt.ylabel('R^2')\n",
    "\n",
    "\n",
    "plt.show()\n",
    "print('The best k is', max_index)\n",
    "print('The best validation score is', max_value)\n"
   ]
  },
  {
   "cell_type": "markdown",
   "metadata": {},
   "source": [
    "3. Retrain and test\n"
   ]
  },
  {
   "cell_type": "code",
   "execution_count": 14,
   "metadata": {
    "ExecuteTime": {
     "end_time": "2025-04-11T06:27:24.875185500Z",
     "start_time": "2025-04-11T06:27:24.767161400Z"
    }
   },
   "outputs": [
    {
     "name": "stdout",
     "output_type": "stream",
     "text": [
      "train value for k=5: 0.5532274100866279\n",
      "test value for k=5: 0.5114098298885963\n"
     ]
    }
   ],
   "source": [
    "# Retrain on full training dataset and test on test-set\n",
    "\n",
    "knn = KNeighborsRegressor(n_neighbors=10)\n",
    "knn.fit(X_train_stand, y_train)\n",
    "# Evaluate on training set\n",
    "train_score = knn.score(X_train_stand, y_train)\n",
    "\n",
    "# Evaluate on test set\n",
    "test_score = knn.score(X_test_stand, y_test)\n",
    "\n",
    "print('train value for k=5:', train_score)\n",
    "print('test value for k=5:', test_score )\n"
   ]
  },
  {
   "cell_type": "markdown",
   "metadata": {},
   "source": [
    "# 4. Penalisation\n",
    "\n",
    "Untill know, we have seen that polynomial regression  leads to overfitting and knn leads to underfitting on this dataset, because of the curse of high dimensionality. Now, we will try a different approach, namely combining polynomial regression with penalisation."
   ]
  },
  {
   "cell_type": "markdown",
   "metadata": {},
   "source": [
    "1. Design polynomial features with degree 3\n",
    "    + Don't forget to also transform the test data\n",
    "    + Check the number of features of the new datasets: are there more observations or more features?\n",
    "2. Do lasso-penalisation, using the default alpha. \n",
    "    + Use linear_model.Lasso()\n",
    "    + Test on train and test set\n",
    "    + Is the model overfitted or underfitted?   \n",
    "    + Look at the coefficients. Does this explain the overfitting or underfitting?\n",
    "3. Do a cross-validation to find the best value for alpha. Let the function choose the values for alpha itself.\n",
    "    +  Would you say this model is overfitted, underfitted or neither?"
   ]
  },
  {
   "cell_type": "markdown",
   "metadata": {},
   "source": [
    "1. Design polynomial features"
   ]
  },
  {
   "cell_type": "code",
   "execution_count": 23,
   "metadata": {
    "ExecuteTime": {
     "end_time": "2025-04-11T07:52:02.610247300Z",
     "start_time": "2025-04-11T07:52:02.540675600Z"
    }
   },
   "outputs": [
    {
     "data": {
      "text/plain": "(642, 10660)"
     },
     "execution_count": 23,
     "metadata": {},
     "output_type": "execute_result"
    }
   ],
   "source": [
    "from sklearn.preprocessing import PolynomialFeatures\n",
    "\n",
    "poly = PolynomialFeatures(degree=3)\n",
    "X_train_poly = poly.fit_transform(X_train_stand)\n",
    "X_test_poly = poly.transform(X_test_stand)\n",
    "print(X_train_poly.shape)\n",
    "\n",
    "print('there are more features then there are observations. Risk of overfitting is huge. The modal has more freedom then the data justifies, it will memorize the training data instead of generalizin')"
   ]
  },
  {
   "cell_type": "markdown",
   "metadata": {},
   "source": [
    "2. Lasso-penalisation"
   ]
  },
  {
   "cell_type": "code",
   "execution_count": 24,
   "metadata": {
    "ExecuteTime": {
     "end_time": "2025-04-11T07:55:33.299498500Z",
     "start_time": "2025-04-11T07:55:33.184980200Z"
    }
   },
   "outputs": [
    {
     "name": "stdout",
     "output_type": "stream",
     "text": [
      "R2: 0.000\n",
      "R2: -0.009\n"
     ]
    }
   ],
   "source": [
    "from sklearn import linear_model\n",
    "linreg_lasso1 = linear_model.Lasso()\n",
    "linreg_lasso1.fit(X_train_poly, y_train)\n",
    "print('R2: %.3f' % linreg_lasso1.score(X_train_poly, y_train))\n",
    "print('R2: %.3f' % linreg_lasso1.score(X_test_poly, y_test))"
   ]
  },
  {
   "cell_type": "code",
   "execution_count": 27,
   "metadata": {
    "ExecuteTime": {
     "end_time": "2025-04-11T07:56:38.152620700Z",
     "start_time": "2025-04-11T07:56:38.119103Z"
    }
   },
   "outputs": [
    {
     "name": "stdout",
     "output_type": "stream",
     "text": [
      "[ 0.  0.  0. ...  0. -0.  0.]\n",
      "All coefficients are shrunken down to 0. Offcourse our model is underfitted.\n"
     ]
    }
   ],
   "source": [
    "# look at the coefficients (use .coef_)\n",
    "print(linreg_lasso1.coef_)\n",
    "print('All coefficients are shrunken down to 0. Offcourse our model is underfitted.')"
   ]
  },
  {
   "cell_type": "markdown",
   "metadata": {},
   "source": [
    "3. Cross-validation"
   ]
  },
  {
   "cell_type": "code",
   "execution_count": 28,
   "metadata": {
    "ExecuteTime": {
     "end_time": "2025-04-11T08:08:35.832503600Z",
     "start_time": "2025-04-11T07:58:14.395442600Z"
    }
   },
   "outputs": [
    {
     "name": "stderr",
     "output_type": "stream",
     "text": [
      "C:\\Users\\teode\\IdeaProjects\\AppliedArtificialIntelligence\\venv\\lib\\site-packages\\sklearn\\linear_model\\_coordinate_descent.py:695: ConvergenceWarning: Objective did not converge. You might want to increase the number of iterations, check the scale of the features or consider increasing regularisation. Duality gap: 5.562e-03, tolerance: 4.645e-03\n",
      "  model = cd_fast.enet_coordinate_descent(\n"
     ]
    },
    {
     "name": "stdout",
     "output_type": "stream",
     "text": [
      "R2 : 0.802\n",
      "R2 : 0.698\n"
     ]
    }
   ],
   "source": [
    "from sklearn.linear_model import LassoCV\n",
    "linreg_lassoCV = LassoCV(cv=5, random_state=123, max_iter=5000)\n",
    "linreg_lassoCV.fit(X_train_poly, y_train)\n",
    "\n",
    "#results training\n",
    "print('R2 : %.3f' % linreg_lassoCV.score(X_train_poly, y_train))\n",
    "\n",
    "# results test\n",
    "print('R2 : %.3f' % linreg_lassoCV.score(X_test_poly, y_test))"
   ]
  },
  {
   "cell_type": "markdown",
   "metadata": {},
   "source": [
    "Note that this takes some time to run. Also note that applying the score function to the object containing the cross-validation automatically fits the best model from the CV! This saves us some work. You can ask for the value if you want to know it ofcourse."
   ]
  },
  {
   "cell_type": "code",
   "execution_count": 29,
   "metadata": {
    "ExecuteTime": {
     "end_time": "2025-04-11T08:09:14.664913500Z",
     "start_time": "2025-04-11T08:09:14.647929300Z"
    }
   },
   "outputs": [
    {
     "data": {
      "text/plain": "np.float64(0.015101974492539522)"
     },
     "execution_count": 29,
     "metadata": {},
     "output_type": "execute_result"
    }
   ],
   "source": [
    "# Ask for the alpha value of the best model (.alpha_)\n",
    "linreg_lassoCV.alpha_"
   ]
  },
  {
   "cell_type": "code",
   "execution_count": 31,
   "metadata": {
    "ExecuteTime": {
     "end_time": "2025-04-11T08:12:16.404575600Z",
     "start_time": "2025-04-11T08:12:16.366058700Z"
    }
   },
   "outputs": [
    {
     "name": "stdout",
     "output_type": "stream",
     "text": [
      "0.6980771805237506\n",
      "0.802159178775305\n"
     ]
    }
   ],
   "source": [
    "# Get the results for the training and test set\n",
    "print(linreg_lassoCV.score(X_test_poly, y_test))\n",
    "print(linreg_lassoCV.score(X_train_poly, y_train))"
   ]
  },
  {
   "cell_type": "code",
   "execution_count": null,
   "metadata": {
    "ExecuteTime": {
     "start_time": "2025-04-11T06:27:26.100819300Z"
    }
   },
   "outputs": [],
   "source": []
  }
 ],
 "metadata": {
  "kernelspec": {
   "display_name": "Python 3",
   "language": "python",
   "name": "python3"
  },
  "language_info": {
   "codemirror_mode": {
    "name": "ipython",
    "version": 3
   },
   "file_extension": ".py",
   "mimetype": "text/x-python",
   "name": "python",
   "nbconvert_exporter": "python",
   "pygments_lexer": "ipython3",
   "version": "3.7.6"
  }
 },
 "nbformat": 4,
 "nbformat_minor": 2
}
