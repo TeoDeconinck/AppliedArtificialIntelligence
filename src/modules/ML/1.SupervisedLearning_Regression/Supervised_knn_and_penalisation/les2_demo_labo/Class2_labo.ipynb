{
 "cells": [
  {
   "cell_type": "markdown",
   "metadata": {
    "id": "8WdaniHO06Jl"
   },
   "source": [
    "# Supervised learning- regression"
   ]
  },
  {
   "cell_type": "markdown",
   "metadata": {
    "id": "g9Iem68N06Ju"
   },
   "source": [
    "A real estate agent currently only has Single-Family housed in his portfolio. He wants to expand his business to apartments, but he doesn't have enough experience to give reliable appraisels. Getting the necessary experience would take a lot of time and he doesn't have any colleagues to fall back on. He knows we are following a machine learning course and has a brilliant idea. He give us a data-set with a lot of information on real estate, including the known selling price (tx_price).  He asks us to build a real-estate pricing model for apartmens.\n",
    "\n",
    "We already cleaned this dataset in the first class (the data hasn't been standardized yet). Perform a simple linear regression and polynomial regression to predict the price for apartments."
   ]
  },
  {
   "cell_type": "markdown",
   "metadata": {
    "id": "FJlBDGyt06Jv"
   },
   "source": [
    "## 0. Loading packages and dataset"
   ]
  },
  {
   "cell_type": "code",
   "execution_count": 1,
   "metadata": {
    "id": "p7xr6UVM06Jw",
    "ExecuteTime": {
     "end_time": "2025-04-06T19:29:20.245036900Z",
     "start_time": "2025-04-06T19:29:20.205511700Z"
    }
   },
   "outputs": [],
   "source": [
    "%matplotlib inline\n",
    "import numpy as np\n",
    "import pandas as pd\n",
    "import matplotlib as mpl\n",
    "import matplotlib.pyplot as plt\n",
    "import seaborn as sns\n",
    "\n"
   ]
  },
  {
   "cell_type": "code",
   "execution_count": 4,
   "metadata": {
    "id": "K5DKm25N06Jx",
    "ExecuteTime": {
     "end_time": "2025-04-06T19:30:17.392413600Z",
     "start_time": "2025-04-06T19:30:17.330310300Z"
    }
   },
   "outputs": [],
   "source": [
    "df = pd.read_csv('real_estate_cleaned.csv')"
   ]
  },
  {
   "cell_type": "markdown",
   "metadata": {
    "id": "i7Haa9RN06Jy"
   },
   "source": [
    "The dataset is already cleaned, but not standardized yet. We will take a quick look at the data to get to know the dataset."
   ]
  },
  {
   "cell_type": "markdown",
   "metadata": {
    "id": "dr30UcrW06Jy"
   },
   "source": [
    "# 1. Take a look at the data\n",
    "1. Look at the dimensions (number of features and observations)\n",
    "2. Look at the first 5 rows\n",
    "3. Look at the different features and there data types\n",
    "    + What do you notice with regard to the datatypes of the one-hot encoded features?\n",
    "    + Fix this\n",
    "\n",
    "\n"
   ]
  },
  {
   "cell_type": "markdown",
   "metadata": {
    "id": "313GOCbp06Jz"
   },
   "source": [
    "1. Dimensions"
   ]
  },
  {
   "cell_type": "code",
   "execution_count": 5,
   "metadata": {
    "id": "-97l3_kE06Jz",
    "ExecuteTime": {
     "end_time": "2025-04-06T19:30:46.256236400Z",
     "start_time": "2025-04-06T19:30:46.168307900Z"
    }
   },
   "outputs": [
    {
     "name": "stdout",
     "output_type": "stream",
     "text": [
      "<class 'pandas.core.frame.DataFrame'>\n",
      "RangeIndex: 803 entries, 0 to 802\n",
      "Data columns (total 39 columns):\n",
      " #   Column                              Non-Null Count  Dtype  \n",
      "---  ------                              --------------  -----  \n",
      " 0   tx_price                            803 non-null    float64\n",
      " 1   beds                                803 non-null    int64  \n",
      " 2   baths                               803 non-null    int64  \n",
      " 3   sqft                                803 non-null    float64\n",
      " 4   year_built                          803 non-null    int64  \n",
      " 5   lot_size                            803 non-null    float64\n",
      " 6   restaurants                         803 non-null    float64\n",
      " 7   groceries                           803 non-null    float64\n",
      " 8   nightlife                           803 non-null    float64\n",
      " 9   cafes                               803 non-null    float64\n",
      " 10  shopping                            803 non-null    float64\n",
      " 11  arts_entertainment                  803 non-null    float64\n",
      " 12  beauty_spas                         803 non-null    float64\n",
      " 13  active_life                         803 non-null    float64\n",
      " 14  median_age                          803 non-null    float64\n",
      " 15  married                             803 non-null    float64\n",
      " 16  college_grad                        803 non-null    float64\n",
      " 17  property_tax                        803 non-null    float64\n",
      " 18  insurance                           803 non-null    float64\n",
      " 19  median_school                       803 non-null    float64\n",
      " 20  num_schools                         803 non-null    float64\n",
      " 21  tx_year                             803 non-null    int64  \n",
      " 22  Missing_lot_size                    803 non-null    bool   \n",
      " 23  school_score                        803 non-null    float64\n",
      " 24  tax_per_sqft                        803 non-null    float64\n",
      " 25  exterior_walls_Brick                803 non-null    int64  \n",
      " 26  exterior_walls_Metal                803 non-null    int64  \n",
      " 27  exterior_walls_Missing              803 non-null    int64  \n",
      " 28  exterior_walls_Other                803 non-null    int64  \n",
      " 29  exterior_walls_Siding (Alum/Vinyl)  803 non-null    int64  \n",
      " 30  exterior_walls_Wood                 803 non-null    int64  \n",
      " 31  roof_Asphalt                        803 non-null    int64  \n",
      " 32  roof_Composition                    803 non-null    int64  \n",
      " 33  roof_Gravel/rock                    803 non-null    int64  \n",
      " 34  roof_Missing                        803 non-null    int64  \n",
      " 35  roof_Other                          803 non-null    int64  \n",
      " 36  roof_Shake shingle                  803 non-null    int64  \n",
      " 37  basement_1.0                        803 non-null    int64  \n",
      " 38  basement_Missing                    803 non-null    int64  \n",
      "dtypes: bool(1), float64(20), int64(18)\n",
      "memory usage: 239.3 KB\n"
     ]
    }
   ],
   "source": [
    "df.info()"
   ]
  },
  {
   "cell_type": "markdown",
   "metadata": {
    "id": "QGpJ-bBR06Jz"
   },
   "source": [
    "2. First rows"
   ]
  },
  {
   "cell_type": "code",
   "execution_count": 6,
   "metadata": {
    "id": "_1xRghRG06J0",
    "ExecuteTime": {
     "end_time": "2025-04-06T19:31:39.950461800Z",
     "start_time": "2025-04-06T19:31:39.879040200Z"
    }
   },
   "outputs": [
    {
     "data": {
      "text/plain": "    tx_price  beds  baths      sqft  year_built   lot_size  restaurants  \\\n0  12.597611     1      1  6.371612        2013   8.388054     4.682131   \n1  12.285350     1      1  6.418365        1965   8.388054     4.663439   \n2  12.542191     1      1  6.423247        1963   8.388054     5.214936   \n3  12.847666     1      1  6.428105        2000  10.420554     5.293305   \n4  12.736704     1      1  6.453625        1992   8.388054     5.010635   \n\n   groceries  nightlife     cafes  ...  exterior_walls_Siding (Alum/Vinyl)  \\\n0   2.302585   3.433987  2.995732  ...                                   0   \n1   2.772589   1.945910  2.639057  ...                                   0   \n2   2.639057   3.465736  3.433987  ...                                   0   \n3   2.302585   3.663562  3.258097  ...                                   0   \n4   2.079442   3.135494  3.044522  ...                                   0   \n\n   exterior_walls_Wood  roof_Asphalt  roof_Composition  roof_Gravel/rock  \\\n0                    1             0                 0                 0   \n1                    0             0                 1                 0   \n2                    1             0                 0                 0   \n3                    1             0                 0                 0   \n4                    0             0                 0                 0   \n\n   roof_Missing  roof_Other  roof_Shake shingle  basement_1.0  \\\n0             1           0                   0             0   \n1             0           0                   0             1   \n2             1           0                   0             0   \n3             1           0                   0             0   \n4             1           0                   0             0   \n\n   basement_Missing  \n0                 1  \n1                 0  \n2                 1  \n3                 1  \n4                 1  \n\n[5 rows x 39 columns]",
      "text/html": "<div>\n<style scoped>\n    .dataframe tbody tr th:only-of-type {\n        vertical-align: middle;\n    }\n\n    .dataframe tbody tr th {\n        vertical-align: top;\n    }\n\n    .dataframe thead th {\n        text-align: right;\n    }\n</style>\n<table border=\"1\" class=\"dataframe\">\n  <thead>\n    <tr style=\"text-align: right;\">\n      <th></th>\n      <th>tx_price</th>\n      <th>beds</th>\n      <th>baths</th>\n      <th>sqft</th>\n      <th>year_built</th>\n      <th>lot_size</th>\n      <th>restaurants</th>\n      <th>groceries</th>\n      <th>nightlife</th>\n      <th>cafes</th>\n      <th>...</th>\n      <th>exterior_walls_Siding (Alum/Vinyl)</th>\n      <th>exterior_walls_Wood</th>\n      <th>roof_Asphalt</th>\n      <th>roof_Composition</th>\n      <th>roof_Gravel/rock</th>\n      <th>roof_Missing</th>\n      <th>roof_Other</th>\n      <th>roof_Shake shingle</th>\n      <th>basement_1.0</th>\n      <th>basement_Missing</th>\n    </tr>\n  </thead>\n  <tbody>\n    <tr>\n      <th>0</th>\n      <td>12.597611</td>\n      <td>1</td>\n      <td>1</td>\n      <td>6.371612</td>\n      <td>2013</td>\n      <td>8.388054</td>\n      <td>4.682131</td>\n      <td>2.302585</td>\n      <td>3.433987</td>\n      <td>2.995732</td>\n      <td>...</td>\n      <td>0</td>\n      <td>1</td>\n      <td>0</td>\n      <td>0</td>\n      <td>0</td>\n      <td>1</td>\n      <td>0</td>\n      <td>0</td>\n      <td>0</td>\n      <td>1</td>\n    </tr>\n    <tr>\n      <th>1</th>\n      <td>12.285350</td>\n      <td>1</td>\n      <td>1</td>\n      <td>6.418365</td>\n      <td>1965</td>\n      <td>8.388054</td>\n      <td>4.663439</td>\n      <td>2.772589</td>\n      <td>1.945910</td>\n      <td>2.639057</td>\n      <td>...</td>\n      <td>0</td>\n      <td>0</td>\n      <td>0</td>\n      <td>1</td>\n      <td>0</td>\n      <td>0</td>\n      <td>0</td>\n      <td>0</td>\n      <td>1</td>\n      <td>0</td>\n    </tr>\n    <tr>\n      <th>2</th>\n      <td>12.542191</td>\n      <td>1</td>\n      <td>1</td>\n      <td>6.423247</td>\n      <td>1963</td>\n      <td>8.388054</td>\n      <td>5.214936</td>\n      <td>2.639057</td>\n      <td>3.465736</td>\n      <td>3.433987</td>\n      <td>...</td>\n      <td>0</td>\n      <td>1</td>\n      <td>0</td>\n      <td>0</td>\n      <td>0</td>\n      <td>1</td>\n      <td>0</td>\n      <td>0</td>\n      <td>0</td>\n      <td>1</td>\n    </tr>\n    <tr>\n      <th>3</th>\n      <td>12.847666</td>\n      <td>1</td>\n      <td>1</td>\n      <td>6.428105</td>\n      <td>2000</td>\n      <td>10.420554</td>\n      <td>5.293305</td>\n      <td>2.302585</td>\n      <td>3.663562</td>\n      <td>3.258097</td>\n      <td>...</td>\n      <td>0</td>\n      <td>1</td>\n      <td>0</td>\n      <td>0</td>\n      <td>0</td>\n      <td>1</td>\n      <td>0</td>\n      <td>0</td>\n      <td>0</td>\n      <td>1</td>\n    </tr>\n    <tr>\n      <th>4</th>\n      <td>12.736704</td>\n      <td>1</td>\n      <td>1</td>\n      <td>6.453625</td>\n      <td>1992</td>\n      <td>8.388054</td>\n      <td>5.010635</td>\n      <td>2.079442</td>\n      <td>3.135494</td>\n      <td>3.044522</td>\n      <td>...</td>\n      <td>0</td>\n      <td>0</td>\n      <td>0</td>\n      <td>0</td>\n      <td>0</td>\n      <td>1</td>\n      <td>0</td>\n      <td>0</td>\n      <td>0</td>\n      <td>1</td>\n    </tr>\n  </tbody>\n</table>\n<p>5 rows × 39 columns</p>\n</div>"
     },
     "execution_count": 6,
     "metadata": {},
     "output_type": "execute_result"
    }
   ],
   "source": [
    "df.head(5)"
   ]
  },
  {
   "cell_type": "markdown",
   "metadata": {
    "id": "4jihWQH806J0"
   },
   "source": [
    "3. Data types"
   ]
  },
  {
   "cell_type": "code",
   "execution_count": null,
   "metadata": {
    "id": "BaOLuDaE06J0"
   },
   "outputs": [],
   "source": [
    "..."
   ]
  },
  {
   "cell_type": "markdown",
   "metadata": {
    "id": "IKTMoecl06J0"
   },
   "source": [
    "You should have noticed that they are not in the correct data type. Convert them to uint8, using '.astype(np.uint8)'"
   ]
  },
  {
   "cell_type": "code",
   "execution_count": null,
   "metadata": {
    "id": "bBV9Ue5f06J0"
   },
   "outputs": [],
   "source": [
    "df.iloc[:,25:39] = df.iloc[:,25:39]. ...(np.uint8)"
   ]
  },
  {
   "cell_type": "code",
   "execution_count": null,
   "metadata": {
    "id": "LtidRAAs06J1"
   },
   "outputs": [],
   "source": [
    "df.info()"
   ]
  },
  {
   "cell_type": "markdown",
   "metadata": {
    "id": "KSryrIO606J1"
   },
   "source": [
    "# 2 Train/test-split and standardisation\n",
    "\n",
    "1. Shuffle your data\n",
    "\n",
    "2. Make a Train/test\n",
    "    - Use random state=123 whenever needed\n",
    "    - Use a test size of 20%\n",
    "    \n",
    "3. Standardize both datasets  \n",
    "    + Make sure you only standardise the numerical features\n"
   ]
  },
  {
   "cell_type": "markdown",
   "metadata": {
    "id": "Qqz-9B8_06J1"
   },
   "source": [
    "1. Shuffle"
   ]
  },
  {
   "cell_type": "code",
   "execution_count": null,
   "metadata": {
    "id": "gi1mcyfJ06J1"
   },
   "outputs": [],
   "source": [
    "from random import Random\n",
    "df_shuffle = df. ...(frac=1, random_state=123)\n"
   ]
  },
  {
   "cell_type": "markdown",
   "metadata": {
    "id": "GL6QSEhz06J1"
   },
   "source": [
    "2. Train/test-split"
   ]
  },
  {
   "cell_type": "code",
   "execution_count": null,
   "metadata": {
    "id": "E0m8XE5g06J1"
   },
   "outputs": [],
   "source": [
    "# Import the function\n",
    "from sklearn.model_selection import train_test_split\n",
    "\n",
    "# Split of feaures and outcomes\n",
    "X = df_shuffle.drop(columns='...')\n",
    "y = df_shuffle['...']\n",
    "\n",
    "# Perform train/test-split\n",
    "X_train, X_test, y_train, y_test = ...(X, y, test_size=..., random_state=...)\n"
   ]
  },
  {
   "cell_type": "markdown",
   "metadata": {
    "id": "sgO--iIO06J2"
   },
   "source": [
    "3. Standardize"
   ]
  },
  {
   "cell_type": "code",
   "execution_count": null,
   "metadata": {
    "id": "aXjw-cL_06J2"
   },
   "outputs": [],
   "source": [
    "from sklearn.preprocessing import StandardScaler\n",
    "\n",
    "num_feat = X_train.select_dtypes(include=['int64', 'float64']).columns\n",
    "\n",
    "scaler = StandardScaler()\n",
    "scaler. ...(X_train[num_feat])\n",
    "\n",
    "X_train_stan = X_train.copy()\n",
    "X_test_stan = X_test.copy()\n",
    "\n",
    "X_train_stan[num_feat] = scaler. ...(X_train[...])\n",
    "X_test_stan[...] = ..."
   ]
  },
  {
   "cell_type": "markdown",
   "metadata": {
    "id": "CGFiB3EC06J2"
   },
   "source": [
    "# 3. Linear regression\n",
    "1. Train a linear regression model, using the standardized data.\n",
    "2. Test the trained model on the train and the test set.\n",
    "    + Predict the price of the appartments\n",
    "    + Calculate the coefficient of determination\n",
    "    + Calculate the Mean Absolute Error (MAE)\n",
    "    + Calculate the Mean Square Error (MSE)\n",
    "    + Would you say this model is overfitted, underfitted or neither?\n",
    "\n"
   ]
  },
  {
   "cell_type": "markdown",
   "metadata": {
    "id": "RueCz6Jh06J2"
   },
   "source": [
    "1. Train"
   ]
  },
  {
   "cell_type": "code",
   "execution_count": null,
   "metadata": {
    "id": "sUSNEQZ206J2"
   },
   "outputs": [],
   "source": [
    "from sklearn.linear_model import LinearRegression\n",
    "reg= LinearRegression()\n",
    "reg.fit(..., ...)"
   ]
  },
  {
   "cell_type": "markdown",
   "metadata": {
    "id": "O696BP9806J3"
   },
   "source": [
    "2. Evaluating the model\n",
    "    + make predictions"
   ]
  },
  {
   "cell_type": "code",
   "execution_count": null,
   "metadata": {
    "id": "-8ocdl4U06J3"
   },
   "outputs": [],
   "source": [
    "predictions_train = reg.predict(...)\n",
    "predictions_test = ..."
   ]
  },
  {
   "cell_type": "markdown",
   "metadata": {
    "id": "3525Hfw506J3"
   },
   "source": [
    "   + Coefficient of determination"
   ]
  },
  {
   "cell_type": "code",
   "execution_count": null,
   "metadata": {
    "scrolled": true,
    "id": "ltxcT10806J3"
   },
   "outputs": [],
   "source": [
    "print(reg.score(..., ...))\n",
    "print(...)"
   ]
  },
  {
   "cell_type": "code",
   "execution_count": null,
   "metadata": {
    "id": "-V80IHqC06J3"
   },
   "outputs": [],
   "source": [
    "#alternative code\n",
    "from sklearn.metrics import r2_score\n",
    "print(...(y_train, predictions_train))\n",
    "print(...)\n"
   ]
  },
  {
   "cell_type": "markdown",
   "metadata": {
    "id": "oKBHtiBW06J3"
   },
   "source": [
    "+ MAE\n"
   ]
  },
  {
   "cell_type": "code",
   "execution_count": null,
   "metadata": {
    "id": "77Z-ujr906J3"
   },
   "outputs": [],
   "source": [
    "from sklearn.metrics import mean_absolute_error\n",
    "...\n",
    "..."
   ]
  },
  {
   "cell_type": "markdown",
   "metadata": {
    "id": "o6FUfJNT06J3"
   },
   "source": [
    "+ MSE"
   ]
  },
  {
   "cell_type": "code",
   "execution_count": null,
   "metadata": {
    "id": "sdnpnqnG06J3"
   },
   "outputs": [],
   "source": [
    "from sklearn.metrics import ...\n",
    "\n",
    "...\n",
    "..."
   ]
  },
  {
   "cell_type": "markdown",
   "metadata": {
    "id": "OxXFAsoy06J4"
   },
   "source": [
    "# 2. Polynomial regression\n",
    "## 2.1 Quadratic model\n",
    "\n",
    "We will do a quadratic polynomial regression to see if we can improve the reliability of the model.\n",
    "1. Design polynomial features with degree 2\n",
    "    + Don't forget to also transform the test data\n",
    "    + Check the number of features of the new datasets\n",
    "2. Fit a linear regression to the polynomial features\n",
    "    + Use the 'fit_intercept=False'-argument\n",
    "3. Evaluate the train and test-set, using R^2\n",
    "    +  Would you say this model is overfitted, underfitted or neither?\n",
    "\n"
   ]
  },
  {
   "cell_type": "markdown",
   "metadata": {
    "id": "lS6Un8NO06J4"
   },
   "source": [
    "1. Design the features"
   ]
  },
  {
   "cell_type": "code",
   "execution_count": null,
   "metadata": {
    "id": "5HWwWnu-06J4"
   },
   "outputs": [],
   "source": [
    "from sklearn.preprocessing import PolynomialFeatures\n",
    "poly = ...(degree=...)\n",
    "X_train_poly = ...\n",
    "X_test_poly = ...\n"
   ]
  },
  {
   "cell_type": "code",
   "execution_count": null,
   "metadata": {
    "id": "zVhK4_bk06J4"
   },
   "outputs": [],
   "source": [
    "#check the number of features\n",
    "..."
   ]
  },
  {
   "cell_type": "markdown",
   "metadata": {
    "id": "pzwQ-HA506J7"
   },
   "source": [
    "2. Fit the linear regression"
   ]
  },
  {
   "cell_type": "code",
   "execution_count": null,
   "metadata": {
    "id": "_z-dK3Iz06J7"
   },
   "outputs": [],
   "source": [
    "# Define the model\n",
    "reg_quad = LinearRegression(fit_intercept=...)\n",
    "\n",
    "#Fit the model\n",
    "..."
   ]
  },
  {
   "cell_type": "code",
   "execution_count": null,
   "metadata": {
    "id": "tTOEcT5o06J8"
   },
   "outputs": [],
   "source": [
    "# Evaluate\n",
    "...\n",
    "..."
   ]
  },
  {
   "cell_type": "markdown",
   "metadata": {
    "id": "pSY4HVHc06J8"
   },
   "source": [
    "## 2.2 Higher order polynomial model"
   ]
  },
  {
   "cell_type": "markdown",
   "metadata": {
    "id": "r5sQPZ0J06J8"
   },
   "source": [
    "1. Do a cross-validation to find the optimal order for the polynomial.\n",
    "    + Use a pipeline that entails two steps: engineering the polynomial features and fitting the regression\n",
    "    + Let the degree of the polynomial range from 1 to 4.\n",
    "    + Ask python to print out the R^2 for each degree\n",
    "    + What do you expect to happen? Will increasing the degree of the polynomial solve the overfitting or just make it worse?\n",
    "    \n",
    "2. Make a plot of the cross-validation results\n",
    "     + Did your expectation come true?\n",
    "    + Overfitted or underfitted?"
   ]
  },
  {
   "cell_type": "markdown",
   "metadata": {
    "id": "ciohgyaq06J8"
   },
   "source": [
    "1. Cross-validation"
   ]
  },
  {
   "cell_type": "code",
   "execution_count": null,
   "metadata": {
    "scrolled": true,
    "id": "MAhak8KB06J8"
   },
   "outputs": [],
   "source": [
    "from sklearn.pipeline import Pipeline\n",
    "\n",
    "from sklearn.model_selection import cross_val_score\n",
    "\n",
    "avg_scores = [None] * 5\n",
    "\n",
    "for i in np.arange(1,6):\n",
    "\n",
    "    reg_poly = Pipeline(... ,\n",
    "                        ...)\n",
    "\n",
    "    scores = cross_val_score(...)\n",
    "\n",
    "    avg_scores[i-1] = scores.mean()\n",
    "\n",
    "    print(\"Order \"+str(i)+\": avg R^2 = \"+str( avg_scores[i-1]))"
   ]
  },
  {
   "cell_type": "markdown",
   "metadata": {
    "id": "5jTpvXwA06J8"
   },
   "source": [
    "2. plot"
   ]
  },
  {
   "cell_type": "code",
   "execution_count": null,
   "metadata": {
    "id": "ioUvTvzl06J8"
   },
   "outputs": [],
   "source": [
    "fig, ax = plt.subplots(figsize=(8, 6))\n",
    "plt.scatter(np.arange(1,6), avg_scores, c='b', label='data')\n",
    "plt.axis('tight')\n",
    "plt.title(\"Cross-validation polynomials\")\n",
    "ax.set_xlabel(\"Order\");\n",
    "ax.set_ylabel(\"CV R^2\");\n",
    "plt.tight_layout()\n",
    "plt.show()"
   ]
  },
  {
   "cell_type": "code",
   "execution_count": null,
   "metadata": {
    "id": "aoijQfnY06J8"
   },
   "outputs": [],
   "source": []
  }
 ],
 "metadata": {
  "kernelspec": {
   "display_name": "Python 3",
   "language": "python",
   "name": "python3"
  },
  "language_info": {
   "codemirror_mode": {
    "name": "ipython",
    "version": 3
   },
   "file_extension": ".py",
   "mimetype": "text/x-python",
   "name": "python",
   "nbconvert_exporter": "python",
   "pygments_lexer": "ipython3",
   "version": "3.7.6"
  },
  "colab": {
   "provenance": []
  }
 },
 "nbformat": 4,
 "nbformat_minor": 0
}
